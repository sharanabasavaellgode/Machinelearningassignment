{
 "cells": [
  {
   "cell_type": "markdown",
   "metadata": {},
   "source": [
    "Task 1: \n",
    "1.  Install Jupyter notebook and run the first program and share the screenshot of the output\n",
    "Jupyter note is installed hence writing the first program."
   ]
  },
  {
   "cell_type": "code",
   "execution_count": 1,
   "metadata": {},
   "outputs": [
    {
     "name": "stdout",
     "output_type": "stream",
     "text": [
      "Machinelearning classes are very good sessions and very interactive\n"
     ]
    }
   ],
   "source": [
    "print(\"Machinelearning classes are very good sessions and very interactive\")"
   ]
  },
  {
   "cell_type": "markdown",
   "metadata": {},
   "source": [
    "2. Write a program which will find all such numbers which are divisible by 7 but are not a multiple of 5, between 2000 and 3200 (both included). The numbers obtained should be printed in a comma-separated sequence on a single line. "
   ]
  },
  {
   "cell_type": "code",
   "execution_count": 7,
   "metadata": {},
   "outputs": [
    {
     "name": "stdout",
     "output_type": "stream",
     "text": [
      "numbers between 2000 to 3200 which are divisible by 7 but not multiples of 5 are:\n",
      "2002 ,2009 ,2016 ,2023 ,2037 ,2044 ,2051 ,2058 ,2072 ,2079 ,2086 ,2093 ,2107 ,2114 ,2121 ,2128 ,2142 ,2149 ,2156 ,2163 ,2177 ,2184 ,2191 ,2198 ,2212 ,2219 ,2226 ,2233 ,2247 ,2254 ,2261 ,2268 ,2282 ,2289 ,2296 ,2303 ,2317 ,2324 ,2331 ,2338 ,2352 ,2359 ,2366 ,2373 ,2387 ,2394 ,2401 ,2408 ,2422 ,2429 ,2436 ,2443 ,2457 ,2464 ,2471 ,2478 ,2492 ,2499 ,2506 ,2513 ,2527 ,2534 ,2541 ,2548 ,2562 ,2569 ,2576 ,2583 ,2597 ,2604 ,2611 ,2618 ,2632 ,2639 ,2646 ,2653 ,2667 ,2674 ,2681 ,2688 ,2702 ,2709 ,2716 ,2723 ,2737 ,2744 ,2751 ,2758 ,2772 ,2779 ,2786 ,2793 ,2807 ,2814 ,2821 ,2828 ,2842 ,2849 ,2856 ,2863 ,2877 ,2884 ,2891 ,2898 ,2912 ,2919 ,2926 ,2933 ,2947 ,2954 ,2961 ,2968 ,2982 ,2989 ,2996 ,3003 ,3017 ,3024 ,3031 ,3038 ,3052 ,3059 ,3066 ,3073 ,3087 ,3094 ,3101 ,3108 ,3122 ,3129 ,3136 ,3143 ,3157 ,3164 ,3171 ,3178 ,3192 ,3199 ,"
     ]
    }
   ],
   "source": [
    "#print the heading\n",
    "print(\"numbers between 2000 to 3200 which are divisible by 7 but not multiples of 5 are:\")\n",
    "#write the required logic\n",
    "for number in range (2000,3200):\n",
    "    if number%7 == 0 :\n",
    "      if number%5 != 0 :\n",
    "        print(number,',',end='')        "
   ]
  },
  {
   "cell_type": "markdown",
   "metadata": {},
   "source": [
    "3.Write a Python program to accept the user's first and last name and then getting them printed in the the reverse order with a space between first name and last name. "
   ]
  },
  {
   "cell_type": "code",
   "execution_count": 14,
   "metadata": {},
   "outputs": [
    {
     "name": "stdout",
     "output_type": "stream",
     "text": [
      "enter your first name:Sharanabasava\n",
      "enter your last name:Ellgode\n",
      "full name in reverse order avasabanarahS edogllE\n"
     ]
    }
   ],
   "source": [
    "#Accept the first name\n",
    "firstname = input(\"enter your first name:\")\n",
    "#Accept the second name\n",
    "lastname  = input(\"enter your last name:\")\n",
    "#initialize space value\n",
    "space = ' '\n",
    "#merge both the strings by spaces. \n",
    "fullname = firstname[::-1]+space+lastname[::-1]\n",
    "print('full name in reverse order',fullname)"
   ]
  },
  {
   "cell_type": "markdown",
   "metadata": {},
   "source": [
    "4.Write a Python program to find the volume of a sphere with diameter 12 cm.  \n",
    "Formula: V=4/3 * π * r 3 "
   ]
  },
  {
   "cell_type": "code",
   "execution_count": 26,
   "metadata": {},
   "outputs": [
    {
     "name": "stdout",
     "output_type": "stream",
     "text": [
      "5184\n"
     ]
    }
   ],
   "source": [
    "#initialize\n",
    "pai = int(3.14)\n",
    "r = int(12)\n",
    "#formula to be used\n",
    "v = (((4%3)*(pai))*(r**3))\n",
    "#print the value of v.\n",
    "print(v)"
   ]
  },
  {
   "cell_type": "markdown",
   "metadata": {},
   "source": [
    "Task 2:  \n",
    "1.Write a program which accepts a sequence of comma-separated numbers from console and generate a list."
   ]
  },
  {
   "cell_type": "code",
   "execution_count": 34,
   "metadata": {},
   "outputs": [
    {
     "name": "stdout",
     "output_type": "stream",
     "text": [
      "enter the sequence of number with comma seperated10,20,30,40,50\n",
      "numbers provided by the user : 10,20,30,40,50\n",
      "list content are ['10', '20', '30', '40', '50']\n"
     ]
    }
   ],
   "source": [
    "number = input(\"enter the sequence of number with comma seperated\")\n",
    "#display number accepted.\n",
    "print(\"numbers provided by the user :\",number)\n",
    "#use the split function which returns a list\n",
    "list = number.split(\",\")\n",
    "#print the list\n",
    "print(\"list content are\",list)\n"
   ]
  },
  {
   "cell_type": "markdown",
   "metadata": {},
   "source": [
    "2.Create the below pattern using nested for loop in Python. "
   ]
  },
  {
   "cell_type": "code",
   "execution_count": 1,
   "metadata": {},
   "outputs": [
    {
     "name": "stdout",
     "output_type": "stream",
     "text": [
      "*\r\n",
      "**\r\n",
      "***\r\n",
      "****\r\n",
      "*****\r\n",
      "*****\r\n",
      "****\r\n",
      "***\r\n",
      "**\r\n",
      "*\r\n"
     ]
    }
   ],
   "source": [
    "#for printing starts in ascending order\n",
    "for i in range(0,5) :\n",
    "    for j in range(0,i+1) :\n",
    "        print('*',end='')\n",
    "    print('\\r')\n",
    "#for printing starts in descending order\n",
    "for k in range(0,5):\n",
    "    for l in range(0,5-k):\n",
    "       print('*',end='')\n",
    "    print('\\r')   "
   ]
  },
  {
   "cell_type": "markdown",
   "metadata": {},
   "source": [
    "3.Write a Python program to reverse a word after accepting the input from the user. \n",
    "Input word: AcadGild Output: dilGdacA "
   ]
  },
  {
   "cell_type": "code",
   "execution_count": 4,
   "metadata": {},
   "outputs": [
    {
     "name": "stdout",
     "output_type": "stream",
     "text": [
      "enter a wordAcadGild\n",
      "reverse of word entered dliGdacA\n"
     ]
    }
   ],
   "source": [
    "inputword = input(\"enter a word\")\n",
    "outputword = inputword[::-1]\n",
    "print(\"reverse of word entered\",outputword)"
   ]
  },
  {
   "cell_type": "markdown",
   "metadata": {},
   "source": [
    "4. Write a Python Program to print the given string in the format specified in the sample output. \n",
    "WE, THE PEOPLE OF INDIA, having solemnly resolved to constitute India into a SOVEREIGN, SOCIALIST, SECULAR, DEMOCRATIC REPUBLIC and to secure to all its citizens \n",
    "Sample Output: \n",
    "WE, THE PEOPLE OF INDIA,   \n",
    "     having solemnly resolved to constitute India into a SOVEREIGN, !  \n",
    "      SOCIALIST, SECULAR, DEMOCRATIC REPUBLIC    \n",
    "        and to secure to all its citizens"
   ]
  },
  {
   "cell_type": "code",
   "execution_count": 19,
   "metadata": {},
   "outputs": [
    {
     "name": "stdout",
     "output_type": "stream",
     "text": [
      "WE,THE PEOPLE OF INDIA,\n",
      "having solemnly resolved to constitute India into a SOVEREIGN,\t!\n",
      "SOCIALIST, SECULAR, DEMOCRATIC REPUBLIC \n",
      " and to secure to all its citizens\n"
     ]
    }
   ],
   "source": [
    "print('WE,THE PEOPLE OF INDIA,\\nhaving solemnly resolved to constitute India into a SOVEREIGN,\\t!\\nSOCIALIST, SECULAR, DEMOCRATIC REPUBLIC \\n and to secure to all its citizens')"
   ]
  },
  {
   "cell_type": "code",
   "execution_count": null,
   "metadata": {},
   "outputs": [],
   "source": []
  }
 ],
 "metadata": {
  "kernelspec": {
   "display_name": "Python 3",
   "language": "python",
   "name": "python3"
  },
  "language_info": {
   "codemirror_mode": {
    "name": "ipython",
    "version": 3
   },
   "file_extension": ".py",
   "mimetype": "text/x-python",
   "name": "python",
   "nbconvert_exporter": "python",
   "pygments_lexer": "ipython3",
   "version": "3.7.4"
  }
 },
 "nbformat": 4,
 "nbformat_minor": 2
}
