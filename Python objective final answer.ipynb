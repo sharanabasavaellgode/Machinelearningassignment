{
 "cells": [
  {
   "cell_type": "markdown",
   "metadata": {},
   "source": [
    "Q1. How can we create an iterator object from a list? \n",
    "a) Bypassing the given list to the iter() function \n",
    "b) By using a for a loop. \n",
    "c) By using a while loop. \n",
    "d) You cannot create an iterable object "
   ]
  },
  {
   "cell_type": "code",
   "execution_count": null,
   "metadata": {},
   "outputs": [],
   "source": [
    "#Answer is A"
   ]
  },
  {
   "cell_type": "markdown",
   "metadata": {},
   "source": [
    "Q2. If the function contains at least of one “yield” statement, then it   becomes ______ \n",
    " \n",
    "        Choose one \n",
    " a) An iterable \n",
    "b) a generator function \n",
    "c) an anonymous function \n",
    "d) None of the above \n"
   ]
  },
  {
   "cell_type": "code",
   "execution_count": null,
   "metadata": {},
   "outputs": [],
   "source": [
    "#Answer is B."
   ]
  },
  {
   "cell_type": "markdown",
   "metadata": {},
   "source": [
    "Q3. What is the output of the code? \n",
    " \n",
    "1. mylist =  [1, 3, 6, 10] 2. a = (x**2 for x in mylist) 3. print(next(a), next(a))   \n",
    "a) 1 3 \n",
    "b) 1 9 \n",
    "c) 1 9 36 100 \n",
    "d) 1 "
   ]
  },
  {
   "cell_type": "code",
   "execution_count": null,
   "metadata": {},
   "outputs": [],
   "source": [
    "#Answer is B."
   ]
  },
  {
   "cell_type": "markdown",
   "metadata": {},
   "source": [
    "Q4. What are the criteria that must be met to create closure in Python? \n",
    "a) The program Must have the function inside the function. \n",
    "b) The nested function must refer to the value defined in the enclosing function. \n",
    "c) The enclosing function must return the nested \n",
    "d) All of the above. \n",
    " "
   ]
  },
  {
   "cell_type": "code",
   "execution_count": null,
   "metadata": {},
   "outputs": [],
   "source": [
    "#Answer is D."
   ]
  },
  {
   "cell_type": "markdown",
   "metadata": {},
   "source": [
    "Q5. What is the output of the code? \n",
    " \n",
    "1. def Foo(n): 2.     def multiplier(x): 3.         return x * n 4.     return multiplier 5.  6. a = Foo(5) 7. b = Foo(5) 8.  9. print(a(b(2))) \n",
    "a) 25. \n",
    "b) 100 \n",
    "c) 10 \n",
    "d) 50 "
   ]
  },
  {
   "cell_type": "code",
   "execution_count": null,
   "metadata": {},
   "outputs": [],
   "source": [
    "#Answer id D."
   ]
  },
  {
   "cell_type": "markdown",
   "metadata": {},
   "source": [
    "Q6. What is the output of the code? \n",
    " \n",
    "1. def make_pretty(func): 2.     def inner(): 3.         print(\"I got decorated\") 4.         func() 5.     return inner 6.  7. def ordinary(): 8.     print(\"I am ordinary\") 9.     10. pretty = make_pretty(ordinary) 11. pretty() \n",
    " \n",
    " \n",
    "a) I got decorated \n",
    "b) I am pretty \n",
    "c) I got decorated     I am ordinary \n",
    "d) I am ordinary     I got decorated "
   ]
  },
  {
   "cell_type": "code",
   "execution_count": null,
   "metadata": {},
   "outputs": [],
   "source": [
    "#Answer is c"
   ]
  },
  {
   "cell_type": "markdown",
   "metadata": {},
   "source": [
    "Q7: What is the more pythonic way to use getters and setters? \n",
    "a) Decorators \n",
    "b) Generators. \n",
    "c) Iterators \n",
    "d) @property "
   ]
  },
  {
   "cell_type": "code",
   "execution_count": null,
   "metadata": {},
   "outputs": [],
   "source": [
    "#Answer is D"
   ]
  },
  {
   "cell_type": "markdown",
   "metadata": {},
   "source": [
    "Q8. In Python, there is a built-in function property() that returns a property object. The property object has which of the methods? \n",
    "a) getter() and setter() \n",
    "b) getter(), setter() and delete() \n",
    "c) getter() and delete() \n",
    "d) setter() and delete() "
   ]
  },
  {
   "cell_type": "code",
   "execution_count": null,
   "metadata": {},
   "outputs": [],
   "source": [
    "#Answer is B"
   ]
  },
  {
   "cell_type": "markdown",
   "metadata": {},
   "source": [
    "Q9. Which of the following statement is true? \n",
    "a) You cannot chain multiple decorators in Python. \n",
    "b) Decorators don’t work with functions that take parameters. \n",
    "c) The @ symbol doesn’t have any use while using decorators. \n",
    "d) None of the above "
   ]
  },
  {
   "cell_type": "code",
   "execution_count": null,
   "metadata": {},
   "outputs": [],
   "source": [
    "#Answer is D"
   ]
  },
  {
   "cell_type": "markdown",
   "metadata": {},
   "source": [
    "Q10. For the following codes, which of the following statements is true? \n",
    " \n",
    "1. def printHello(): 2.     print(\"Hello\")      3. a = printHello() \n",
    " \n",
    "a) Print Hello() is a function, and a is a variable. None of them are objects. \n",
    "b) Both printHello() and the reference to the same object. \n",
    "c) Print Hello() and the reference to different objects.\n",
    "d) Syntax error! You cannot assign function  "
   ]
  },
  {
   "cell_type": "code",
   "execution_count": null,
   "metadata": {},
   "outputs": [],
   "source": [
    "#Answer is B"
   ]
  },
  {
   "cell_type": "markdown",
   "metadata": {},
   "source": [
    "Q11. What is the output of the program? 1. def outerFunction(): 2.     global a 3.     a = 20 4.     def innerFunction(): 5.         global a 6.         a = 30 7.         print('a =', a)   8. a = 10 9. outerFunction() 10. print('a =', a) \n",
    "a) a = 10 a = 30 \n",
    "b) a = 10 \n",
    "c) a = 2 \n",
    "d) a = 30 "
   ]
  },
  {
   "cell_type": "code",
   "execution_count": null,
   "metadata": {},
   "outputs": [],
   "source": [
    "#Answer is C"
   ]
  },
  {
   "cell_type": "markdown",
   "metadata": {},
   "source": [
    "Q12. Which of the following statements is true? \n",
    "a) A class is a blueprint for the object. \n",
    "b) You can only make the single object from the given class \n",
    "C) Both statements are true. \n",
    "d) Neither statement is true"
   ]
  },
  {
   "cell_type": "code",
   "execution_count": null,
   "metadata": {},
   "outputs": [],
   "source": [
    "#Answer is A"
   ]
  },
  {
   "cell_type": "markdown",
   "metadata": {},
   "source": [
    "Q13. What is the output of the code? \n",
    " \n",
    "1. class Foo: 2.   def printLine(self, line='Python'): 3.     print(line) 4.    5. o1 = Foo() 6. o1.printLine('Java') \n",
    "a) Python \n",
    "b) Line \n",
    "c) Java \n",
    " \n",
    "d) Java Python "
   ]
  },
  {
   "cell_type": "code",
   "execution_count": null,
   "metadata": {},
   "outputs": [],
   "source": [
    "#Answer is C"
   ]
  },
  {
   "cell_type": "markdown",
   "metadata": {},
   "source": [
    "Q14. What is the function of the __init__() function in Python? \n",
    " \n",
    "a) Initialises the class for use. \n",
    "b) This function is called, when the new object is instantiated \n",
    "c) Initialises all the data attributes to zero when called \n",
    "d) None of the above. "
   ]
  },
  {
   "cell_type": "code",
   "execution_count": null,
   "metadata": {},
   "outputs": [],
   "source": [
    "#Answer is B"
   ]
  },
  {
   "cell_type": "markdown",
   "metadata": {},
   "source": [
    "Q15. What is the output of the code? \n",
    " \n",
    "1. class Point: 2.     def __init__(self, x = 0, y = 0): 3.       self.x = x+1 4.       self.y = y+1 5.        6. p1 = Point() 7. print(p1.x, p1.y) \n",
    " \n",
    "a) 0 0 \n",
    "b) 1 1 \n",
    "c) None None \n",
    "d) x y "
   ]
  },
  {
   "cell_type": "code",
   "execution_count": null,
   "metadata": {},
   "outputs": [],
   "source": [
    "#Answer is B"
   ]
  },
  {
   "cell_type": "markdown",
   "metadata": {},
   "source": [
    "Q16. Which of the following code used the inheritance feature? \n",
    " a) 1. Class Foo: Pass \n",
    " b) 1. class Foo(object): 2.    pass 3. class Hoo(object): pass \n",
    " c) 1. class Foo: 2.     pass 3. class Hoo(Foo): pass "
   ]
  },
  {
   "cell_type": "code",
   "execution_count": null,
   "metadata": {},
   "outputs": [],
   "source": [
    "#Answer is C"
   ]
  },
  {
   "cell_type": "markdown",
   "metadata": {},
   "source": [
    "Q17 If you a class is derived from two different classes, it’s called ______ \n",
    "a) Multilevel inheritance \n",
    "b) Multiple Inheritance \n",
    "c) Hierarchical Inheritance d) Python Inheritance "
   ]
  },
  {
   "cell_type": "code",
   "execution_count": null,
   "metadata": {},
   "outputs": [],
   "source": [
    "#Answer is B"
   ]
  },
  {
   "cell_type": "markdown",
   "metadata": {},
   "source": [
    "Q18. Which of the following statements is true? \n",
    "a) In Python, the same operator may behave differently depends upon the operands. \n",
    "b) You can change the way operators which behave in Python. \n",
    "c) Special method __add()__ is called when + operator \n",
    "d) All of the above. "
   ]
  },
  {
   "cell_type": "code",
   "execution_count": null,
   "metadata": {},
   "outputs": [],
   "source": [
    "#Answer is D"
   ]
  },
  {
   "cell_type": "markdown",
   "metadata": {},
   "source": [
    "Q19. What is the output of the code? 1. class Point: 2.    3.     def __init__(self, x = 0, y = 0): 4.       self.x = x 5.       self.y = y 6.    7.     def __sub__(self, other): 8.         x = self.x + other.x 9.         y = self.y + other.y 10.         return Point(x,y) 11.          12. p1 = Point(3, 4) 13. p2 = Point(1, 2) 14. result = p1-p2 15. print(result.x, result.y)\n",
    "a) 2 2 \n",
    "b) 4 6 \n",
    "c) 0 0 \n",
    "d) 1 1 \n",
    " "
   ]
  },
  {
   "cell_type": "code",
   "execution_count": null,
   "metadata": {},
   "outputs": [],
   "source": [
    "#Answer is B"
   ]
  },
  {
   "cell_type": "markdown",
   "metadata": {},
   "source": [
    "Q20. Opening a file in ‘a’ mode a) opens a file for reading \n",
    "b) opens a file for writing \n",
    "c) opens the file for appending, at the end of file \n",
    "d) opens a file for exclusive creation "
   ]
  },
  {
   "cell_type": "code",
   "execution_count": null,
   "metadata": {},
   "outputs": [],
   "source": [
    "#Answer is C"
   ]
  },
  {
   "cell_type": "markdown",
   "metadata": {},
   "source": [
    "Q21. What does the following code do?            f = open(\"test.txt\") \n",
    "a) Opens test.txt file for both reading and writing \n",
    "b) Opens test.txt file for reading only \n",
    "c) Opens test.txt file for writing only \n",
    "d) Opens test.txt file in god mode "
   ]
  },
  {
   "cell_type": "code",
   "execution_count": null,
   "metadata": {},
   "outputs": [],
   "source": [
    "#Answer is B"
   ]
  },
  {
   "cell_type": "markdown",
   "metadata": {},
   "source": [
    "Q22. Which of the codes closes files automatically if an exception  \n",
    " occurs? \n",
    "Choose one \n",
    "a) 1.   with open(\"test.txt\", encoding = 'utf-8')  as  f: 2.     # perform file operation \n",
    "b) 1. try: 2.      f = open(\"test.txt\",encoding = 'utf-8') 3.      # perform file operations 4. finally: 5.     f.close() \n",
    "c) None of the above \n",
    "d) Both of the above"
   ]
  },
  {
   "cell_type": "code",
   "execution_count": null,
   "metadata": {},
   "outputs": [],
   "source": [
    "#Answer is B"
   ]
  },
  {
   "cell_type": "markdown",
   "metadata": {},
   "source": [
    "Q23. For the following code, 1. f = open('test.txt', 'r', encoding = 'utf-8') 2. f.read() Which of the following statement is true \n",
    "a) This program reads the content of the test.txt file. \n",
    "b) If test.txt contains a newline, read() will return the newline as ‘\\n’. \n",
    "c) You can pass an integer to the read() method \n",
    "d) All of the above. "
   ]
  },
  {
   "cell_type": "code",
   "execution_count": null,
   "metadata": {},
   "outputs": [],
   "source": [
    "#Answer is D"
   ]
  },
  {
   "cell_type": "markdown",
   "metadata": {},
   "source": [
    "Q24. What does the following code do? os.listdir() \n",
    "a) Prints the current working directory.\n",
    "b) Prints the current working directory. \n",
    "c) Prints all the directories and files inside the given directory \n",
    "d) Make a new directory "
   ]
  },
  {
   "cell_type": "code",
   "execution_count": null,
   "metadata": {},
   "outputs": [],
   "source": [
    "#Answer is C"
   ]
  },
  {
   "cell_type": "markdown",
   "metadata": {},
   "source": [
    "Q25. Which of the following is correct? \n",
    "a) An exception is an error that occurs in the runtime. \n",
    "b) A syntax error is also an exception. \n",
    "c) An exception is used to exclude a block of code in python. \n",
    "d) All of the above. "
   ]
  },
  {
   "cell_type": "code",
   "execution_count": null,
   "metadata": {},
   "outputs": [],
   "source": [
    "#Answer is A"
   ]
  },
  {
   "cell_type": "markdown",
   "metadata": {},
   "source": [
    "Q26. What will happen if we try to open the file that doesn’t exist? \n",
    "a) A new file is created. \n",
    "b) Nothing will happen. \n",
    "c) An exception is raised. \n",
    "d) None of the above "
   ]
  },
  {
   "cell_type": "code",
   "execution_count": null,
   "metadata": {},
   "outputs": [],
   "source": [
    "#Answer is C"
   ]
  },
  {
   "cell_type": "markdown",
   "metadata": {},
   "source": [
    "Q27. What is the output of the code? \n",
    " \n",
    "1. number = 5.0 2. try: 3.     r = 10/number 4.     print(r) 5. except: 6.     print(\"Oops! Error occurred.\") \n",
    "a) Oops! Error occurred \n",
    "b) 2.0 \n",
    "c) 2.0 Oops! Error occurred. \n",
    "d) None object "
   ]
  },
  {
   "cell_type": "code",
   "execution_count": null,
   "metadata": {},
   "outputs": [],
   "source": [
    "#Answer is B"
   ]
  },
  {
   "cell_type": "markdown",
   "metadata": {},
   "source": [
    "Q28. What does the following code do? \n",
    " \n",
    "1. try: 2.   # code that can raise an error 3.    pass 4.    5. except (TypeError, ZeroDivisionError): 6.   print(\"Two\") \n",
    " \n",
    "a) Prints Two if an exception occurs (doesn’t matter which exception). \n",
    "b) Prints Two if exception doesn’t occur. \n",
    "c) Prints Two if the TypeError or ZeroDivisionError exception occurs. \n",
    "d) Prints Two only if both TypeError and ZeroDivisionError exception occur. "
   ]
  },
  {
   "cell_type": "code",
   "execution_count": null,
   "metadata": {},
   "outputs": [],
   "source": [
    "#Answer is C"
   ]
  },
  {
   "cell_type": "markdown",
   "metadata": {},
   "source": [
    "Q29. Which of the following statement is true? \n",
    "a) You cannot create custom exceptions in Python. \n",
    "b) You can create the user-defined exception by deriving a class from Exception class. \n",
    "c) You can create a user-defined exception by deriving a class from Error class.\n",
    "d) None of the above. "
   ]
  },
  {
   "cell_type": "code",
   "execution_count": null,
   "metadata": {},
   "outputs": [],
   "source": [
    "#Answer is B"
   ]
  },
  {
   "cell_type": "markdown",
   "metadata": {},
   "source": [
    "Q30. Which of the following statement is true? \n",
    "a) Functions are used to create objects in Python. \n",
    "b) Functions make your program run faster. \n",
    "c) The function is a piece of code that can perform a specific task. \n",
    "d) All of the above "
   ]
  },
  {
   "cell_type": "code",
   "execution_count": null,
   "metadata": {},
   "outputs": [],
   "source": [
    "#Answer is C"
   ]
  },
  {
   "cell_type": "markdown",
   "metadata": {},
   "source": [
    "Q31. What is the output of the code? 1. def printLine(text): 2.   print(text, 'is awesome.') 3.  4. printLine('Python') \n",
    "a) Python \n",
    "b) Python is awesome. \n",
    "c) Text is awesome. \n",
    "d) Is awesome. "
   ]
  },
  {
   "cell_type": "code",
   "execution_count": null,
   "metadata": {},
   "outputs": [],
   "source": [
    "#Answer is B"
   ]
  },
  {
   "cell_type": "markdown",
   "metadata": {},
   "source": [
    "Q32. If the return statement is not used inside the function, the function will return: \n",
    "a) 0 \n",
    "b) None object \n",
    "c) an arbitrary integer \n",
    "d) Error! Functions in Python must have a return statement"
   ]
  },
  {
   "cell_type": "code",
   "execution_count": null,
   "metadata": {},
   "outputs": [],
   "source": [
    "#Answer is B"
   ]
  },
  {
   "cell_type": "markdown",
   "metadata": {},
   "source": [
    "Q33. What is the output of the code? \n",
    " \n",
    "1. def greetPerson(*name): 2.   print('Hello', name) 3.  4. greetPerson('Frodo', 'Sauron') \n",
    " \n",
    "a) Hello Frodo Hello Sauron \n",
    " \n",
    "b) Hello ('Frodo', 'Sauron') \n",
    " \n",
    "c) Hello Frodo \n",
    " \n",
    "d) Syntax Error! Great person() can take only one argument. "
   ]
  },
  {
   "cell_type": "code",
   "execution_count": null,
   "metadata": {},
   "outputs": [],
   "source": [
    "#Answer is B"
   ]
  },
  {
   "cell_type": "markdown",
   "metadata": {},
   "source": [
    "Q34. What is a recursive function? \n",
    "Choose one \n",
    "a) A function that calls all the functions in the program. \n",
    "b) A function that calls itself. \n",
    "c) A function that that calls all the functions in the program except itself. \n",
    "d) There is no such thing as a recursive function in Python. \n",
    " "
   ]
  },
  {
   "cell_type": "code",
   "execution_count": null,
   "metadata": {},
   "outputs": [],
   "source": [
    "#Answer is B"
   ]
  },
  {
   "cell_type": "markdown",
   "metadata": {},
   "source": [
    "Q35. What is the output of the program? \n",
    " \n",
    "1. result = lambda x: x * x 2. print(result(5)) \n",
    " \n",
    "a) lambda x: x*x \n",
    "b) 10 \n",
    "c) 25 \n",
    "d) 5*5 \n",
    " \n",
    " "
   ]
  },
  {
   "cell_type": "code",
   "execution_count": null,
   "metadata": {},
   "outputs": [],
   "source": [
    "#Answer is C"
   ]
  },
  {
   "cell_type": "markdown",
   "metadata": {},
   "source": [
    "Q36. What is the output of the program? \n",
    " \n",
    "1. def Foo(x): 2.   if (x==1): 3.     return 1 4.   else: 5.     return x+Foo(x-1) 6.  7. print(Foo(4)) \n",
    " \n",
    "a) 10 \n",
    "b) 24 \n",
    "c) 7 \n",
    "d) 1 "
   ]
  },
  {
   "cell_type": "code",
   "execution_count": null,
   "metadata": {},
   "outputs": [],
   "source": [
    "#Answer is A"
   ]
  },
  {
   "cell_type": "markdown",
   "metadata": {},
   "source": [
    "Q37. Suppose you need to print pi constant defined in the math module. Which of the following code can do this task? \n",
    " \n",
    "a) print(math.pi) \n",
    "b) print(pi) \n",
    "c)  1. from math import pi 2. print(pi) \n",
    "d) 1. from math import pi 2. print(math.pi) \n",
    " \n",
    " "
   ]
  },
  {
   "cell_type": "code",
   "execution_count": null,
   "metadata": {},
   "outputs": [],
   "source": [
    "#Answer is C"
   ]
  },
  {
   "cell_type": "markdown",
   "metadata": {},
   "source": [
    "Q38. Which operator is used in Python to import modules from the packages? \n",
    "Choose one \n",
    "a). operator \n",
    "b) * operator \n",
    "c) -> symbol \n",
    "d) , operator"
   ]
  },
  {
   "cell_type": "code",
   "execution_count": null,
   "metadata": {},
   "outputs": [],
   "source": [
    "#Answer is A"
   ]
  },
  {
   "cell_type": "markdown",
   "metadata": {},
   "source": [
    "Q39. What is the output of the code? \n",
    " \n",
    "1. numbers = [1, 3, 6] 2. newNumbers = tuple(map(lambda x: x , numbers)) 3. print(newNumbers) \n",
    " \n",
    "a) [1, 3, 6] b) (1, 3, 6) c) [2, 6, 12] d) (2, 6, 12) "
   ]
  },
  {
   "cell_type": "code",
   "execution_count": null,
   "metadata": {},
   "outputs": [],
   "source": [
    "#Answer is B"
   ]
  },
  {
   "cell_type": "markdown",
   "metadata": {},
   "source": [
    "Q40. What is the output of the code? \n",
    " \n",
    "1. if None: 2.     print(“Hello”) \n",
    " \n",
    "a) False \n",
    "b) Hello \n",
    "c) Nothing will be printed \n",
    "d) Syntax error \n",
    " "
   ]
  },
  {
   "cell_type": "code",
   "execution_count": null,
   "metadata": {},
   "outputs": [],
   "source": [
    "#Answer is C"
   ]
  },
  {
   "cell_type": "markdown",
   "metadata": {},
   "source": [
    "Q41. The if-elif-else executes only one block of code among several blocks. \n",
    "a) True. \n",
    "b) False \n",
    "c) It depends on the expression used. \n",
    "d) There is no elif statement in Python. "
   ]
  },
  {
   "cell_type": "code",
   "execution_count": null,
   "metadata": {},
   "outputs": [],
   "source": [
    "#Answer is A"
   ]
  },
  {
   "cell_type": "markdown",
   "metadata": {},
   "source": [
    "Q42. What is the output of the code? \n",
    " \n",
    "1. for i in [1, 0]: 2.   print(i+1) \n",
    "\n",
    "a) 2    1 \n",
    "b) [2, 1] \n",
    "c) 2     0 \n",
    "d) [2, 0] "
   ]
  },
  {
   "cell_type": "code",
   "execution_count": null,
   "metadata": {},
   "outputs": [],
   "source": [
    "#Answer is A"
   ]
  },
  {
   "cell_type": "markdown",
   "metadata": {},
   "source": [
    "Q43. In the Python, for and while loop can have the optional else   statement? \n",
    "a) Only for loop can have the optional else statement \n",
    "b) Only while loop can have the optional else statement \n",
    "c) Both loops can have optional else statement \n",
    "d) Loops cannot have else statement in Python "
   ]
  },
  {
   "cell_type": "code",
   "execution_count": null,
   "metadata": {},
   "outputs": [],
   "source": [
    "#Answer is C"
   ]
  },
  {
   "cell_type": "markdown",
   "metadata": {},
   "source": [
    "Q44. What is the output of the code? \n",
    " \n",
    "1. i = sum = 0 2. \n",
    " 3. while i <= 4: 4.     sum += i 5.     i = i+1 6. \n",
    " 7. print(sum) \n",
    " \n",
    "a) 0\n",
    "b) 10 \n",
    "c) 4 \n",
    "d) None of the above "
   ]
  },
  {
   "cell_type": "code",
   "execution_count": null,
   "metadata": {},
   "outputs": [],
   "source": [
    "#Answer is B"
   ]
  },
  {
   "cell_type": "markdown",
   "metadata": {},
   "source": [
    "Q45. What is the output of the code? \n",
    " \n",
    "1. while 4 == 4: 2.     print('4') \n",
    " \n",
    "a) 4 is printed once \n",
    "b) 4 is printed four times \n",
    "c) 4 is printed infinitely until the program closes \n",
    "d) Syntax error "
   ]
  },
  {
   "cell_type": "code",
   "execution_count": null,
   "metadata": {},
   "outputs": [],
   "source": [
    "#Answer is C"
   ]
  },
  {
   "cell_type": "raw",
   "metadata": {},
   "source": [
    "Q46. Is it better to use the for loop instead of while if we are iterating   through a sequence?  \n",
    "a) No, it’s better to use the while loop. \n",
    "b) Yes, for loop is more pythonic choice. \n",
    "c) No, we cannot iterate through a sequence using a while loop. \n",
    "d) No, we cannot iterate through a sequence using loops"
   ]
  },
  {
   "cell_type": "code",
   "execution_count": null,
   "metadata": {},
   "outputs": [],
   "source": [
    "#Answer is B"
   ]
  },
  {
   "cell_type": "markdown",
   "metadata": {},
   "source": [
    "Q47. Which of the following statement is true? \n",
    "a)  “break”- It terminates the loop containing it. \n",
    "b)   “continue” - It is used to skip the rest of the code inside the loops. \n",
    "c)     break and continue: These are almost always used with if, if...else and if...elif...else    statements. \n",
    "d) All of the above. "
   ]
  },
  {
   "cell_type": "code",
   "execution_count": null,
   "metadata": {},
   "outputs": [],
   "source": [
    "#Answer is D"
   ]
  },
  {
   "cell_type": "markdown",
   "metadata": {},
   "source": [
    "Q48. What is the output of the code? \n",
    "1. for char in 'PYTHON STRING': \n",
    "2.   if char == ' ': \n",
    "3.       break\n",
    "4.  \n",
    "5.   print(char, end='') \n",
    "6.    \n",
    "7.   if char == 'O': \n",
    "8.       continue \n",
    " \n",
    "a) PYTHON \n",
    "b) PYTHONSTRING \n",
    "c) PYTHN \n",
    "d) STRING "
   ]
  },
  {
   "cell_type": "code",
   "execution_count": null,
   "metadata": {},
   "outputs": [],
   "source": [
    "#Answer is A"
   ]
  },
  {
   "cell_type": "markdown",
   "metadata": {},
   "source": [
    "Q49. Which of the statement is true about the “pass”   statement? \n",
    "a) Python interpreter- It ignores the “pass” statement like comments. \n",
    "b) Pass statement: It terminates the loop containing pass statement. \n",
    "c) It is used as the placeholder for future implementation of functions, loops, etc d) All of the above."
   ]
  },
  {
   "cell_type": "code",
   "execution_count": null,
   "metadata": {},
   "outputs": [],
   "source": [
    "#Answer is C"
   ]
  },
  {
   "cell_type": "markdown",
   "metadata": {},
   "source": [
    "Q50. In regards to separated value files such as .csv and .tsv, what is   the delimiter? \n",
    "a) Anywhere the comma (,) character is used in the file. \n",
    "b) Delimiters are not used in separated value files.\n",
    "c) Any character such as the comma (,) or tab (\\t) that is used to separate the column data. \n",
    "d) Any character such as the comma (,) or tab (\\t) that is used to separate the row data "
   ]
  },
  {
   "cell_type": "code",
   "execution_count": null,
   "metadata": {},
   "outputs": [],
   "source": [
    "#Answer is C"
   ]
  },
  {
   "cell_type": "markdown",
   "metadata": {},
   "source": [
    "Q51. In separated value files such as .csv and .tsv, what does the first   row in the file typically contain? \n",
    "a) The column names of the data. \n",
    "b) The author of the table data. \n",
    "c) The source of the data d) Notes about the table data "
   ]
  },
  {
   "cell_type": "code",
   "execution_count": null,
   "metadata": {},
   "outputs": [],
   "source": [
    "#Answer is A"
   ]
  },
  {
   "cell_type": "markdown",
   "metadata": {},
   "source": [
    "Q52. Assume you have a file object my_data, which has properly opened a separated value file that uses the tab character (\\t) as the delimiter. \n",
    "What is the proper way to open the file using the Python CSV module and assign it to the variable csv_reader?  \n",
    "Assume that csv has already been imported. \n",
    "a) csv.tab_reader(my_data) \n",
    "b) csv.reader(my_data, delimiter='\\t') c) csv.reader(my_data) d) csv.reader(my_data, tab_delimited=True) "
   ]
  },
  {
   "cell_type": "code",
   "execution_count": null,
   "metadata": {},
   "outputs": [],
   "source": [
    "#Answer is B"
   ]
  },
  {
   "cell_type": "markdown",
   "metadata": {},
   "source": [
    "Q53. When iterating over an object returned from csv.reader(), what is returned with each iteration? \n",
    "For example, given the following code block that assumes csv_reader is an object returned from csv.reader(), what would be printed to the console with each iteration? \n",
    "for item in csv_reader:     print(item) \n",
    " \n",
    "a) The full line of the file as a string \n",
    "b) The row data as a list \n",
    "c) The individual value data that is separated by the delimiter \n",
    "d) The column data as a list "
   ]
  },
  {
   "cell_type": "code",
   "execution_count": null,
   "metadata": {},
   "outputs": [],
   "source": [
    "#Answer is B"
   ]
  },
  {
   "cell_type": "markdown",
   "metadata": {},
   "source": [
    "Q54. When writing to a CSV file using the .writerow() method of  \n",
    " the csv.DictWriter object, what must each key in the  \n",
    " input dict represent? Below is an example: \n",
    "with open('test_file.csv', mode='w') as csv_file: \n",
    " \n",
    "    writer = csv.DictWriter(         csv_file,          fieldnames=['first_col', 'second_col']     )     writer.writeheader() \n",
    " \n",
    "    # This input dictionary is what the question is referring     # to and is not necessarily correct as shown.     writer.writerow({'key1':'value1', 'key2':'value2'}) \n",
    " a) Each key indicates the row index as an integer for where the data should go \n",
    " b) Each key must match up to the field names (index names) used to identify the row data \n",
    " c) Each key must match up to the field names (column names) used to identify the column data \n",
    " d) Each key indicates the column index as an integer for where the value should go "
   ]
  },
  {
   "cell_type": "code",
   "execution_count": null,
   "metadata": {},
   "outputs": [],
   "source": [
    "#Answer is C"
   ]
  },
  {
   "cell_type": "markdown",
   "metadata": {},
   "source": [
    "Q55. Which is the correct way to open the CSV file hrdata.csv for   reading using the pandas package? Assume that the pandas   package has already been imported. \n",
    "a) pandas.open_csv('hrdata.csv', 'r') \n",
    "b) pandas.read_table('hrdata.csv') \n",
    "c) pandas.read_csv('hrdata.csv') \n",
    "d) pandas.open('hrdata.csv','r') "
   ]
  },
  {
   "cell_type": "code",
   "execution_count": null,
   "metadata": {},
   "outputs": [],
   "source": [
    "#Answer is C"
   ]
  },
  {
   "cell_type": "markdown",
   "metadata": {},
   "source": [
    "Q56. By default, pandas uses 0-based indices for indexing rows. Which  \n",
    " is the correct way to import the CSV file hrdata.csv  \n",
    " for reading and using the 'Name' column as the index row instead? \n",
    "Below is the contents of hrdata.csv \n",
    "Name,Hire Date,Salary,Sick Days remaining Fred,10/10/10,10000,10 \n",
    " \n",
    "a) pandas.read_csv('hrdata.csv', index_col='Name') \n",
    "b) pandas.read_csv('hrdata.csv', index=0, index_col_name='Name')\n",
    "c) pandas.read_csv('hrdata.csv', index='Name') \n",
    "d) pandas.read_csv('hrdata.csv', index_col=0) "
   ]
  },
  {
   "cell_type": "code",
   "execution_count": null,
   "metadata": {},
   "outputs": [],
   "source": [
    "#Answer is A"
   ]
  },
  {
   "cell_type": "markdown",
   "metadata": {},
   "source": [
    "Q57. Given the file dog_breeds.txt, which of the following is the correct   way to open the file for reading as a text file? Select all that apply. \n",
    "a) open('dog_breeds.txt', 'w') \n",
    "b) open('dog_breeds.txt', 'r') \n",
    "c) open('dog_breeds.txt') \n",
    "d) open('dog_breeds.txt', 'wb') \n",
    "e) open('dog_breeds.txt', 'rb') "
   ]
  },
  {
   "cell_type": "code",
   "execution_count": null,
   "metadata": {},
   "outputs": [],
   "source": [
    "#Answer is B"
   ]
  },
  {
   "cell_type": "markdown",
   "metadata": {},
   "source": [
    "Q58. Given the following directory structure: \n",
    "animals/ │ ├── feline/ │   ├── lions.gif │   └── tigers.gif │ ├── ursine/ │   └── bears.gif │ └── animals.csv Assuming that the cwd is in the root folder where animals reside, what is the full path to the feline folder? "
   ]
  },
  {
   "cell_type": "code",
   "execution_count": null,
   "metadata": {},
   "outputs": [],
   "source": [
    "##Answer is /animals/feline"
   ]
  },
  {
   "cell_type": "code",
   "execution_count": null,
   "metadata": {},
   "outputs": [],
   "source": [
    "Q59. Given the file jack_russell.png, which of the following is the correct   \n",
    "way to open the file for reading as a buffered binary file? Select   all that apply. \n",
    " \n",
    "open('jack_russell.png', 'rb') \n",
    "open('jack_russell.png', bytes=True) \n",
    "open('jack_russell.png', 'r') \n",
    "open('jack_russell.png') \n",
    "open('jack_russell.png', 'wb') \n",
    " "
   ]
  },
  {
   "cell_type": "code",
   "execution_count": null,
   "metadata": {},
   "outputs": [],
   "source": [
    "##Answer is A open('jack_russell.png', 'rb') "
   ]
  },
  {
   "cell_type": "markdown",
   "metadata": {},
   "source": [
    "Q60. Using the same directory structure as before: \n",
    "\n",
    "animals/ │ ├── feline/ │   ├── lions.gif │   └── tigers.gif \n",
    "│ ├── ursine/ │   └── bears.gif │ └── animals.csv Assuming that the cwd is in the root folder where Animals reside, what is the full path to the file bears.gif"
   ]
  },
  {
   "cell_type": "code",
   "execution_count": null,
   "metadata": {},
   "outputs": [],
   "source": [
    "##Answer is /animals/ursine/bears.gif"
   ]
  },
  {
   "cell_type": "markdown",
   "metadata": {},
   "source": [
    "Q61. Whenever possible, what is the recommended way to ensure that   a file object is properly closed after usage?   a) Making sure that you use the .close() method before the end of the script b) It doesn’t matter c) By using the try/finally block d) By using the with statement"
   ]
  },
  {
   "cell_type": "code",
   "execution_count": null,
   "metadata": {},
   "outputs": [],
   "source": [
    "##Answer is C"
   ]
  },
  {
   "cell_type": "markdown",
   "metadata": {},
   "source": [
    "Q62. Using the same directory structure as before: \n",
    "animals/ │ ├── feline/  ← cwd │   ├── lions.gif │   └── tigers.gif │ ├── ursine/ │   └── bears.gif │ └── animals.csv Assuming that the cwd is in the feline folder, what is the relative path to the file bears.gif? \n",
    " "
   ]
  },
  {
   "cell_type": "code",
   "execution_count": null,
   "metadata": {},
   "outputs": [],
   "source": [
    "##Answer is cd /animals/ursine/bears.gif"
   ]
  },
  {
   "cell_type": "markdown",
   "metadata": {},
   "source": [
    "Q63. When reading a file using the file object, what method is best for   reading the entire file into a single string? a) .read_file_to_str() b) .read() c) .readlines() d) .readline() "
   ]
  },
  {
   "cell_type": "code",
   "execution_count": null,
   "metadata": {},
   "outputs": [],
   "source": [
    "##Answer is B"
   ]
  },
  {
   "cell_type": "markdown",
   "metadata": {},
   "source": [
    "Q64.  The value 1.73 rounded to one decimal place using the “rounding   up” strategy is… \n",
    "a) 1.8 \n",
    "b) 1.7"
   ]
  },
  {
   "cell_type": "code",
   "execution_count": null,
   "metadata": {},
   "outputs": [],
   "source": [
    "##Answer is B"
   ]
  },
  {
   "cell_type": "markdown",
   "metadata": {},
   "source": [
    "Q65. The value -2.961 rounded to two decimal places using the   “rounding down” strategy is… \n",
    "a) -2.96 \n",
    "b) -2.97"
   ]
  },
  {
   "cell_type": "code",
   "execution_count": null,
   "metadata": {},
   "outputs": [],
   "source": [
    "##Answer is A"
   ]
  },
  {
   "cell_type": "markdown",
   "metadata": {},
   "source": [
    "Q66. When a value is truncated to 3 decimal places, which of the   following is true? \n",
    "a) Positive numbers are rounded up, and negative numbers are rounded down. \n",
    "b) Positive numbers are rounded down, and negative numbers are rounded up. \n",
    "c) Both positive and negative numbers are rounded up. \n",
    "d) Both positive and negative numbers are rounded down. "
   ]
  },
  {
   "cell_type": "code",
   "execution_count": null,
   "metadata": {},
   "outputs": [],
   "source": [
    "##Answer is B"
   ]
  },
  {
   "cell_type": "markdown",
   "metadata": {},
   "source": [
    "Q67. The value -0.045 rounded to 2 decimal places using the “round half   away from zero” strategy is… a) -0.05 b) -0.04 "
   ]
  },
  {
   "cell_type": "code",
   "execution_count": null,
   "metadata": {},
   "outputs": [],
   "source": [
    "##Answer is B"
   ]
  },
  {
   "cell_type": "markdown",
   "metadata": {},
   "source": [
    "Q68. Which rounding strategy does Python’s built-in round() function   use? \n",
    "a) Round half down \n",
    "b) Round half away from zero \n",
    "c) Round half up \n",
    "d) Round half to even "
   ]
  },
  {
   "cell_type": "code",
   "execution_count": null,
   "metadata": {},
   "outputs": [],
   "source": [
    "##Answer is D"
   ]
  },
  {
   "cell_type": "markdown",
   "metadata": {},
   "source": [
    "Q69. The value 4.65 rounded to one decimal place using the “round half   to even” strategy is… \n",
    "a) 4.6 \n",
    "b) 4.7 "
   ]
  },
  {
   "cell_type": "code",
   "execution_count": null,
   "metadata": {},
   "outputs": [],
   "source": [
    "##Answer is B"
   ]
  },
  {
   "cell_type": "markdown",
   "metadata": {},
   "source": [
    "Q70. Which problem arises due to the multiple inheritances, if   hierarchical inheritance is used previously for its base classes? \n",
    "a) Diamond \n",
    "b) Circle \n",
    "c) Triangle \n",
    "d) Loop "
   ]
  },
  {
   "cell_type": "code",
   "execution_count": null,
   "metadata": {},
   "outputs": [],
   "source": [
    "##Answer is A"
   ]
  },
  {
   "cell_type": "markdown",
   "metadata": {},
   "source": [
    "Q71.  How many classes should a program contain to implement the  multiple inheritances? \n",
    "a) Only 1 \n",
    "b) At least 1 \n",
    "c) At least 3 \n",
    "d) Exactly 3 "
   ]
  },
  {
   "cell_type": "code",
   "execution_count": null,
   "metadata": {},
   "outputs": [],
   "source": [
    "##Answer is C"
   ]
  },
  {
   "cell_type": "markdown",
   "metadata": {},
   "source": [
    "Q72. If class a inherits class b and class c as “class a: public class b,  public class c {// class body ;}; ”, which class constructor will be  called first? \n",
    "a) Class a. \n",
    "b) Class b. \n",
    "c) Class c. \n",
    "d) All together. "
   ]
  },
  {
   "cell_type": "code",
   "execution_count": null,
   "metadata": {},
   "outputs": [],
   "source": [
    "##Answer is B"
   ]
  },
  {
   "cell_type": "markdown",
   "metadata": {},
   "source": [
    "Q73.If all the members of all  base classes are private then, \n",
    "a) There won’t be any use of multiple inheritance \n",
    "b) It will make all members as public. \n",
    "c) Derived class can still access them in the multiple inheritance \n",
    "d) Compile-time error "
   ]
  },
  {
   "cell_type": "code",
   "execution_count": null,
   "metadata": {},
   "outputs": [],
   "source": [
    "##Answer is A"
   ]
  },
  {
   "cell_type": "markdown",
   "metadata": {},
   "source": [
    "Q74. Can the derived class be made abstract if multiple inheritance is  used? \n",
    "a) No, because other classes must be abstract too b) Yes, if all the functions are implemented \n",
    "c) Yes, if all the methods are predefined \n",
    "d) No, since constructors won’t be there "
   ]
  },
  {
   "cell_type": "code",
   "execution_count": null,
   "metadata": {},
   "outputs": [],
   "source": [
    "##Answer is D"
   ]
  },
  {
   "cell_type": "markdown",
   "metadata": {},
   "source": [
    "Q75. Which among the following best defines the multilevel inheritance? \n",
    "a) A class derived from another derived class \n",
    "b) Classes being derived from other derived classes \n",
    "c) Continuing single level inheritance \n",
    "d) Class which have more than one parent "
   ]
  },
  {
   "cell_type": "code",
   "execution_count": null,
   "metadata": {},
   "outputs": [],
   "source": [
    "##Answer is B"
   ]
  },
  {
   "cell_type": "markdown",
   "metadata": {},
   "source": [
    "Q76. If there are 5 classes, E is derived from D, D from C, C from B and  B from A. Which class constructor will be called first if the object of  E or D is created? \n",
    "a) A \n",
    "b) B \n",
    "c) C \n",
    "d) A and B "
   ]
  },
  {
   "cell_type": "code",
   "execution_count": null,
   "metadata": {},
   "outputs": [],
   "source": [
    "##Answer is A"
   ]
  },
  {
   "cell_type": "markdown",
   "metadata": {},
   "source": [
    "Q77. Which Class is having the highest degree of abstraction in   multilevel inheritance of 5 levels?   \n",
    "a) Class at 1st level \n",
    "b) Class 2nd last level \n",
    "c) Class at 5th level \n",
    "d) All with same abstraction "
   ]
  },
  {
   "cell_type": "code",
   "execution_count": null,
   "metadata": {},
   "outputs": [],
   "source": [
    "##Answer is A"
   ]
  },
  {
   "cell_type": "markdown",
   "metadata": {},
   "source": [
    "Q78. Multilevel inheritance allows _________________ in the program. \n",
    "a) Only 7 levels of inheritance \n",
    "b) At least 7 levels of inheritance \n",
    "c) At most 16 levels of inheritance \n",
    "d) As many levels of inheritance as required "
   ]
  },
  {
   "cell_type": "code",
   "execution_count": null,
   "metadata": {},
   "outputs": [],
   "source": [
    "##Answer is D"
   ]
  },
  {
   "cell_type": "markdown",
   "metadata": {},
   "source": [
    "Q79. If all the classes used parameterized constructors and no default  constructor then, ___________ \n",
    "a) The object of lower-level classes can’t be created \n",
    "b) Object of lower-level classes must call parent class constructors explicitly \n",
    "c) Object of lower-level classes must define all the default constructors \n",
    "d) Only object of first-class can be created, which is first-parent "
   ]
  },
  {
   "cell_type": "code",
   "execution_count": null,
   "metadata": {},
   "outputs": [],
   "source": [
    "##Answer is B"
   ]
  },
  {
   "cell_type": "markdown",
   "metadata": {},
   "source": [
    "Q80. Which is the universal exception handler class? \n",
    "a) Object \n",
    "b) Math \n",
    "c) Errors \n",
    "d) Exceptions "
   ]
  },
  {
   "cell_type": "code",
   "execution_count": null,
   "metadata": {},
   "outputs": [],
   "source": [
    "##Answer is D"
   ]
  },
  {
   "cell_type": "markdown",
   "metadata": {},
   "source": [
    "Q81. What are two exception classes in the hierarchy of java exceptions  class? \n",
    "a) Runtime exceptions only \n",
    "b) Compile-time exceptions only \n",
    "c) Runtime exceptions and other exceptions \n",
    "d) Other exceptions "
   ]
  },
  {
   "cell_type": "code",
   "execution_count": null,
   "metadata": {},
   "outputs": [],
   "source": [
    "##Answer is C"
   ]
  },
  {
   "cell_type": "code",
   "execution_count": null,
   "metadata": {},
   "outputs": [],
   "source": [
    "Q82.  Which are the two blocks that are used to check error and handle  the error? \n",
    "a) Try and catch \n",
    "b) Trying and catching \n",
    "c) Do and while \n",
    "d) TryDo and Check "
   ]
  },
  {
   "cell_type": "code",
   "execution_count": null,
   "metadata": {},
   "outputs": [],
   "source": [
    "##Answer is A"
   ]
  },
  {
   "cell_type": "markdown",
   "metadata": {},
   "source": [
    "Q83. To catch the exceptions ___________________ \n",
    "a) An object must be created to catch the exception \n",
    "b) A variable should be created to catch the exception \n",
    "c) An array should be created to catch all the exceptions \n",
    "d) A string has to be created to store exception "
   ]
  },
  {
   "cell_type": "code",
   "execution_count": null,
   "metadata": {},
   "outputs": [],
   "source": [
    "##Answer is A"
   ]
  },
  {
   "cell_type": "markdown",
   "metadata": {},
   "source": [
    "Q84. Which class is used to handle the input and output exceptions? \n",
    "a) InputOutput \n",
    "b) InputOutputExceptions \n",
    "c) IOExceptions \n",
    "d) ExceptionsIO "
   ]
  },
  {
   "cell_type": "code",
   "execution_count": null,
   "metadata": {},
   "outputs": [],
   "source": [
    "##Answer is C"
   ]
  },
  {
   "cell_type": "markdown",
   "metadata": {},
   "source": [
    "Q85. Which among the following is true for the class exceptions? \n",
    "a) Only base class can give rise to the exceptions \n",
    "b) Only derived class can give rise to exceptions \n",
    "c) Either base or derived class may produce exceptions \n",
    "d) Both base class and derived class may produce exceptions "
   ]
  },
  {
   "cell_type": "code",
   "execution_count": null,
   "metadata": {},
   "outputs": [],
   "source": [
    "##Answer is D"
   ]
  },
  {
   "cell_type": "markdown",
   "metadata": {},
   "source": [
    "Q86. If both base and derived class caught the exceptions, _____. \n",
    "a) Then catch block of a derived class must be defined before the base class \n",
    "b) Then catch block of the base class must be defined before the derived class \n",
    "c) Then catch block of base and derived classes don't matter. \n",
    "d) catch block of the base and derived classes are not mandatory to be defined"
   ]
  },
  {
   "cell_type": "code",
   "execution_count": null,
   "metadata": {},
   "outputs": [],
   "source": [
    "##Answer is A"
   ]
  },
  {
   "cell_type": "markdown",
   "metadata": {},
   "source": [
    "Q87.  The catching of base class the exception _________ in java. \n",
    "a) After derived class is not allowed by the compiler \n",
    "b) Before derived class is not allowed by the compiler \n",
    "c) Before derived class is allowed d) After derived class can’t be done "
   ]
  },
  {
   "cell_type": "code",
   "execution_count": null,
   "metadata": {},
   "outputs": [],
   "source": [
    "##Answer is B"
   ]
  },
  {
   "cell_type": "markdown",
   "metadata": {},
   "source": [
    "Q88.  Which of the following handles the undefined class in the  program? \n",
    "a) ClassNotFound \n",
    "b) NoClassException \n",
    "c) ClassFoundException \n",
    "d) ClassNotFoundException "
   ]
  },
  {
   "cell_type": "code",
   "execution_count": null,
   "metadata": {},
   "outputs": [],
   "source": [
    "##Answer is D"
   ]
  },
  {
   "cell_type": "markdown",
   "metadata": {},
   "source": [
    "Q89. Which among the following is true? \n",
    "a) Only the base class catch the blocks are important. \n",
    "b) Only the derived class catch blocks are important. \n",
    "c) Both the base and derived class catch the blocks are important.\n",
    "d) If the base and derived classes both produce exceptions, the program doesn’t run"
   ]
  },
  {
   "cell_type": "code",
   "execution_count": null,
   "metadata": {},
   "outputs": [],
   "source": [
    "##Answer is C"
   ]
  },
  {
   "cell_type": "markdown",
   "metadata": {},
   "source": [
    "Q90. Which condition among the following might result in memory  exception? \n",
    "a) False if conditions \n",
    "b) Nested if conditions that are all false \n",
    "c) Infinite loops \n",
    "d) The loop that runs exactly 99 times "
   ]
  },
  {
   "cell_type": "code",
   "execution_count": null,
   "metadata": {},
   "outputs": [],
   "source": [
    "##Answer is C"
   ]
  },
  {
   "cell_type": "markdown",
   "metadata": {},
   "source": [
    "Q91. Which among the following is the correct definition for static   member functions? \n",
    "a) Functions created to allocate the constant values to each object \n",
    "b) Functions made to maintain a single copy of member functions for all the objects \n",
    "c) Functions created to define the static members \n",
    "d) Functions made to manipulate the static programs "
   ]
  },
  {
   "cell_type": "code",
   "execution_count": null,
   "metadata": {},
   "outputs": [],
   "source": [
    "##Answer is B"
   ]
  },
  {
   "cell_type": "markdown",
   "metadata": {},
   "source": [
    "Q92. The static member functions __________________ \n",
    "a) Having access to all the members of the class. \n",
    "b) Having access to only constant members of a class. \n",
    "c) Having access to only the static members of a class. \n",
    "d) Having direct access to all other class members also. "
   ]
  },
  {
   "cell_type": "code",
   "execution_count": null,
   "metadata": {},
   "outputs": [],
   "source": [
    "##Answer is C"
   ]
  },
  {
   "cell_type": "markdown",
   "metadata": {},
   "source": [
    "Q93. Which is the correct syntax to access the static member functions   with a class name? \n",
    "a) className . functionName; \n",
    "b) className -> functionName; \n",
    "c) className : functionName; \n",
    "d) className :: functionName"
   ]
  },
  {
   "cell_type": "code",
   "execution_count": null,
   "metadata": {},
   "outputs": [],
   "source": [
    "##Answer is D"
   ]
  },
  {
   "cell_type": "markdown",
   "metadata": {},
   "source": [
    "Q94. The static members are ______________________ \n",
    " \n",
    "a) Created with each new object.\n",
    "b) Created twice in the program. \n",
    "c) Created as many times, the class is being used. \n",
    "d)  Created and initialised, only once "
   ]
  },
  {
   "cell_type": "code",
   "execution_count": null,
   "metadata": {},
   "outputs": [],
   "source": [
    "##Answer is D"
   ]
  },
  {
   "cell_type": "markdown",
   "metadata": {},
   "source": [
    "Q95. Which among the following is true? \n",
    "a) Static member functions can be overloaded. \n",
    "b) Static member functions can’t be overloaded. \n",
    "c) Static member functions can be overloaded using the derived classes. \n",
    "d) Static member functions are implicitly overloaded. "
   ]
  },
  {
   "cell_type": "code",
   "execution_count": null,
   "metadata": {},
   "outputs": [],
   "source": [
    "##Answer is B"
   ]
  },
  {
   "cell_type": "markdown",
   "metadata": {},
   "source": [
    "Q96. The static member functions _______________ \n",
    "a) Can’t be declared const. \n",
    "b) Can’t be declared volatile. \n",
    "c) Can’t be declared const or volatile. \n",
    ") Can’t be declared const, volatile, or constant volatile. "
   ]
  },
  {
   "cell_type": "code",
   "execution_count": null,
   "metadata": {},
   "outputs": [],
   "source": [
    "##Answer is D"
   ]
  },
  {
   "cell_type": "markdown",
   "metadata": {},
   "source": [
    "Q97. Which among the following can’t be used to access the members in anyway? \n",
    "a) Scope resolution. \n",
    "b) Arrow operator. \n",
    "c) Single colon. \n",
    "d) Dot operator. "
   ]
  },
  {
   "cell_type": "code",
   "execution_count": null,
   "metadata": {},
   "outputs": [],
   "source": [
    "##Answer is C"
   ]
  },
  {
   "cell_type": "markdown",
   "metadata": {},
   "source": [
    "Q98. If static data member are made inline, ______________ \n",
    "a) Those should be initialised outside of the class. \n",
    "b) Those can’t be initialised with the class. \n",
    "c) Those can be initialised within the class. \n",
    "d) Class members can't use those. "
   ]
  },
  {
   "cell_type": "code",
   "execution_count": null,
   "metadata": {},
   "outputs": [],
   "source": [
    "##Answer is C"
   ]
  },
  {
   "cell_type": "markdown",
   "metadata": {},
   "source": [
    "Q99. The static data member _________________ \n",
    "a) It can be mutable. \n",
    "b) Can’t be mutable. \n",
    "c) Can’t be an integer. \n",
    "d) Can’t be characters. "
   ]
  },
  {
   "cell_type": "code",
   "execution_count": null,
   "metadata": {},
   "outputs": [],
   "source": [
    "##Answer is B"
   ]
  },
  {
   "cell_type": "markdown",
   "metadata": {},
   "source": [
    "Q100. We can use the static member functions and static data member __________________. \n",
    "a) Even if a class object is not created \n",
    "b) Even if a class is not defined \n",
    "c) Even if a class doesn’t contain any static member \n",
    "d) Even if a class doesn’t have a complete definition "
   ]
  },
  {
   "cell_type": "code",
   "execution_count": null,
   "metadata": {},
   "outputs": [],
   "source": [
    "##Answer is A"
   ]
  },
  {
   "cell_type": "markdown",
   "metadata": {},
   "source": [
    "Q101. Point out the wrong statement: \n",
    "a) ipython is an enhanced interactive python shell. \n",
    "b) Matplotlib: It enables us to plot graphics. \n",
    "c)  rPy provides lots of scientific routines that work on top of NumPy. \n",
    "d) all of the mentioned"
   ]
  },
  {
   "cell_type": "code",
   "execution_count": null,
   "metadata": {},
   "outputs": [],
   "source": [
    "##Answer is C"
   ]
  },
  {
   "cell_type": "markdown",
   "metadata": {},
   "source": [
    "Q102.  The ________ function returns its argument with the modified      shape, whereas the ________ method modifies the array itself. \n",
    "a) reshape, resize. \n",
    "b) resize, reshape. \n",
    "c) reshape2,resize. \n",
    "d) all of the mentioned. "
   ]
  },
  {
   "cell_type": "code",
   "execution_count": null,
   "metadata": {},
   "outputs": [],
   "source": [
    "##Answer is A"
   ]
  },
  {
   "cell_type": "markdown",
   "metadata": {},
   "source": [
    "Q103. To create sequences of the numbers, NumPy provides a function __________ analogous to range that returns arrays instead of lists. \n",
    "a) arrange. \n",
    "b) aspace. \n",
    "c) aline.\n",
    "d) all of the mentioned. "
   ]
  },
  {
   "cell_type": "code",
   "execution_count": null,
   "metadata": {},
   "outputs": [],
   "source": [
    "##Answer is A"
   ]
  },
  {
   "cell_type": "markdown",
   "metadata": {},
   "source": [
    "Q104.  Point out the correct statement: \n",
    "a)  NumPy main object is the Homogeneous -Multidimensional array. \n",
    "b)  In Numpy, dimensions are called axes. "
   ]
  },
  {
   "cell_type": "code",
   "execution_count": null,
   "metadata": {},
   "outputs": [],
   "source": [
    "##Answer is D"
   ]
  },
  {
   "cell_type": "markdown",
   "metadata": {},
   "source": [
    "Q105. Which of the following function stack 1D array as the   columns into the 2D array? \n",
    "a) row_stack. \n",
    "b) column_stack. \n",
    "c) com_stack. \n",
    "d) all of the mentioned. "
   ]
  },
  {
   "cell_type": "code",
   "execution_count": null,
   "metadata": {},
   "outputs": [],
   "source": [
    "##Answer is B"
   ]
  },
  {
   "cell_type": "markdown",
   "metadata": {},
   "source": [
    "Q106.  ndarray is also known as an alias array. \n",
    "a) True \n",
    "b) False "
   ]
  },
  {
   "cell_type": "code",
   "execution_count": null,
   "metadata": {},
   "outputs": [],
   "source": [
    "##Answer is A"
   ]
  },
  {
   "cell_type": "markdown",
   "metadata": {},
   "source": [
    "Q107. Which of the following method creates the new array object that  looks at the same data? \n",
    "a)  view. \n",
    "b)  copy. \n",
    "c)  paste. \n",
    "d) all of the mentioned"
   ]
  },
  {
   "cell_type": "code",
   "execution_count": null,
   "metadata": {},
   "outputs": [],
   "source": [
    "##Answer is A"
   ]
  },
  {
   "cell_type": "markdown",
   "metadata": {},
   "source": [
    "Q108. Which of the functions can be used to combine the   different vectors to obtain the result for each n-uplet? \n",
    "a) iid_. \n",
    "b) ix_. \n",
    "c) ixd_. \n",
    "d) all of the mentioned. "
   ]
  },
  {
   "cell_type": "code",
   "execution_count": null,
   "metadata": {},
   "outputs": [],
   "source": [
    "##Answer is B"
   ]
  },
  {
   "cell_type": "markdown",
   "metadata": {},
   "source": [
    "Q109. ndarray.dataitemSize is the buffer containing actual   elements  of an array. \n",
    "a) True \n",
    "b) False "
   ]
  },
  {
   "cell_type": "code",
   "execution_count": null,
   "metadata": {},
   "outputs": [],
   "source": [
    "##Answer is A"
   ]
  },
  {
   "cell_type": "markdown",
   "metadata": {},
   "source": [
    "Q110. Which of the following is in the NumPy library? \n",
    "a) The n-dimensional array object \n",
    "b) The tools for  integrating C/C++ and the Fortran code \n",
    "c) Fourier transform \n",
    "d) all of the Mentioned "
   ]
  },
  {
   "cell_type": "code",
   "execution_count": null,
   "metadata": {},
   "outputs": [],
   "source": [
    "##Answer is D"
   ]
  },
  {
   "cell_type": "markdown",
   "metadata": {},
   "source": [
    "Q111. Which of the following sets the size of the buffer used in ufuncs ? \n",
    "a) bufsize(size) \n",
    "b) setsize(size) \n",
    "c) setbufsize(size) \n",
    "d) all of the Mentioned "
   ]
  },
  {
   "cell_type": "code",
   "execution_count": null,
   "metadata": {},
   "outputs": [],
   "source": [
    "##Answer is C"
   ]
  },
  {
   "cell_type": "markdown",
   "metadata": {},
   "source": [
    "Q112. Point out the wrong statement: \n",
    "a) A universal function is the function that operates upon the “ndarrays” in an element-by-element fashion \n",
    "b) In Numpy, universal functions are the instances of numpy.ufunction class \n",
    "c) Many of the built-in functions are implemented in compiled C code \n",
    "d) All of the Mentioned"
   ]
  },
  {
   "cell_type": "code",
   "execution_count": null,
   "metadata": {},
   "outputs": [],
   "source": [
    "##Answer is B"
   ]
  },
  {
   "cell_type": "markdown",
   "metadata": {},
   "source": [
    "Q113. Which of the following attribute should be used while checking the  type combination input and output? \n",
    "a) .types \n",
    "b) .type \n",
    "c) .class \n",
    "d) all of the Mentioned "
   ]
  },
  {
   "cell_type": "code",
   "execution_count": null,
   "metadata": {},
   "outputs": [],
   "source": [
    "##Answer is A"
   ]
  },
  {
   "cell_type": "markdown",
   "metadata": {},
   "source": [
    "Q114. Which of the following returns an array of “ones” with the same  shape and type as a given array? \n",
    "a) all_like \n",
    "b) ones_like \n",
    "c) one_alike\n",
    "d) all of the Mentioned "
   ]
  },
  {
   "cell_type": "code",
   "execution_count": null,
   "metadata": {},
   "outputs": [],
   "source": [
    "##Answer is B"
   ]
  },
  {
   "cell_type": "markdown",
   "metadata": {},
   "source": [
    "Q115. Point out the wrong statement: \n",
    "a) Each universal function takes an array input and produces array outputs\n",
    "b) Broadcasting is used throughout NumPy to decide how to handle the disparately shaped arrays \n",
    "c) The output of the ufunc is necessarily a ndarray, if all the input arguments are ndarrays \n",
    "d) All of the Mentioned"
   ]
  },
  {
   "cell_type": "code",
   "execution_count": null,
   "metadata": {},
   "outputs": [],
   "source": [
    "##Answer is C"
   ]
  },
  {
   "cell_type": "markdown",
   "metadata": {},
   "source": [
    "Q116. Which of the following set of a floating-point error callback   function or a log object?   \n",
    " a) setter. \n",
    " b) settercall. \n",
    " c) setterstack. \n",
    " d) all of the mentioned"
   ]
  },
  {
   "cell_type": "code",
   "execution_count": null,
   "metadata": {},
   "outputs": [],
   "source": [
    "##Answer is B"
   ]
  },
  {
   "cell_type": "markdown",
   "metadata": {},
   "source": [
    "Q117. Some ufuncs can take output arguments. \n",
    "a) True \n",
    "b) False "
   ]
  },
  {
   "cell_type": "code",
   "execution_count": null,
   "metadata": {},
   "outputs": [],
   "source": [
    "##Answer is B"
   ]
  },
  {
   "cell_type": "markdown",
   "metadata": {},
   "source": [
    "Q118. ___________ decompose the elements of x into the   mantissa and the two’s exponent. \n",
    "a) trunc \n",
    "b) fmod \n",
    "c) frexp \n",
    "d) ldexp"
   ]
  },
  {
   "cell_type": "code",
   "execution_count": null,
   "metadata": {},
   "outputs": [],
   "source": [
    "##Answer is C"
   ]
  },
  {
   "cell_type": "markdown",
   "metadata": {},
   "source": [
    "Q119. Which of the following function take the only a single value as input? \n",
    "a) iscomplex. \n",
    "b) minimum. \n",
    "c) fmin. \n",
    "d) all of the mentioned"
   ]
  },
  {
   "cell_type": "code",
   "execution_count": null,
   "metadata": {},
   "outputs": [],
   "source": [
    "##Answer is A"
   ]
  },
  {
   "cell_type": "markdown",
   "metadata": {},
   "source": [
    "Q120. The array object returned by the _array_prepare_ is passed to      ufunc for computation. \n",
    "a) True \n",
    "b) False "
   ]
  },
  {
   "cell_type": "code",
   "execution_count": null,
   "metadata": {},
   "outputs": [],
   "source": [
    "##Answer is A"
   ]
  },
  {
   "cell_type": "markdown",
   "metadata": {},
   "source": [
    "Q121. All pandas data structures are ___mutable but not always  _______-mutable.\n",
    "a)  size,value. \n",
    "b) semantic,size. \n",
    "c) value,size. \n",
    "d) none of the mentioned"
   ]
  },
  {
   "cell_type": "code",
   "execution_count": null,
   "metadata": {},
   "outputs": [],
   "source": [
    "##Answer is C"
   ]
  },
  {
   "cell_type": "markdown",
   "metadata": {},
   "source": [
    "Q122.  Point out the correct statement: \n",
    "a) Pandas consist of a set of the labelled array data structures\n",
    "b) Pandas consist of an integrated group by the engine for aggregating and the transforming data sets \n",
    "c) Pandas consist of moving window statistics \n",
    "d) All of the above mentioned"
   ]
  },
  {
   "cell_type": "code",
   "execution_count": null,
   "metadata": {},
   "outputs": [],
   "source": [
    "##Answer is D"
   ]
  },
  {
   "cell_type": "markdown",
   "metadata": {},
   "source": [
    "Q123. Which of the following statement will import the pandas? \n",
    "a) import pandas as pd b) import panda as py c) import pandaspy as pd d) all of the Mentioned "
   ]
  },
  {
   "cell_type": "code",
   "execution_count": null,
   "metadata": {},
   "outputs": [],
   "source": [
    "##Answer is A"
   ]
  },
  {
   "cell_type": "markdown",
   "metadata": {},
   "source": [
    "Q124. Which of the following object did we get after reading the CSV file? \n",
    "a) DataFrame. \n",
    "b) Character Vector. \n",
    "c) Panel. \n",
    "d) All of the Mentioned "
   ]
  },
  {
   "cell_type": "code",
   "execution_count": null,
   "metadata": {},
   "outputs": [],
   "source": [
    "##Answer is A"
   ]
  },
  {
   "cell_type": "markdown",
   "metadata": {},
   "source": [
    "Q125. Point out the wrong statement: \n",
    "a) Series is 1D labelled homogeneously-typed array. \n",
    "b) DataFrame is a general 2D labelled, size-mutable tabular structure with the potentially heterogeneously-typed columns. \n",
    "c) The panel is generally 2D labelled, also a size-mutable array. \n",
    "d) None of the Mentioned. "
   ]
  },
  {
   "cell_type": "code",
   "execution_count": null,
   "metadata": {},
   "outputs": [],
   "source": [
    "##Answer is C"
   ]
  },
  {
   "cell_type": "markdown",
   "metadata": {},
   "source": [
    "Q126. Which of the following library is similar to the pandas? a)  numpy. b)  RPy. c)  OutPy. d)  None of the mentioned. "
   ]
  },
  {
   "cell_type": "code",
   "execution_count": null,
   "metadata": {},
   "outputs": [],
   "source": [
    "##Answer is A"
   ]
  },
  {
   "cell_type": "markdown",
   "metadata": {},
   "source": [
    "Q127. Panel is a container for the Series, and DataFrame is a   container for DataFrame objects. \n",
    "a) True \n",
    "b) False "
   ]
  },
  {
   "cell_type": "code",
   "execution_count": null,
   "metadata": {},
   "outputs": [],
   "source": [
    "##Answer is B"
   ]
  },
  {
   "cell_type": "markdown",
   "metadata": {},
   "source": [
    "Q128. Which of the following is the prominent python “statistics and  econometrics library”? \n",
    "a) Bokeh. \n",
    "b) Seaborn. \n",
    "c) Statsmodels. \n",
    "d) None of the mentioned"
   ]
  },
  {
   "cell_type": "code",
   "execution_count": null,
   "metadata": {},
   "outputs": [],
   "source": [
    "##Answer is C"
   ]
  },
  {
   "cell_type": "markdown",
   "metadata": {},
   "source": [
    "Q129. Which of the following is the foundational exploratory visualisation  package for the R language in the pandas ecosystem? \n",
    "a) yhat. \n",
    "b) Seaborn. \n",
    "c) Vincent. \n",
    "d) None of the mentioned. "
   ]
  },
  {
   "cell_type": "code",
   "execution_count": null,
   "metadata": {},
   "outputs": [],
   "source": [
    "##Answer is A"
   ]
  },
  {
   "cell_type": "markdown",
   "metadata": {},
   "source": [
    "Q130. Pandas consist of static and the moving window linear and panel  regression. \n",
    "a) True \n",
    "b) False "
   ]
  },
  {
   "cell_type": "code",
   "execution_count": null,
   "metadata": {},
   "outputs": [],
   "source": [
    "##Answer is A"
   ]
  },
  {
   "cell_type": "markdown",
   "metadata": {},
   "source": [
    "Q131. Quandl API for Python wraps the __ REST API to   returns the pandas DataFrames with time series indexes. \n",
    "a) Quandl.\n",
    "b) PyDatastream. \n",
    "c) PyData. \n",
    "d) None of the Mentioned. "
   ]
  },
  {
   "cell_type": "code",
   "execution_count": null,
   "metadata": {},
   "outputs": [],
   "source": [
    "##Answer is B"
   ]
  },
  {
   "cell_type": "markdown",
   "metadata": {},
   "source": [
    "Q132. Point out the correct statement: \n",
    "a) Statsmodels provides powerful statistics, econometrics, analysis and the modelling functionality which is out of pandas’ scope \n",
    "b) Vintage leverages pandas objects as an underlying data container for the computation \n",
    "c) Bokeh is a Python interactive visualisation library for the small datasets \n",
    "d) All of the Mentioned "
   ]
  },
  {
   "cell_type": "code",
   "execution_count": null,
   "metadata": {},
   "outputs": [],
   "source": [
    "##Answer is C"
   ]
  },
  {
   "cell_type": "markdown",
   "metadata": {},
   "source": [
    "Q133.Which of the following library is used to retrieve and to acquire   statistical data and metadata disseminated in SDMX 2.1?  \n",
    "a) pandaSDMX \n",
    "b) freedapi \n",
    "c) Geopandas. \n",
    "d) All of the Mentioned"
   ]
  },
  {
   "cell_type": "code",
   "execution_count": null,
   "metadata": {},
   "outputs": [],
   "source": [
    "##Answer is A"
   ]
  },
  {
   "cell_type": "markdown",
   "metadata": {},
   "source": [
    "Q134. Which of the following provides the standard API for doing   computations with MongoDB? \n",
    "a) Blaze. \n",
    "b) Geopandas. \n",
    "c) FRED. \n",
    "d) All of the Mentioned"
   ]
  },
  {
   "cell_type": "code",
   "execution_count": null,
   "metadata": {},
   "outputs": [],
   "source": [
    "##Answer is A"
   ]
  },
  {
   "cell_type": "markdown",
   "metadata": {},
   "source": [
    "Q135. Point out the wrong statement: \n",
    "a) qgrid is an interactive grid for sorting and the filtering DataFrames \n",
    "b) Pandas DataFrames implement _repr_html_ methods which are utilised by the IPython Notebook \n",
    "c) Spyder is a cross-platform Qt-based open-source R IDE \n",
    "d) None of the Mentioned"
   ]
  },
  {
   "cell_type": "code",
   "execution_count": null,
   "metadata": {},
   "outputs": [],
   "source": [
    "##Answer is C"
   ]
  },
  {
   "cell_type": "code",
   "execution_count": null,
   "metadata": {},
   "outputs": [],
   "source": [
    "Q136. Which of the following makes use of the pandas and returns   data in a Series or DataFrame? \n",
    " \n",
    " \n",
    "a) pandaSDMX. b) freedapi. c) OutPy. d) none of the mentioned"
   ]
  },
  {
   "cell_type": "code",
   "execution_count": null,
   "metadata": {},
   "outputs": [],
   "source": [
    "##Answer is B"
   ]
  },
  {
   "cell_type": "code",
   "execution_count": null,
   "metadata": {},
   "outputs": [],
   "source": [
    "Q137. Spyder can introspect and display Pandas DataFrames. \n",
    " \n",
    "a) True b) False "
   ]
  },
  {
   "cell_type": "code",
   "execution_count": null,
   "metadata": {},
   "outputs": [],
   "source": [
    "##Answer is A"
   ]
  },
  {
   "cell_type": "code",
   "execution_count": null,
   "metadata": {},
   "outputs": [],
   "source": [
    "Q138. Which of the following is used for machine learning in the python? \n",
    " \n",
    "a) sci-kit-learn. b) seaborn-learn. c) stats-learn. d) none of the mentioned"
   ]
  },
  {
   "cell_type": "code",
   "execution_count": null,
   "metadata": {},
   "outputs": [],
   "source": [
    "##Answer is A"
   ]
  },
  {
   "cell_type": "code",
   "execution_count": null,
   "metadata": {},
   "outputs": [],
   "source": [
    "Q139. The ________ project builds on top of the pandas and matplotlib   to provide easy plotting of data. \n",
    " \n",
    " \n",
    "a) yhat. b) Seaborn. c) Vincent. d) None of the mentioned. "
   ]
  },
  {
   "cell_type": "code",
   "execution_count": null,
   "metadata": {},
   "outputs": [],
   "source": [
    "##Answer is B"
   ]
  },
  {
   "cell_type": "markdown",
   "metadata": {},
   "source": [
    "Q140 x-ray brings the labelled data power of pandas to the physical  sciences. \n",
    " \n",
    "a) True b) False "
   ]
  },
  {
   "cell_type": "code",
   "execution_count": null,
   "metadata": {},
   "outputs": [],
   "source": [
    "##Answer is A"
   ]
  },
  {
   "cell_type": "markdown",
   "metadata": {},
   "source": [
    "Q141. Which of the following is the base layer of all of the sparse   has it indexed data structures? \n",
    " \n",
    "a) SArray. b) SparseArray. c) PyArray. d) None of the mentioned"
   ]
  },
  {
   "cell_type": "code",
   "execution_count": null,
   "metadata": {},
   "outputs": [],
   "source": [
    "##Answer is B"
   ]
  },
  {
   "cell_type": "markdown",
   "metadata": {},
   "source": [
    "Q142.  Point out the correct statement. \n",
    " \n",
    "a) All of the standard pandas data structures have to_sparse method b) Any sparse object can be converted back to the standard dense form by calling the to_dense c) The sparse objects exist for memory efficiency reasons. d) All of the mentioned"
   ]
  },
  {
   "cell_type": "code",
   "execution_count": null,
   "metadata": {},
   "outputs": [],
   "source": [
    "##Answer is D"
   ]
  },
  {
   "cell_type": "markdown",
   "metadata": {},
   "source": [
    "Q143. Which of the following is not an indexed object? \n",
    " \n",
    "a) SparseSeries. b) SparseDataFrame. c) SparsePanel. d) None of the mentioned. "
   ]
  },
  {
   "cell_type": "code",
   "execution_count": null,
   "metadata": {},
   "outputs": [],
   "source": [
    "##Answer is D"
   ]
  },
  {
   "cell_type": "markdown",
   "metadata": {},
   "source": [
    "Q144. Which of the following list like data structure is used for managing  the dynamic collection of SparseArrays? \n",
    " \n",
    "a) SparseList. b) GeoList. c) SparseSeries. d) All of the mentioned. "
   ]
  },
  {
   "cell_type": "code",
   "execution_count": null,
   "metadata": {},
   "outputs": [],
   "source": [
    "##Answer is A"
   ]
  },
  {
   "cell_type": "markdown",
   "metadata": {},
   "source": [
    "Q145.  Point out the wrong statement. \n",
    " \n",
    "a) to_array. append can accept scalar values or any 2-D sequence. b) Two kinds of SparseIndex are implemented. c) The integer format keeps an arrays of all locations, where the data are not equal to the fill value. d) None of the mentioned"
   ]
  },
  {
   "cell_type": "code",
   "execution_count": null,
   "metadata": {},
   "outputs": [],
   "source": [
    "##Answer is A"
   ]
  },
  {
   "cell_type": "markdown",
   "metadata": {},
   "source": [
    "Q146. Which of the following method used for transforming the   Sparse-series index by the MultiIndex to a   scipy.sparse.coo_matrix? \n",
    " \n",
    "a) SparseSeries.to_coo(). b) Series.to_coo(). c) SparseSeries.to_cooser(). d) None of the mentioned. "
   ]
  },
  {
   "cell_type": "code",
   "execution_count": null,
   "metadata": {},
   "outputs": [],
   "source": [
    "##Answer is A"
   ]
  },
  {
   "cell_type": "markdown",
   "metadata": {},
   "source": [
    "Q147. The integer format tracks only the locations and the sizes of   blocks of data. \n",
    " \n",
    "a) True b) False "
   ]
  },
  {
   "cell_type": "code",
   "execution_count": null,
   "metadata": {},
   "outputs": [],
   "source": [
    "##Answer is B"
   ]
  },
  {
   "cell_type": "markdown",
   "metadata": {},
   "source": [
    "Q148. Which of the following is used for the testing for membership in   the list of column names? \n",
    " \n",
    " \n",
    "a) in. b) out. c) else if. d) none of the mentioned"
   ]
  },
  {
   "cell_type": "code",
   "execution_count": null,
   "metadata": {},
   "outputs": [],
   "source": [
    "##Answer is A"
   ]
  },
  {
   "cell_type": "markdown",
   "metadata": {},
   "source": [
    "Q149. Which of the following indexing capabilities is used as the concise  means of selecting data from a pandas object? \n",
    " \n",
    "a) In. b) ix. c) ipy. d) none of the mentioned"
   ]
  },
  {
   "cell_type": "code",
   "execution_count": null,
   "metadata": {},
   "outputs": [],
   "source": [
    "##Answer is B"
   ]
  },
  {
   "cell_type": "markdown",
   "metadata": {},
   "source": [
    "Q150. Pandas follow the NumPy convention of raising an error when  you try to convert something to a bool. \n",
    " \n",
    "a) True b) False "
   ]
  },
  {
   "cell_type": "code",
   "execution_count": null,
   "metadata": {},
   "outputs": [],
   "source": [
    "##Answer is A"
   ]
  }
 ],
 "metadata": {
  "kernelspec": {
   "display_name": "Python 3",
   "language": "python",
   "name": "python3"
  },
  "language_info": {
   "codemirror_mode": {
    "name": "ipython",
    "version": 3
   },
   "file_extension": ".py",
   "mimetype": "text/x-python",
   "name": "python",
   "nbconvert_exporter": "python",
   "pygments_lexer": "ipython3",
   "version": "3.7.4"
  }
 },
 "nbformat": 4,
 "nbformat_minor": 2
}
