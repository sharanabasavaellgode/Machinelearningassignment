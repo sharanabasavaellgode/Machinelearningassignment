{
 "cells": [
  {
   "cell_type": "markdown",
   "metadata": {},
   "source": [
    "Q1. Write a Python program to get the string from the given string where all the occurrence of its first char has been changed to '$,' except first char itself?   Sample String: 'prospect'                           Expected Result : 'pros$ect' "
   ]
  },
  {
   "cell_type": "code",
   "execution_count": 7,
   "metadata": {},
   "outputs": [
    {
     "name": "stdout",
     "output_type": "stream",
     "text": [
      "input is prospect\n",
      "output is pros$ect\n"
     ]
    }
   ],
   "source": [
    "str1 = 'prospect'\n",
    "print('input is',str1)\n",
    "char1 = str1[0]\n",
    "char1\n",
    "str1 = str1.replace(char1,'$')\n",
    "str1 = char1+str1[1:]\n",
    "print('output is',str1)"
   ]
  },
  {
   "cell_type": "markdown",
   "metadata": {},
   "source": [
    "Q2. Write a Python program to get the single string from the two given strings, and separated by the space and swap the first two characters of each string?          Sample String : 'abc', 'xyz'. Expected Result: 'xyc abz' "
   ]
  },
  {
   "cell_type": "code",
   "execution_count": 14,
   "metadata": {},
   "outputs": [
    {
     "name": "stdout",
     "output_type": "stream",
     "text": [
      "input first string xyz\n",
      "input second string abc\n",
      "output is  xyc  abz\n"
     ]
    }
   ],
   "source": [
    "string2 = 'xyz'\n",
    "string21 = 'abc'\n",
    "stringspace = '  '\n",
    "string211 = string2[0:2]+string21[2]+stringspace+string21[0:2]+string2[2]\n",
    "print('input first string',string2)\n",
    "print('input second string',string21)\n",
    "print(\"output is \",string211)"
   ]
  },
  {
   "cell_type": "markdown",
   "metadata": {},
   "source": [
    "Q3. Write the Python program to add 'ing' at the end of the given string (length of the string should be at least 3). If given string already ends with 'ing,' then add 'ly' instead. If string length of the given string is less than 3, leave it unchanged? \n",
    " \n",
    "Sample string:    ' abc ' Expected result:   ' abcing ' Sample string:   ' string ' Expected result:   ' stringly ' "
   ]
  },
  {
   "cell_type": "code",
   "execution_count": 20,
   "metadata": {},
   "outputs": [
    {
     "name": "stdout",
     "output_type": "stream",
     "text": [
      "input given st\n",
      "output is st\n",
      "input given start\n",
      "output is starting\n",
      "input given walking\n",
      "output is walkingly\n"
     ]
    }
   ],
   "source": [
    "string3 = 'st'\n",
    "string4 = 'start'\n",
    "string5 = 'walking'\n",
    "\n",
    "def funcstring(string1):\n",
    "    if len(string1) < 3:\n",
    "        pass\n",
    "    elif len(string1) > 3 and string1[:-4:-1] != 'gni':\n",
    "        string1 = string1+'ing'\n",
    "    elif len(string1) > 3 and string1[:-4:-1] == 'gni' :\n",
    "        string1 = string1+'ly'\n",
    "    return string1 \n",
    "\n",
    "print(\"input given\",string3)\n",
    "print(\"output is\",funcstring(string3))\n",
    "print(\"input given\",string4)\n",
    "print(\"output is\",funcstring(string4))\n",
    "print(\"input given\",string5)\n",
    "print(\"output is\",funcstring(string5))"
   ]
  },
  {
   "cell_type": "markdown",
   "metadata": {},
   "source": [
    "Q4.  Write the Python program to find the first appearance of the substring 'not' and 'poor' from the given string, if 'not' follows the 'poor', replace the whole 'not'...' poor' substring with 'good'.Return the resulting string.  \n",
    " \n",
    "Sample string: 'The lyrics are not that poor!' 'The lyrics are poor!' Expected Result: 'The lyrics are good!' 'The lyrics are poor!'"
   ]
  },
  {
   "cell_type": "code",
   "execution_count": 25,
   "metadata": {},
   "outputs": [
    {
     "name": "stdout",
     "output_type": "stream",
     "text": [
      "input is  The lyrics are not that poor!The lyrics are poor!\n",
      "output is The lyrics are good!The lyrics are poor!\n"
     ]
    }
   ],
   "source": [
    "string4 = 'The lyrics are not that poor!' 'The lyrics are poor!'\n",
    "def func4(string1) :\n",
    "    indexofnot = string1.find('not')\n",
    "    if indexofnot == -1:\n",
    "       pass\n",
    "    elif indexofnot > -1:\n",
    "         indexofpoor = string1.find('poor')\n",
    "         if indexofpoor > indexofnot:\n",
    "                string1 = string1.replace((string1[indexofnot:indexofpoor+4]),'good')\n",
    "    return string1\n",
    "\n",
    "print('input is ',string4)\n",
    "print('output is',func4(string4))"
   ]
  },
  {
   "cell_type": "markdown",
   "metadata": {},
   "source": [
    "Q5. Write the Python program to remove the characters which have odd index values of a given string. \n",
    " "
   ]
  },
  {
   "cell_type": "code",
   "execution_count": 26,
   "metadata": {},
   "outputs": [
    {
     "name": "stdout",
     "output_type": "stream",
     "text": [
      "input is abcdeghijkl\n",
      "output is acehjl\n"
     ]
    }
   ],
   "source": [
    "string5 = 'abcdeghijkl'\n",
    "string51 = string5[::2]\n",
    "print('input is',string5)\n",
    "print('output is',string51)"
   ]
  },
  {
   "cell_type": "markdown",
   "metadata": {},
   "source": [
    "Q6. Write the Python function to get a string made of 4 copies of the last two characters of the specified string (length must be at least 2).          Sample function  and  result : insert-end ('Python')  -> abababab insert-end('Exercises')  -> jkjkjkjk "
   ]
  },
  {
   "cell_type": "code",
   "execution_count": 30,
   "metadata": {},
   "outputs": [
    {
     "name": "stdout",
     "output_type": "stream",
     "text": [
      "input is python\n",
      "output is  onononon\n"
     ]
    }
   ],
   "source": [
    "def funclasttwochar(string6):\n",
    "    if len(string6) > 2:\n",
    "        string61 = (string6[:-3:-1])\n",
    "        string62 = (string61[::-1])*4\n",
    "    else:\n",
    "        pass\n",
    "    return string62\n",
    "string6 = 'python'\n",
    "print('input is',string6)\n",
    "print('output is ',funclasttwochar(string6))"
   ]
  },
  {
   "cell_type": "markdown",
   "metadata": {},
   "source": [
    "Q7. Write the python function to get a string made of its first three characters of a specified string. If the length of the string is less than 3 then return the original string. \n",
    " \n",
    "Sample function and result : first-three('ipy') -> ipy first-three('python') -> pyt "
   ]
  },
  {
   "cell_type": "code",
   "execution_count": 36,
   "metadata": {},
   "outputs": [
    {
     "name": "stdout",
     "output_type": "stream",
     "text": [
      "input is python\n",
      "output is pyt\n",
      "input is ipy\n",
      "output is ipy\n"
     ]
    }
   ],
   "source": [
    "def funcfirstthreechar(string7):\n",
    "    if len(string7) > 3 :\n",
    "       string7 = string7[0:3]\n",
    "    elif len(string7) < 3 :\n",
    "       return strting7\n",
    "    return string7\n",
    "\n",
    "string7 = 'python'\n",
    "print('input is',string7)\n",
    "print('output is',funcfirstthreechar(string7))\n",
    "string71 = 'ipy'\n",
    "print('input is',string71)\n",
    "print('output is',funcfirstthreechar(string71))"
   ]
  },
  {
   "cell_type": "markdown",
   "metadata": {},
   "source": [
    "Q8. Write the python program to print the following floating numbers up   to 2 decimal places? "
   ]
  },
  {
   "cell_type": "code",
   "execution_count": 39,
   "metadata": {},
   "outputs": [
    {
     "name": "stdout",
     "output_type": "stream",
     "text": [
      "input is 100.0\n",
      "output is 100.00\n"
     ]
    }
   ],
   "source": [
    "a  = 100.0\n",
    "print('input is',a)\n",
    "print('output is','{:.2f}'.format(a))"
   ]
  },
  {
   "cell_type": "markdown",
   "metadata": {},
   "source": [
    "Q9. Write the Python program to format a number with a percentage? "
   ]
  },
  {
   "cell_type": "code",
   "execution_count": 41,
   "metadata": {},
   "outputs": [
    {
     "name": "stdout",
     "output_type": "stream",
     "text": [
      "input is 88\n",
      "ouput is 88.00%\n"
     ]
    }
   ],
   "source": [
    "a = 88\n",
    "print('input is',a)\n",
    "print('ouput is','{:.2%}'.format(a/100))"
   ]
  },
  {
   "cell_type": "markdown",
   "metadata": {},
   "source": [
    "Q10. Write the Python program to count occurrences of a substring in a String? "
   ]
  },
  {
   "cell_type": "code",
   "execution_count": 42,
   "metadata": {},
   "outputs": [
    {
     "name": "stdout",
     "output_type": "stream",
     "text": [
      "input is Ineuron Ineuron\n",
      "ouput is 2\n"
     ]
    }
   ],
   "source": [
    "string10 = 'Ineuron Ineuron'\n",
    "stringcount = string10.count('eu')\n",
    "print('input is',string10)\n",
    "print('ouput is',stringcount)"
   ]
  },
  {
   "cell_type": "markdown",
   "metadata": {},
   "source": [
    "Q11. Write the Python program to count repeated characters in a string. \n",
    "Sample string: ' thequickbrownjumpsoverthelazydog ' Expected output: o 3 e 3 u 2 h 2  \n",
    "r 2 t 2 "
   ]
  },
  {
   "cell_type": "code",
   "execution_count": 43,
   "metadata": {},
   "outputs": [
    {
     "name": "stdout",
     "output_type": "stream",
     "text": [
      "repeated character e character count 3\n",
      "repeated character h character count 2\n",
      "repeated character o character count 3\n",
      "repeated character r character count 2\n",
      "repeated character t character count 2\n",
      "repeated character u character count 2\n"
     ]
    }
   ],
   "source": [
    "alphabet = 'abcdefghijklmnopqrstuvwxyz'\n",
    "string11 = 'thequickbrownjumpsoverthelazydog'\n",
    "for alph in alphabet:\n",
    "    charcount = string11.count(alph)\n",
    "    if charcount > 1 :\n",
    "        print('repeated character',alph,'character count',charcount)"
   ]
  },
  {
   "cell_type": "markdown",
   "metadata": {},
   "source": [
    "Q12. Write the Python program to print the square and cube symbol in   the area of a rectangle and volume of a cylinder?   Sample output- The area of the rectangle is 1256.66cm2 The volume of the cylinder is 1254.725cm3 "
   ]
  },
  {
   "cell_type": "code",
   "execution_count": 48,
   "metadata": {},
   "outputs": [
    {
     "name": "stdout",
     "output_type": "stream",
     "text": [
      "The area of the rectangle is 1256.66cm²\n",
      "The volume of the cylinder is 1254.725cm³\n"
     ]
    }
   ],
   "source": [
    "area = 1256.66 \n",
    "volume = 1254.725 \n",
    "decimals = 2 \n",
    "print(\"The area of the rectangle is {0:.{1}f}cm\\u00b2\".format(area, decimals)) \n",
    "decimals = 3 \n",
    "print(\"The volume of the cylinder is {0:.{1}f}cm\\u00b3\".format(volume, decimals)) "
   ]
  },
  {
   "cell_type": "markdown",
   "metadata": {},
   "source": [
    "Q13. Write the Python program to check if a string contains all letters of   the alphabet? "
   ]
  },
  {
   "cell_type": "code",
   "execution_count": 49,
   "metadata": {},
   "outputs": [
    {
     "name": "stdout",
     "output_type": "stream",
     "text": [
      "string check contains all alphabet 26\n"
     ]
    }
   ],
   "source": [
    "alphabet = 'abcdefghijklmnopqrstuvwxyz'\n",
    "stringcheck = 'abcdefghijklmnopqrstuvwxyz'\n",
    "alphacount = 0\n",
    "for alph in alphabet:\n",
    "    checkcount = stringcheck.count(alph)\n",
    "    if checkcount > 0:\n",
    "        alphacount = alphacount + 1\n",
    "        if alphacount == 26 :\n",
    "            print(\"string check contains all alphabet\",alphacount)\n",
    "        else:\n",
    "            pass\n",
    "    else:\n",
    "        print(\"stringcheck doesn't contain all alphabet missing is\",alph)\n",
    "        break\n"
   ]
  },
  {
   "cell_type": "markdown",
   "metadata": {},
   "source": [
    "Q14.  Write the Python program to find the second most repeated word   in a given string? "
   ]
  },
  {
   "cell_type": "code",
   "execution_count": 54,
   "metadata": {},
   "outputs": [
    {
     "name": "stdout",
     "output_type": "stream",
     "text": [
      "input string is :- how are you how are you where are you are\n",
      "dictionary {'how': 2, 'are': 4, 'you': 3, 'where': 1}\n",
      "second largetst repeated for 3\n",
      "second largest is :- you which has occurence of 3\n"
     ]
    }
   ],
   "source": [
    "string14 = 'how are you how are you where are you are'\n",
    "print('input string is :-',string14)\n",
    "stringlist = string14.split(' ')\n",
    "Dict1 = {}\n",
    "for word in stringlist:\n",
    "    wordcount = string14.count(word)\n",
    "    Dict1[word] = wordcount\n",
    "Dict2 = sorted(Dict1.values())\n",
    "Secondlarget = Dict2[-2]\n",
    "print('dictionary',Dict1)\n",
    "print('second largetst repeated for',Dict2[-2])\n",
    "for items in Dict1:\n",
    "    if Dict1[items] == Secondlarget:\n",
    "        print('second largest is :-',items,'which has occurence of',Dict1[items])\n",
    "\n"
   ]
  },
  {
   "cell_type": "markdown",
   "metadata": {},
   "source": [
    "Q15. Write the Python program to find the minimum window in the given  string, which will contains all the characters of another given   strings?             Example 1 Input : string1 = \" PRWSOERIUSFK \" string2 = \" OSU \" Output: Minimum window is \"OERIUS\" "
   ]
  },
  {
   "cell_type": "code",
   "execution_count": 59,
   "metadata": {},
   "outputs": [
    {
     "name": "stdout",
     "output_type": "stream",
     "text": [
      "input string:-\n",
      "  PRWAOERIUSFK \n",
      "input given string:-\n",
      "  OSU \n",
      "minium window given string :-\n",
      " OERIUS\n"
     ]
    }
   ],
   "source": [
    "string15 = \" PRWAOERIUSFK \" \n",
    "string152 = \" OSU \"\n",
    "list15 = []\n",
    "list15.append(string15.find('O',0,len(string15)))\n",
    "list15.append(string15.find('S',0,len(string15)))\n",
    "list15.append(string15.find('U',0,len(string15)))\n",
    "print('input string:-\\n',string15)\n",
    "print('input given string:-\\n',string152)\n",
    "print('minium window given string :-\\n',string15[(min(list15)):max(list15)+1])"
   ]
  },
  {
   "cell_type": "markdown",
   "metadata": {},
   "source": [
    "Q16. Write the Python program to find smallest window that contains all   characters of the given string? \n",
    " \n",
    "Original Strings:  asdaewsqgtwwsa \n",
    " \n",
    "Smallest window that contains all characters of the said string: \n",
    "   Daewsqgt "
   ]
  },
  {
   "cell_type": "code",
   "execution_count": 60,
   "metadata": {},
   "outputs": [
    {
     "name": "stdout",
     "output_type": "stream",
     "text": [
      "input is:- asdaewsqgtwwsa\n",
      "output is:- asdewqgt\n"
     ]
    }
   ],
   "source": [
    "string16 = 'asdaewsqgtwwsa'\n",
    "string161 = ''\n",
    "for i16 in string16:\n",
    "    if i16 not in string161:\n",
    "        string161 = string161+i16\n",
    "print('input is:-',string16)\n",
    "print('output is:-',string161)"
   ]
  },
  {
   "cell_type": "markdown",
   "metadata": {},
   "source": [
    "Q17.  Write the Python program to count number of substrings from a   given string of lowercase alphabets with exactly k distinct (given)   characters?             \n",
    "Input a string (lowercase alphabets): wolf Input k:  4 Number of substrings with exactly 4 distinct characters: 1 "
   ]
  },
  {
   "cell_type": "code",
   "execution_count": 64,
   "metadata": {},
   "outputs": [
    {
     "name": "stdout",
     "output_type": "stream",
     "text": [
      "input is wolfwolfwolf\n",
      "output is wolf\n",
      "4\n"
     ]
    }
   ],
   "source": [
    "string17 = 'wolfwolfwolf'\n",
    "string171 = ''\n",
    "for i17 in string17:\n",
    "    if i17 not in string171:\n",
    "        string171 = string171+i17\n",
    "print('input is',string17)\n",
    "print('output is',string171)\n",
    "print(len(string171))"
   ]
  },
  {
   "cell_type": "markdown",
   "metadata": {},
   "source": [
    "Q18. Write the Python program to count number of non-empty   substrings of the given string?   Input a string:  w3resource Number of substrings: 55"
   ]
  },
  {
   "cell_type": "code",
   "execution_count": 66,
   "metadata": {},
   "outputs": [
    {
     "data": {
      "text/plain": [
       "55.0"
      ]
     },
     "execution_count": 66,
     "metadata": {},
     "output_type": "execute_result"
    }
   ],
   "source": [
    "string18 = 'w3resource'\n",
    "numberofsubstring18 = (len(string18)*((len(string18)+1)/2))\n",
    "numberofsubstring18"
   ]
  },
  {
   "cell_type": "markdown",
   "metadata": {},
   "source": [
    "Q19. Write the Python program to count number of substrings with same   first and last characters of the given string? \n",
    "Input a string:  abcd 4 "
   ]
  },
  {
   "cell_type": "code",
   "execution_count": 68,
   "metadata": {},
   "outputs": [
    {
     "name": "stdout",
     "output_type": "stream",
     "text": [
      "string with first and last character 4\n"
     ]
    }
   ],
   "source": [
    "string19 = 'abcd'\n",
    "count19 = 0\n",
    "for i in range(len(string19)):\n",
    "    for j in range(i,len(string19)):\n",
    "        if string19[i] == string19[j]:\n",
    "            count19 = count19+1 \n",
    "print('string with first and last character',count19)"
   ]
  },
  {
   "cell_type": "markdown",
   "metadata": {},
   "source": [
    "Q20. Write the Python program to count the number of strings where the   string length is 2 or more, and  first and last character are same   from a given list of strings. \n",
    "Sample List : ['abc', 'xyz', 'wxw', '1331'] Expected Result: 2 \n",
    " "
   ]
  },
  {
   "cell_type": "code",
   "execution_count": 69,
   "metadata": {},
   "outputs": [
    {
     "name": "stdout",
     "output_type": "stream",
     "text": [
      "first and last character are same wxw\n",
      "first and last character are same 1331\n",
      "number of words matching the first and last character 2\n"
     ]
    }
   ],
   "source": [
    "samplelist20 = ['abc','xyz','wxw','1331']\n",
    "countmatch = 0 \n",
    "for j in range(0,len(samplelist20)):\n",
    "    if len(samplelist20[j]) > 1 :\n",
    "        if samplelist20[j][0] == samplelist20[j][:-2:-1]:\n",
    "            print(\"first and last character are same\",samplelist20[j])\n",
    "            countmatch = countmatch + 1\n",
    "print('number of words matching the first and last character',countmatch)"
   ]
  },
  {
   "cell_type": "markdown",
   "metadata": {},
   "source": [
    "Q21. Write the Python program to get a list, sorted in increasing order by   the last element in each tuple from the given list of non-empty   tuples?            Sample List - [ (2, 5), (1, 2), (4, 4), (2, 3), (2, 1) ] Expected Result - [ (2, 1),  (1, 2), (2, 3), (4, 4), (2, 5) ] "
   ]
  },
  {
   "cell_type": "code",
   "execution_count": 70,
   "metadata": {},
   "outputs": [
    {
     "name": "stdout",
     "output_type": "stream",
     "text": [
      "unsorted input is  [(2, 5), (1, 2), (4, 4), (2, 3), (2, 1)]\n",
      "sorted output is  [(2, 1), (1, 2), (2, 3), (4, 4), (2, 5)]\n"
     ]
    }
   ],
   "source": [
    "def last(n):\n",
    "    return n[-1]\n",
    "list21 = [(2,5),(1,2),(4,4),(2,3),(2,1)]\n",
    "list21op = sorted(list21,key=last)\n",
    "print('unsorted input is ',list21)\n",
    "print('sorted output is ',list21op)"
   ]
  },
  {
   "cell_type": "markdown",
   "metadata": {},
   "source": [
    "Q22. Write the Python program to remove duplicates from a list? "
   ]
  },
  {
   "cell_type": "code",
   "execution_count": 71,
   "metadata": {},
   "outputs": [
    {
     "name": "stdout",
     "output_type": "stream",
     "text": [
      "input is :- [1, 2, 2, 8, 9, 6, 6, 9, 7, 8, 1]\n",
      "output is:0- [1, 2, 8, 9, 6, 7]\n"
     ]
    }
   ],
   "source": [
    "list22withdup = [1,2,2,8,9,6,6,9,7,8,1]\n",
    "list22withoutdup = []\n",
    "for i in list22withdup:\n",
    "    if i not in list22withoutdup:\n",
    "        list22withoutdup.append(i)\n",
    "print('input is :-',list22withdup)\n",
    "print('output is:0-',list22withoutdup)"
   ]
  },
  {
   "cell_type": "markdown",
   "metadata": {},
   "source": [
    "23. Write the Python program to find the list of words that are longer  than n from a given list of words? "
   ]
  },
  {
   "cell_type": "code",
   "execution_count": 76,
   "metadata": {},
   "outputs": [
    {
     "name": "stdout",
     "output_type": "stream",
     "text": [
      "write the list of wordshow are you\n",
      "enter the interger you want to see the longer words2\n",
      "user entered list of words ['how', 'are', 'you']\n",
      "user entered integern 2\n",
      "input is:- how are you\n",
      "input of integer with longer words 2\n",
      "output is:- ['how', 'are', 'you']\n"
     ]
    }
   ],
   "source": [
    "def filter_long_words(string23,integern,list232):\n",
    "    list231 = string23.split()\n",
    "    print('user entered list of words',list231)\n",
    "    print('user entered integern',integern)\n",
    "    for i in list231:\n",
    "        if len(i) > integern:\n",
    "            list232.append(i)\n",
    "    return list232\n",
    "\n",
    "string23 = input('write the list of words')\n",
    "integern = int(input(\"enter the interger you want to see the longer words\"))\n",
    "list232 = []\n",
    "filter_long_words(string23,integern,list232)\n",
    "print('input is:-',string23)\n",
    "print('input of integer with longer words',integern)\n",
    "print(\"output is:-\",list232)"
   ]
  },
  {
   "cell_type": "markdown",
   "metadata": {},
   "source": [
    "Q24. Write the Python program to print a specified list after removing the  0th, 4th, and 5th elements?    Sample List - ['Red', 'Green', 'White', 'Black', 'Pink', 'Yellow'] Expected Output - ['Green', 'White', 'Black'] \n",
    " "
   ]
  },
  {
   "cell_type": "code",
   "execution_count": 78,
   "metadata": {},
   "outputs": [
    {
     "name": "stdout",
     "output_type": "stream",
     "text": [
      "input is:- ['Red', 'Green', 'White', 'Black', 'Pink', 'Yellow']\n",
      "output is:- ['Green', 'White', 'Black']\n"
     ]
    }
   ],
   "source": [
    "Samplelist = ['Red','Green','White','Black','Pink','Yellow']\n",
    "Expectedoutput = []\n",
    "for i in range(0,6):\n",
    "    if i in [0,4,5]:\n",
    "        continue\n",
    "    else:\n",
    "        Expectedoutput.append(Samplelist[i])\n",
    "print('input is:-',Samplelist)\n",
    "print('output is:-',Expectedoutput)\n"
   ]
  },
  {
   "cell_type": "markdown",
   "metadata": {},
   "source": [
    "Q25. Write the Python program to generate all permutations of a list in   Python"
   ]
  },
  {
   "cell_type": "code",
   "execution_count": 80,
   "metadata": {},
   "outputs": [
    {
     "name": "stdout",
     "output_type": "stream",
     "text": [
      "output is:- [[1, 2, 3], [1, 3, 2], [2, 3, 1], [2, 1, 3], [3, 2, 1], [3, 1, 2]]\n"
     ]
    }
   ],
   "source": [
    "list25 = [1,2,3]\n",
    "list251 = []\n",
    "for i, j in enumerate(list25):\n",
    "    if i == 0:\n",
    "       list251.append([list25[i],list25[i+1],list25[i+2]])\n",
    "       list251.append([list25[i],list25[i+2],list25[i+1]])\n",
    "    if i == 1 :\n",
    "       list251.append([list25[i],list25[i+1],list25[i-1]])\n",
    "       list251.append([list25[i],list25[i-1],list25[i+1]])\n",
    "    if i == 2 :\n",
    "       list251.append([list25[i],list25[i-1],list25[i-2]])\n",
    "       list251.append([list25[i],list25[i-2],list25[i-1]])\n",
    "print('output is:-',list251)"
   ]
  },
  {
   "cell_type": "markdown",
   "metadata": {},
   "source": [
    "Q26. Write the Python program to convert a pair of values into a sorted   unique array?               \n",
    "Original List-  [ (1, 2), (3, 4), (1, 2), (5, 6), (7, 8), (1, 2), (3, 4), (3, 4), (7, 8), (9, 10) ]              \n",
    "    Sorted Unique Data- [ 1, 2, 3, 4, 5, 6, 7, 8, 9, 10 ]   \n",
    " "
   ]
  },
  {
   "cell_type": "code",
   "execution_count": 83,
   "metadata": {},
   "outputs": [
    {
     "name": "stdout",
     "output_type": "stream",
     "text": [
      "input is  [(1, 2), (3, 4), (1, 2), (5, 6), (7, 8), (1, 2), (3, 4), (3, 4), (7, 8), (9, 10)]\n",
      "output is [1, 2, 3, 4, 5, 6, 7, 8, 9, 10]\n"
     ]
    }
   ],
   "source": [
    "originallist = [(1,2),(3,4),(1,2),(5,6),(7,8),(1,2),(3,4),(3,4),(7,8),(9,10)]\n",
    "sorteduniquedata = []\n",
    "for i in range(0,len(originallist)) :\n",
    "    for j in range(0,2):\n",
    "        if originallist[i][j] not in sorteduniquedata:\n",
    "            sorteduniquedata.append(originallist[i][j])\n",
    "print('input is ',originallist)\n",
    "print('output is',sorteduniquedata)\n"
   ]
  },
  {
   "cell_type": "markdown",
   "metadata": {},
   "source": [
    "Q27.  Write the Python class to convert an integer to a roman numeral? "
   ]
  },
  {
   "cell_type": "code",
   "execution_count": 8,
   "metadata": {},
   "outputs": [
    {
     "name": "stdout",
     "output_type": "stream",
     "text": [
      "output is:-\n",
      "XCV"
     ]
    }
   ],
   "source": [
    "def printroman(number):\n",
    "    num27 = [1,4,5,9,10,40,50,90,100,400,500,900,1000]\n",
    "    sys27 = ['I','IV','V','IX','X','XL','L','XC','C','CD','D','CM','M']\n",
    "    i = 12\n",
    "    while number:\n",
    "        div = number//num27[i]\n",
    "        number = number % num27[i]\n",
    "        while div:\n",
    "            print(sys27[i],end='')\n",
    "            div = div - 1\n",
    "        i = i - 1\n",
    "print('output is:-')\n",
    "printroman(95)"
   ]
  },
  {
   "cell_type": "markdown",
   "metadata": {},
   "source": [
    "Q28 Write the Python class to convert a Roman numeral to an integer? "
   ]
  },
  {
   "cell_type": "code",
   "execution_count": 9,
   "metadata": {},
   "outputs": [
    {
     "data": {
      "text/plain": [
       "3986"
      ]
     },
     "execution_count": 9,
     "metadata": {},
     "output_type": "execute_result"
    }
   ],
   "source": [
    "def roman_to_int(s):\n",
    "    rom_val = {'I':1,'V':5,'X':10,'L':50,'C':100,'D':500,'M':1000}\n",
    "    int_val = 0\n",
    "    for i in range(len(s)):\n",
    "        if i > 0 and rom_val[s[i]] > rom_val[s[i-1]]:\n",
    "            int_val += rom_val[s[i]] - 2 * rom_val[s[i-1]]\n",
    "        else:\n",
    "            int_val += rom_val[s[i]]\n",
    "    return int_val\n",
    "s = 'MMMCMLXXXVI'\n",
    "roman_to_int(s)"
   ]
  },
  {
   "cell_type": "markdown",
   "metadata": {},
   "source": [
    "Q29. Write the Python class to find  the validity of the string of the parentheses, '(', ')', '{', '}', '[' and '] and the brackets must be closed  in the correct order, example - \"()\" and \"()[]{}\" are valid but \"[)\", \"({[)]\" and \"{{{\" are invalid.  \n",
    " "
   ]
  },
  {
   "cell_type": "code",
   "execution_count": 13,
   "metadata": {},
   "outputs": [
    {
     "name": "stdout",
     "output_type": "stream",
     "text": [
      "FIRST EXAMPLE\n",
      "valid brackets to be verfied (){}[]\n",
      "input is:- (){}[]\n",
      "output is:\n",
      "are in proper order ()\n",
      "are in proper order {}\n",
      "are in proper order []\n",
      "None\n",
      "SECOND EXAMPLE\n",
      "valid brackets to be verfied (){}[]\n",
      "input is:- )(}{}][\n",
      "output is:\n",
      "are not in proper order ()\n",
      "are not in proper order {}\n",
      "are not in proper order []\n",
      "None\n"
     ]
    }
   ],
   "source": [
    "def correctorder(string,bracket):\n",
    "    print('valid brackets to be verfied',bracket)\n",
    "    print('input is:-',string)\n",
    "    print('output is:')\n",
    "    for i in range(0,(len(bracket)),2):\n",
    "        if int(string.find(bracket[i])) < int(string.find(bracket[i+1])):\n",
    "            print('are in proper order',bracket[i]+bracket[i+1])\n",
    "        else:\n",
    "            print('are not in proper order',bracket[i]+bracket[i+1])\n",
    "\n",
    "bracket = '(){}[]'\n",
    "string29 = '(){}[]'\n",
    "string291 = ')(}{}]['\n",
    "print('FIRST EXAMPLE')\n",
    "print(correctorder(string29,bracket))\n",
    "print('SECOND EXAMPLE')\n",
    "print(correctorder(string291,bracket))"
   ]
  },
  {
   "cell_type": "markdown",
   "metadata": {},
   "source": [
    "Q30. Write the Python class to get all possible unique subsets from a set   of distinct integers? \n",
    " \n",
    "Input - [4, 5, 6] Output - [[], [6], [5], [5, 6], [4], [4, 6], [4, 5], [4, 5, 6]] "
   ]
  },
  {
   "cell_type": "code",
   "execution_count": 23,
   "metadata": {},
   "outputs": [
    {
     "name": "stdout",
     "output_type": "stream",
     "text": [
      "input is [4, 5, 6]\n",
      "output is [[4, 5, 6], 4, 4, [4, 5], 5, 5, [5, 6], 6]\n"
     ]
    }
   ],
   "source": [
    "input30 = [4,5,6]\n",
    "output30 = []\n",
    "for index,value in enumerate(input30):\n",
    "    if input30 not in output30:\n",
    "        output30.append(input30)\n",
    "    if value not in output30:\n",
    "        output30.append(value)\n",
    "    if index < (len(input30)-1):\n",
    "        output30.append(value)\n",
    "    if index < (len(input30)-1):\n",
    "        if ([input30[index],input30[index+1]]) not in output30:\n",
    "            output30.append([input30[index],input30[index+1]])\n",
    "else:\n",
    "    print('input is',input30)\n",
    "    print('output is',output30)"
   ]
  },
  {
   "cell_type": "markdown",
   "metadata": {},
   "source": [
    "Q31. Write the Python class to find a pair of elements (indices of the two   numbers) from a given array whose sum equals the specific target   number?       Input: numbers- [10,20,10,40,50,60,70], target=50 Output- 3, 4 \n",
    " "
   ]
  },
  {
   "cell_type": "code",
   "execution_count": 27,
   "metadata": {},
   "outputs": [
    {
     "name": "stdout",
     "output_type": "stream",
     "text": [
      "input is [10, 20, 30, 40, 50, 60, 70]\n",
      "target is 50\n",
      "output pair which sums to target [[10, 40], [20, 30]]\n",
      "output pair which sums to target indexs are [[0, 3], [1, 2]]\n"
     ]
    }
   ],
   "source": [
    "input31 = [10,20,30,40,50,60,70]\n",
    "target31 = 50\n",
    "output31 = []\n",
    "output31index = []\n",
    "for index,value in enumerate(input31):\n",
    "    for j in range(index+1,len(input31)):\n",
    "        if value < target31 and (value+input31[j]) == target31:\n",
    "            output31.append([value,input31[j]])\n",
    "            output31index.append([index,(j)])\n",
    "else:\n",
    "    print('input is',input31)\n",
    "    print('target is',target31)\n",
    "    print('output pair which sums to target',output31)\n",
    "    print('output pair which sums to target indexs are',output31index)\n",
    "    "
   ]
  },
  {
   "cell_type": "markdown",
   "metadata": {},
   "source": [
    "Q32. Write the Python class to find the three elements that sum to zero   from the set of n real numbers? \n",
    " \n",
    "Input array- [-25, -10, -7, -3, 2, 4, 8, 10] Output - [[-10, 2, 8], [-7, -3, 10]] \n",
    " "
   ]
  },
  {
   "cell_type": "code",
   "execution_count": 29,
   "metadata": {},
   "outputs": [
    {
     "name": "stdout",
     "output_type": "stream",
     "text": [
      "output is [[[-10, 2, 8]], [[-7, -3, 10]]]\n"
     ]
    }
   ],
   "source": [
    "input32 = [-25,-10,-7,-3,2,4,8,10]\n",
    "target32 = 00\n",
    "output32 = []\n",
    "for i in range(len(input32)-2):\n",
    "    for j in range(i+1,len(input32)-1):\n",
    "        for k in range(j+1,len(input32)):\n",
    "            if input32[i]+input32[j]+input32[k] == target32:\n",
    "               output32.append([[input32[i],input32[j],input32[k]]])\n",
    "else:\n",
    "    print('output is',output32)"
   ]
  },
  {
   "cell_type": "markdown",
   "metadata": {},
   "source": [
    "Q33. Write the Python class to implement pow(x, n)? "
   ]
  },
  {
   "cell_type": "code",
   "execution_count": 37,
   "metadata": {},
   "outputs": [
    {
     "name": "stdout",
     "output_type": "stream",
     "text": [
      "input x is 2\n",
      "input y is 6\n",
      "output is 64\n"
     ]
    }
   ],
   "source": [
    "def power(x,y):\n",
    "    if (y==0):\n",
    "        return 1\n",
    "    elif (int(y % 2) == 0):\n",
    "        return (power(x,int(y/2)) * power(x,int(y/2)))\n",
    "    else:\n",
    "        return (x* power(x,int(y/2)) * power(x,int(y/2)))\n",
    "\n",
    "x = 2\n",
    "y = 6\n",
    "print('input x is',x)\n",
    "print('input y is',y)\n",
    "print('output is',power(x,y))\n"
   ]
  },
  {
   "cell_type": "markdown",
   "metadata": {},
   "source": [
    "Q34. Write the Python class which has two methods get_String and   print_String. get_String accept the string from the user and \n",
    " print_String print the string in upper case"
   ]
  },
  {
   "cell_type": "code",
   "execution_count": 39,
   "metadata": {},
   "outputs": [
    {
     "name": "stdout",
     "output_type": "stream",
     "text": [
      "enter the value of string\n",
      "ineuron\n",
      "INEURON\n"
     ]
    }
   ],
   "source": [
    "class Getputstring():\n",
    "    def __init__(self):\n",
    "        self.getstring = ''\n",
    "        \n",
    "    def get_String(self):\n",
    "        print('enter the value of string')\n",
    "        self.getstring = input()\n",
    "    \n",
    "    def print_String(self):\n",
    "        print(self.getstring.upper())\n",
    "\n",
    "string34 = Getputstring()\n",
    "string34.get_String()\n",
    "string34.print_String()\n",
    "    "
   ]
  },
  {
   "cell_type": "markdown",
   "metadata": {},
   "source": [
    "Q35. Write the Python class named Rectangle constructed by a length   and width and the method which will compute the area of the   rectangle?   "
   ]
  },
  {
   "cell_type": "code",
   "execution_count": 43,
   "metadata": {},
   "outputs": [
    {
     "name": "stdout",
     "output_type": "stream",
     "text": [
      "Area of Rectangle 20\n"
     ]
    }
   ],
   "source": [
    "class Rectangle():\n",
    "    def __init__(self,length,width):\n",
    "        self.length = length \n",
    "        self.width = width\n",
    "    \n",
    "    def areaofrectangle(self):\n",
    "        return self.length*self.width\n",
    "\n",
    "objectofrectangle = Rectangle(5,4)\n",
    "print(\"Area of Rectangle\",objectofrectangle.areaofrectangle())"
   ]
  },
  {
   "cell_type": "markdown",
   "metadata": {},
   "source": [
    "Q36.  Write the Python class named Circle constructed by the radius   and two methods which will compute the area and perimeter of   the circle? "
   ]
  },
  {
   "cell_type": "code",
   "execution_count": 45,
   "metadata": {},
   "outputs": [
    {
     "name": "stdout",
     "output_type": "stream",
     "text": [
      "Area 113.04\n",
      "Perimeter 37.68\n"
     ]
    }
   ],
   "source": [
    "class circle():\n",
    "    def __init__(self,r):\n",
    "        self.radius = r\n",
    "    \n",
    "    def area(self):\n",
    "        return self.radius**2*3.14\n",
    "    \n",
    "    def perimeter(self):\n",
    "        return 2*self.radius*3.14\n",
    "    \n",
    "objectofcircle = circle(6)\n",
    "print('Area',objectofcircle.area())\n",
    "print('Perimeter',objectofcircle.perimeter())"
   ]
  },
  {
   "cell_type": "markdown",
   "metadata": {},
   "source": [
    "Q37. Write the Python program to get the class name of an instance in   Python? "
   ]
  },
  {
   "cell_type": "code",
   "execution_count": 46,
   "metadata": {},
   "outputs": [
    {
     "name": "stdout",
     "output_type": "stream",
     "text": [
      "int\n",
      "str\n"
     ]
    }
   ],
   "source": [
    "a = 10\n",
    "print(type(a).__name__)\n",
    "b = 'string1'\n",
    "print(type(b).__name__)"
   ]
  },
  {
   "cell_type": "markdown",
   "metadata": {},
   "source": [
    "Q38. Write the Python program to count the number of students of   individual class?   Sample data \n",
    " classes = ( ('V', 1), ('VI', 1), ('V', 2), ('VI', 2), ('VI', 3), ('VII', 1), ) \n",
    "Expected Output- Counter({'VI': 3, 'V': 2, 'VII': 1}) "
   ]
  },
  {
   "cell_type": "code",
   "execution_count": 50,
   "metadata": {},
   "outputs": [
    {
     "name": "stdout",
     "output_type": "stream",
     "text": [
      "input is (('V', 1), ('VI', 1), ('V', 2), ('VI', 2), ('VI', 3), ('VII', 1))\n",
      "output is [['V', 3], ['VI', 6], ['VII', 1]]\n"
     ]
    }
   ],
   "source": [
    "classes = ( ('V', 1), ('VI', 1), ('V', 2), ('VI', 2), ('VI', 3), ('VII', 1), ) \n",
    "key38 = []\n",
    "key382 = []\n",
    "for count38 in classes:\n",
    "    if count38[0] not in key38:\n",
    "        key38.append(count38[0])\n",
    "for key381 in key38:\n",
    "    countfinal = 0 \n",
    "    for count38 in classes:\n",
    "       if key381 == count38[0]:\n",
    "         countfinal = countfinal+count38[1]\n",
    "    key382.append([key381,countfinal])\n",
    "print('input is',classes)\n",
    "print('output is',key382)"
   ]
  },
  {
   "cell_type": "markdown",
   "metadata": {},
   "source": [
    "Q39. Write the Python program to create an instance of an OrderedDict  \n",
    "using the given dictionary and sort dictionary during the      creation and print members of the dictionary in reverse order? \n",
    "Expected Output- Angola 244. Andorra 376. Algeria 213. Afghanistan 93. Albania 355. In reverse order- Albania  355. Afghanistan  93. Algeria  213. Andorra  376. Angola  244"
   ]
  },
  {
   "cell_type": "code",
   "execution_count": 60,
   "metadata": {},
   "outputs": [
    {
     "name": "stdout",
     "output_type": "stream",
     "text": [
      "INPUT is\n",
      "Albania 355\n",
      "Afghanistan 93\n",
      "Algera 213\n",
      "Androrra 376\n",
      "Angola 244\n",
      "Output in Reverse order\n",
      "Angola 244\n",
      "Androrra 376\n",
      "Algera 213\n",
      "Afghanistan 93\n",
      "Albania 355\n"
     ]
    }
   ],
   "source": [
    "from collections import OrderedDict\n",
    "Dict39 = {'Albania':355,'Afghanistan':93,'Algera':213,'Androrra':376,'Angola':244}\n",
    "orderdict = OrderedDict(Dict39.items())\n",
    "print('INPUT is')\n",
    "for key39 in orderdict:\n",
    "    print(key39,orderdict[key39])\n",
    "\n",
    "print('Output in Reverse order')\n",
    "for key39r in reversed(orderdict):\n",
    "    print(key39r,orderdict[key39r])"
   ]
  },
  {
   "cell_type": "markdown",
   "metadata": {},
   "source": [
    "Q40. Write the Python program to compare two unordered lists (not sets)? \n",
    " \n",
    "    Expected Output: False "
   ]
  },
  {
   "cell_type": "code",
   "execution_count": 66,
   "metadata": {},
   "outputs": [
    {
     "name": "stdout",
     "output_type": "stream",
     "text": [
      "given lists are not equal\n",
      "True means equal, False means not equal:\n",
      "\n",
      "output is\n",
      "False\n"
     ]
    }
   ],
   "source": [
    "def comparelist(list40,list41):\n",
    "    list40.sort()\n",
    "    list41.sort()\n",
    "    if list40 == list41 :\n",
    "       print('given lists are equal')\n",
    "       return True\n",
    "    else:\n",
    "       print('given lists are not equal')\n",
    "       return False\n",
    "\n",
    "list40 = [1,2,3,4,5,6,7,8,9]\n",
    "list41 = [9,8,7,6,5,4,3,1]\n",
    "output40 = comparelist(list40,list41)\n",
    "print('True means equal, False means not equal:\\n')\n",
    "print('output is')\n",
    "print(output40)"
   ]
  },
  {
   "cell_type": "markdown",
   "metadata": {},
   "source": [
    "Q41. Write the Python program to get an array buffer information? Expected Output- Array buffer start address in memory and number of elements. (25855056, 2) "
   ]
  },
  {
   "cell_type": "code",
   "execution_count": 69,
   "metadata": {},
   "outputs": [
    {
     "name": "stdout",
     "output_type": "stream",
     "text": [
      "output is\n",
      "array buffer information (2516767220896, 2)\n"
     ]
    }
   ],
   "source": [
    "from array import array\n",
    "array41 = array('i',(7,6))\n",
    "print('output is')\n",
    "print('array buffer information',array41.buffer_info())"
   ]
  },
  {
   "cell_type": "markdown",
   "metadata": {},
   "source": [
    "Q42.  Write the Python program to convert an array to an array of   machine values and return the bytes representation?              Expected Output- Original array- A1: array('i', [1, 2, 3, 4, 5, 6]) Array of bytes: b'010000000200000003000000040000000500000006000000' "
   ]
  },
  {
   "cell_type": "code",
   "execution_count": 70,
   "metadata": {},
   "outputs": [
    {
     "name": "stdout",
     "output_type": "stream",
     "text": [
      "array42 array('i', [1, 2, 3, 4, 5, 6])\n",
      "Machine value b'010000000200000003000000040000000500000006000000'\n"
     ]
    }
   ],
   "source": [
    "from array import array\n",
    "import binascii\n",
    "array42 = array('i',[1,2,3,4,5,6])\n",
    "bytes_values = array42.tobytes()\n",
    "print('array42',array42)\n",
    "print(\"Machine value\",binascii.hexlify(bytes_values))"
   ]
  },
  {
   "cell_type": "markdown",
   "metadata": {},
   "source": [
    "Q43. Write the Python program to read a string and interpreting the   string as an array of machine values? \n",
    " \n",
    "Expected Output- array1- array('i', [7, 8, 9, 10]) Bytes- b'0700000008000000090000000a000000' array2- array('i', [7, 8, 9, 10]) \n",
    " "
   ]
  },
  {
   "cell_type": "code",
   "execution_count": 76,
   "metadata": {},
   "outputs": [
    {
     "name": "stdout",
     "output_type": "stream",
     "text": [
      "array1 array('i', [7, 8, 9, 10])\n",
      "Machine value b'0700000008000000090000000a000000'\n",
      "array2: array('i', [7, 8, 9, 10])\n"
     ]
    }
   ],
   "source": [
    "from array import array\n",
    "import binascii\n",
    "array43 = array('i',[7,8,9,10])\n",
    "bytes_values = array43.tobytes()\n",
    "print('array1',array43)\n",
    "print('Machine value',binascii.hexlify(bytes_values))\n",
    "array431 = array('i')\n",
    "array431.frombytes(bytes_values)\n",
    "print('array2:',array431)"
   ]
  },
  {
   "cell_type": "markdown",
   "metadata": {},
   "source": [
    "Q44. Write the Python program to push three items into the heap and   return the smallest item from the heap. Also, return and pop the   smallest item from the heap?  \n",
    " \n",
    "Expected Output- Items in the heap- ('VI', 1). ('VII', 3). ('VIII', 2). ---------------------- The smallest item in the heap: ('VI', 1). \n",
    "  ---------------------- Pop the smallest item in the heap: ('VII', 2). ('VIII', 3). \n",
    " "
   ]
  },
  {
   "cell_type": "code",
   "execution_count": 77,
   "metadata": {},
   "outputs": [
    {
     "name": "stdout",
     "output_type": "stream",
     "text": [
      "first smallest ('VI', 1)\n",
      "second smallest ('VII', 2)\n",
      "third smallest ('VII', 3)\n"
     ]
    }
   ],
   "source": [
    "import heapq\n",
    "i44 = [('VI',1),('VII',3),('VII',2)]\n",
    "heapq1 = heapq.heapify(i44)\n",
    "print('first smallest',heapq.heappop(i44))\n",
    "print('second smallest',heapq.heappop(i44))\n",
    "print('third smallest',heapq.heappop(i44))"
   ]
  },
  {
   "cell_type": "markdown",
   "metadata": {},
   "source": [
    "45. Write the Python program to locate the left insertion point for a   specified value in sorted order?  Expected Output: 4 2 "
   ]
  },
  {
   "cell_type": "code",
   "execution_count": 79,
   "metadata": {},
   "outputs": [
    {
     "name": "stdout",
     "output_type": "stream",
     "text": [
      "5\n",
      "4\n"
     ]
    }
   ],
   "source": [
    "import bisect\n",
    "\n",
    "def index(a,x):\n",
    "    i45 = bisect.bisect_right(a,x)\n",
    "    return i45\n",
    "\n",
    "a = [1,2,3,5,6]\n",
    "print(index(a,6))\n",
    "print(index(a,5))"
   ]
  },
  {
   "cell_type": "markdown",
   "metadata": {},
   "source": [
    "Q46. Write the Python program to create the FIFO queue?  Expected Output: 0 1 2 3 "
   ]
  },
  {
   "cell_type": "code",
   "execution_count": 81,
   "metadata": {},
   "outputs": [
    {
     "name": "stdout",
     "output_type": "stream",
     "text": [
      "0123\n",
      "\n"
     ]
    }
   ],
   "source": [
    "import queue\n",
    "q = queue.Queue()\n",
    "for x in range(4):\n",
    "    q.put(str(x))\n",
    "while not q.empty():\n",
    "    print(q.get(),end='')\n",
    "print('\\n')"
   ]
  },
  {
   "cell_type": "markdown",
   "metadata": {},
   "source": [
    "Q47. Write the Python program to calculate the harmonic sum of n-1.          Note: The harmonic sum is the sum of reciprocals of the positive   Integers?           \n",
    "           Example - \n",
    "1+1/2+1/3+1/4+1/5..."
   ]
  },
  {
   "cell_type": "code",
   "execution_count": 82,
   "metadata": {},
   "outputs": [
    {
     "name": "stdout",
     "output_type": "stream",
     "text": [
      "1.8333333333333333\n"
     ]
    }
   ],
   "source": [
    "def harmonic_numbers(num):\n",
    "    if num < 2:\n",
    "        return 1\n",
    "    else:\n",
    "        return 1/num + (harmonic_numbers(num-1))\n",
    "print(harmonic_numbers(3))"
   ]
  },
  {
   "cell_type": "markdown",
   "metadata": {},
   "source": [
    "Q48. Write the NumPy program to create a 2d array with 6 on the border   and 0 inside? \n",
    " \n",
    "Expected Output- Original array- [ [6 6 6 6 6]   [ 6 6 6 6 6]   [ 6 6 6 6 6 ]   [ 6 6 6 6 6 ]   [ 6  6 6 6 ] ]. \n",
    " \n",
    "6 on the border and 0 inside in the array- [[ 6 6 6 6 6] [ 6 0 0 0 6] [ 6 0 0 0 6] [ 6 0 0 0 6] [ 6 6 6 6 6]]. \n",
    " \n",
    " "
   ]
  },
  {
   "cell_type": "code",
   "execution_count": 86,
   "metadata": {},
   "outputs": [
    {
     "name": "stdout",
     "output_type": "stream",
     "text": [
      "************************************************************\n",
      "orignial array is:-\n",
      "\n",
      "[[6. 6. 6. 6. 6.]\n",
      " [6. 6. 6. 6. 6.]\n",
      " [6. 6. 6. 6. 6.]\n",
      " [6. 6. 6. 6. 6.]\n",
      " [6. 6. 6. 6. 6.]]\n",
      "************************************************************\n",
      "output modified array by multiplying the temporaray array:-\n",
      "\n",
      "[[6. 6. 6. 6. 6.]\n",
      " [6. 0. 0. 0. 6.]\n",
      " [6. 0. 0. 0. 6.]\n",
      " [6. 0. 0. 0. 6.]\n",
      " [6. 6. 6. 6. 6.]]\n",
      "************************************************************\n"
     ]
    }
   ],
   "source": [
    "import numpy\n",
    "num48 = numpy.ones([5,5])\n",
    "num481 = num48*6\n",
    "print('*'*60)\n",
    "print('orignial array is:-\\n')\n",
    "print(num481)\n",
    "print('*'*60)\n",
    "num48a = ([1,1,1,1,1])\n",
    "num48b = ([1,0,0,0,1])\n",
    "num482 = numpy.vstack((num48a,num48b,num48b,num48b,num48a))\n",
    "num481 = num482 * num481\n",
    "print('output modified array by multiplying the temporaray array:-\\n')\n",
    "print(num481)\n",
    "print('*'*60)"
   ]
  },
  {
   "cell_type": "markdown",
   "metadata": {},
   "source": [
    "Q49.  Write the NumPy program to create a 8x8 matrix and fill it with the   checkerboard pattern? \n",
    " \n",
    "Checkerboard pattern- \n",
    "[[3 9 3 9 3 9 3 9] [9 3 9 3 9 3 9 3] [3 9 3 9 3 9 3 9] [9 3 9 3 9 3 9 3] [3 9 3 9 3 9 3 9] [9 3 9 3 9 3 9 3] [3 9 3 9 3 9 3 9] [9 3 9 3 9 3 9 3]]. "
   ]
  },
  {
   "cell_type": "code",
   "execution_count": 90,
   "metadata": {},
   "outputs": [
    {
     "name": "stdout",
     "output_type": "stream",
     "text": [
      "************************************************************\n",
      "[[3 9 3 9 3 9 3 9]\n",
      " [9 3 9 3 9 3 9 3]\n",
      " [3 9 3 9 3 9 3 9]\n",
      " [9 3 9 3 9 3 9 3]\n",
      " [3 9 3 9 3 9 3 9]\n",
      " [9 3 9 3 9 3 9 3]\n",
      " [3 9 3 9 3 9 3 9]\n",
      " [9 3 9 3 9 3 9 3]]\n",
      "************************************************************\n"
     ]
    }
   ],
   "source": [
    "num49a = ([3,9,3,9,3,9,3,9])\n",
    "num49b = ([9,3,9,3,9,3,9,3])\n",
    "num491 = numpy.vstack((num49a,num49b)*4)\n",
    "print('*'*60)\n",
    "print(num491)\n",
    "print('*'*60)"
   ]
  },
  {
   "cell_type": "markdown",
   "metadata": {},
   "source": [
    "Q50. Write the NumPy program to create an empty and a full array.               Expected Output- \n",
    " \n",
    "[[4.45057637e-308 1.78021527e-306 8.45549797e-307 1.37962049e-306] [1.11260619e-306 1.78010255e-306 9.79054228e-307 4.45057637e-308] [8.45596650e-307 9.34602321e-307 4.94065646e-322 0.00000000e+000]] [[6 6 6] [6 6 6] [6 6 6]] "
   ]
  },
  {
   "cell_type": "code",
   "execution_count": 89,
   "metadata": {},
   "outputs": [
    {
     "name": "stdout",
     "output_type": "stream",
     "text": [
      "empty array is:-\n",
      " [[]]\n",
      "full array is:-\n",
      " [[0.         0.21951487 0.43902974 0.65854462]\n",
      " [0.87805949 1.09757436 1.31708923 1.5366041 ]\n",
      " [1.75611898 1.97563385 2.19514872 2.41466359]]\n"
     ]
    }
   ],
   "source": [
    "import numpy\n",
    "num50 = [[]]\n",
    "print('empty array is:-\\n',num50)\n",
    "num50 = numpy.arange(0,12).reshape(3,4)\n",
    "print('full array is:-\\n',num50/4.5555)"
   ]
  },
  {
   "cell_type": "markdown",
   "metadata": {},
   "source": [
    "Q51. Write the NumPy program to convert the values of Centigrade degrees into the Fahrenheit degrees and the centigrade values are  stored in the NumPy array.  \n",
    " \n",
    " \n",
    "Sample Array -[0, 12, 45.21 ,34, 99.91] Expected Output- Values in Fahrenheit degrees- [ 0. 12. 45.21 34. 99.91] Values in Centigrade degrees- [-17.77777778 -11.11111111 7.33888889 1.11111111 37.72777778] \n",
    " "
   ]
  },
  {
   "cell_type": "code",
   "execution_count": 1,
   "metadata": {},
   "outputs": [
    {
     "name": "stdout",
     "output_type": "stream",
     "text": [
      "values in Fahrenheit:-\n",
      " [ 0.   12.   45.   21.   34.   99.91]\n",
      "values in centigrade:-\n",
      " [-17.77777778 -11.11111111   7.22222222  -6.11111111   1.11111111\n",
      "  37.72777778]\n"
     ]
    }
   ],
   "source": [
    "import numpy\n",
    "array51 = [0,12,45,21,34,99.91]\n",
    "num51 = numpy.array(array51)\n",
    "print('values in Fahrenheit:-\\n',num51)\n",
    "c = ((5*num51) - (5*32))/9\n",
    "print('values in centigrade:-\\n',c)"
   ]
  },
  {
   "cell_type": "markdown",
   "metadata": {},
   "source": [
    "Q52. Write the NumPy program to find the real and imaginary parts of an   array of complex numbers? \n",
    " \n",
    "Expected Output- Original array [ 1.00000000+0.j 0.70710678+0.70710678j] Real part of the array- [ 1. 0.70710678] Imaginary part of the array- [ 0. 0.70710678]"
   ]
  },
  {
   "cell_type": "code",
   "execution_count": 2,
   "metadata": {},
   "outputs": [
    {
     "name": "stdout",
     "output_type": "stream",
     "text": [
      "original array:x [1.+0.j]\n",
      "original array:y [0.70710678+0.70710678j]\n",
      "Real part of the array\n",
      "[1.]\n",
      "[0.70710678]\n",
      "imaginary part of the array\n",
      "[0.]\n",
      "[0.70710678]\n"
     ]
    }
   ],
   "source": [
    "import numpy\n",
    "num52 = [1.00000000+0.j, 0.70710678+0.70710678j]\n",
    "x = numpy.sqrt([1+0j])\n",
    "y = numpy.sqrt([0+1j])\n",
    "print(\"original array:x\",x)\n",
    "print('original array:y',y)\n",
    "print('Real part of the array')\n",
    "print(x.real)\n",
    "print(y.real)\n",
    "print('imaginary part of the array')\n",
    "print(x.imag)\n",
    "print(y.imag)"
   ]
  },
  {
   "cell_type": "markdown",
   "metadata": {},
   "source": [
    "Q53. Write the NumPy program to test whether each element of a 1-D   array is also present in the second array?           Expected Output- Array1: [ 0 10 20 40 60] Array2: [0, 40] Compare each element of array1 and array2 [ True False False True False] "
   ]
  },
  {
   "cell_type": "code",
   "execution_count": 4,
   "metadata": {},
   "outputs": [
    {
     "data": {
      "text/plain": [
       "array([ True, False, False,  True, False])"
      ]
     },
     "execution_count": 4,
     "metadata": {},
     "output_type": "execute_result"
    }
   ],
   "source": [
    "num531 = [0,10,20,40,60]\n",
    "num532 = [0,40]\n",
    "numpy.in1d(num531,num532)"
   ]
  },
  {
   "cell_type": "markdown",
   "metadata": {},
   "source": [
    "Q54. Write the NumPy program to find common values between two   arrays?  Expected Output- Array1: [ 0 10 20 40 60] Array2: [10, 30, 40] Common values between two arrays- [10 40] \n",
    " "
   ]
  },
  {
   "cell_type": "code",
   "execution_count": 5,
   "metadata": {},
   "outputs": [
    {
     "name": "stdout",
     "output_type": "stream",
     "text": [
      "input array1:-\n",
      " [0, 10, 20, 40, 60]\n",
      "input array2:-\n",
      " [10, 30, 40]\n",
      "common values between two arrays [10 40]\n"
     ]
    }
   ],
   "source": [
    "num541 = [0,10,20,40,60]\n",
    "num542 = [10,30,40]\n",
    "print('input array1:-\\n',num541)\n",
    "print('input array2:-\\n',num542)\n",
    "print('common values between two arrays',numpy.intersect1d(num541,num542))"
   ]
  },
  {
   "cell_type": "markdown",
   "metadata": {},
   "source": [
    "Q55. Write the NumPy program to get the unique elements of an array?   Expected Output- Original array- [10 10 20 20 30 30] Unique elements of the above array- [10 20 30] \n",
    "Original array- [[1 1] [2 3]] Unique elements of the above array- [1 2 3]"
   ]
  },
  {
   "cell_type": "code",
   "execution_count": 6,
   "metadata": {},
   "outputs": [
    {
     "name": "stdout",
     "output_type": "stream",
     "text": [
      "unique element of given array is:-\n",
      "\n",
      "[10 20 30]\n"
     ]
    }
   ],
   "source": [
    "num55 = [10,10,20,20,30,30]\n",
    "num55unique = numpy.unique(num55)\n",
    "print('unique element of given array is:-\\n')\n",
    "print(num55unique)"
   ]
  },
  {
   "cell_type": "markdown",
   "metadata": {},
   "source": [
    "Q56. Write the NumPy program to find the set exclusive-or of two arrays.   Set exclusive-or will return the sorted, unique values that are in   only one (not both) of the input arrays? \n",
    " \n",
    "Array1- [ 0 10 20 40 60 80] Array2- [10, 30, 40, 50, 70] Unique values that are in only one (not both) of the input arrays- [ 0 20 30 50 60 70 80] "
   ]
  },
  {
   "cell_type": "code",
   "execution_count": 7,
   "metadata": {},
   "outputs": [
    {
     "name": "stdout",
     "output_type": "stream",
     "text": [
      "unique value only in one(not both):-\n",
      "\n",
      "[ 0 20 60 80]\n"
     ]
    }
   ],
   "source": [
    "num561 = [0,10,20,40,60,80]\n",
    "num562 = [10,30,40,50,70]\n",
    "print('unique value only in one(not both):-\\n')\n",
    "print(numpy.setdiff1d(num561,num562))"
   ]
  },
  {
   "cell_type": "markdown",
   "metadata": {},
   "source": [
    "Q57. Write the NumPy program to test if all elements in an array   evaluate to True ?                         Note: 0 evaluates to False in NumPy. "
   ]
  },
  {
   "cell_type": "code",
   "execution_count": 8,
   "metadata": {},
   "outputs": [
    {
     "name": "stdout",
     "output_type": "stream",
     "text": [
      "False\n",
      "True\n",
      "False\n",
      "False\n",
      "True\n"
     ]
    }
   ],
   "source": [
    "import numpy\n",
    "print(numpy.all([[True,False],[True,True]]))\n",
    "print(numpy.all([[True,True],[True,True]]))\n",
    "print(numpy.all([5,6,0,8]))\n",
    "print(numpy.all([0,20,1,-50]))\n",
    "print(numpy.all([1,20,1,-50]))"
   ]
  },
  {
   "cell_type": "markdown",
   "metadata": {},
   "source": [
    "Q58 Write the NumPy program to test whether any array element along   the given axis evaluates to True?                          Note: 0 evaluates to False in NumPy. "
   ]
  },
  {
   "cell_type": "code",
   "execution_count": 9,
   "metadata": {},
   "outputs": [
    {
     "name": "stdout",
     "output_type": "stream",
     "text": [
      "False\n",
      "True\n",
      "True\n",
      "True\n",
      "True\n"
     ]
    }
   ],
   "source": [
    "import numpy\n",
    "print(numpy.any([[False,False],[False,False]]))\n",
    "print(numpy.any([[True,True],[True,True]]))\n",
    "print(numpy.any([5,6,0,8]))\n",
    "print(numpy.any([0,20,1,-50]))\n",
    "print(numpy.any([1,20,1,-50]))"
   ]
  },
  {
   "cell_type": "markdown",
   "metadata": {},
   "source": [
    "Q59. Write the NumPy program to construct an array by repeating? \n",
    "Sample array- [1, 2, 3, 4] Expected Output- Original array [1, 2, 3, 4] Repeating 2 times [1 2 3 4 1 2 3 4] \n",
    "Repeating 3 times [1 2 3 4 1 2 3 4 1 2 3 4] "
   ]
  },
  {
   "cell_type": "code",
   "execution_count": 10,
   "metadata": {},
   "outputs": [
    {
     "name": "stdout",
     "output_type": "stream",
     "text": [
      "input array [1 2 3]\n",
      "output array which is repeated twice [1 2 3 1 2 3]\n",
      "output array which is repeated thrice [1 2 3 1 2 3 1 2 3]\n"
     ]
    }
   ],
   "source": [
    "num59 = numpy.arange(1,4)\n",
    "print('input array',num59)\n",
    "num591 = numpy.tile(num59,2)\n",
    "print('output array which is repeated twice',num591)\n",
    "num592 = numpy.tile(num59,3)\n",
    "print('output array which is repeated thrice',num592)"
   ]
  },
  {
   "cell_type": "markdown",
   "metadata": {},
   "source": [
    "Q60. Write the NumPy program to find the indices of the maximum and   minimum values with the given axis of an array?          Original array- [1 2 3 4 5 6] Maximum Values- 5 Minimum Values- 0 \n",
    " "
   ]
  },
  {
   "cell_type": "code",
   "execution_count": 11,
   "metadata": {},
   "outputs": [
    {
     "name": "stdout",
     "output_type": "stream",
     "text": [
      "maxvalue 6\n",
      "minvalue 1\n"
     ]
    }
   ],
   "source": [
    "num60 = [1,2,3,4,5,6]\n",
    "maxvalue = numpy.max(num60)\n",
    "minvalue = numpy.min(num60)\n",
    "print('maxvalue',maxvalue)\n",
    "print('minvalue',minvalue)"
   ]
  },
  {
   "cell_type": "markdown",
   "metadata": {},
   "source": [
    "Q61.  Write the NumPy program compare two arrays using numpy? \n",
    " \n",
    "Array a- [1 2] Array b- [4 5] a > b [False False] a >= b [False False] a < b [ True True] a <= b [ True True] \n",
    " "
   ]
  },
  {
   "cell_type": "code",
   "execution_count": 12,
   "metadata": {},
   "outputs": [
    {
     "name": "stdout",
     "output_type": "stream",
     "text": [
      "a>b\n",
      "[False]\n",
      "a>=b\n",
      "[False]\n",
      "a<b\n",
      "[ True]\n",
      "a<=b\n",
      "[ True]\n"
     ]
    }
   ],
   "source": [
    "num61a = numpy.arange(1,2)\n",
    "num61b = numpy.arange(4,5)\n",
    "print(\"a>b\")\n",
    "print(numpy.greater(num61a,num61b))\n",
    "print('a>=b')\n",
    "print(numpy.greater_equal(num61a,num61b))\n",
    "print('a<b')\n",
    "print(numpy.less(num61a,num61b))\n",
    "print('a<=b')\n",
    "print(numpy.less_equal(num61a,num61b))"
   ]
  },
  {
   "cell_type": "markdown",
   "metadata": {},
   "source": [
    "Q62. Write the NumPy program to sort an along the first, last axis of an   array? Sample array- [[2,5],[4,4]] Expected Output- Original array: [[4 6] [2 1]] Sort along the first axis: [[2 1] [4 6]] \n",
    "Sort along the last axis- [[1 2] [4 6]] "
   ]
  },
  {
   "cell_type": "code",
   "execution_count": 14,
   "metadata": {},
   "outputs": [
    {
     "name": "stdout",
     "output_type": "stream",
     "text": [
      "input array:\n",
      "[[4 6]\n",
      " [2 1]]\n",
      "sort along the first axis:\n",
      "[[2 1]\n",
      " [4 6]]\n",
      "sort along the last axis\n",
      "[[4 6]\n",
      " [1 2]]\n"
     ]
    }
   ],
   "source": [
    "import numpy\n",
    "num62 = numpy.array([[4,6],[2,1]])\n",
    "print('input array:')\n",
    "print(num62)\n",
    "print('sort along the first axis:')\n",
    "x = numpy.sort(num62,axis=0)\n",
    "print(x)\n",
    "print(\"sort along the last axis\")\n",
    "y = numpy.sort(num62,axis=1)\n",
    "print(y)"
   ]
  },
  {
   "cell_type": "markdown",
   "metadata": {},
   "source": [
    "Q63. Write the NumPy program to sort pairs of first name and last name   return their indices (first by last name, then by first name).    first_names - ( Betsey, Shelley, Lanell, Genesis, Margery ) last_names - ( Battle, Brien, Plotner, Stahl, Woolum ) Expected Output- [1 3 2 4 0] \n",
    " "
   ]
  },
  {
   "cell_type": "code",
   "execution_count": 16,
   "metadata": {},
   "outputs": [
    {
     "name": "stdout",
     "output_type": "stream",
     "text": [
      "output is :-\n",
      " [1 3 2 0 4]\n"
     ]
    }
   ],
   "source": [
    "firstname = ('Margery','Betsey','Lanell','Genesis','Shelley')\n",
    "lastname = ('Woolum','Battle','Floter','Stahl','Brien')\n",
    "sortfn = numpy.lexsort((lastname,firstname))\n",
    "print('output is :-\\n',sortfn)"
   ]
  },
  {
   "cell_type": "markdown",
   "metadata": {},
   "source": [
    "Q64. Write the NumPy program to get the values and indices of the   elements that are bigger than 10 in the given array? Original array- [[ 0 10 20] [20 30 40]] Values bigger than 10 = [20 20 30 40] Their indices are (array([0, 1, 1, 1]), array([2, 0, 1, 2])) "
   ]
  },
  {
   "cell_type": "code",
   "execution_count": 17,
   "metadata": {},
   "outputs": [
    {
     "name": "stdout",
     "output_type": "stream",
     "text": [
      "[[ 0 10 20]\n",
      " [20 30 40]]\n",
      "values gt > 10 [10 20 20 30 40]\n",
      "Their indices are (array([0, 1, 1, 1], dtype=int64), array([2, 0, 1, 2], dtype=int64))\n"
     ]
    }
   ],
   "source": [
    "num64 = ([0,10,20],[20,30,40])\n",
    "num641 = numpy.array(num64)\n",
    "print(num641)\n",
    "print('values gt > 10',num641[num641 > 0])\n",
    "print('Their indices are',numpy.nonzero(num641 > 10))"
   ]
  },
  {
   "cell_type": "markdown",
   "metadata": {},
   "source": [
    "Q65. Write the NumPy program to find the memory size of a NumPy   array? \n",
    " \n",
    "Expected Output- 128 bytes "
   ]
  },
  {
   "cell_type": "code",
   "execution_count": 18,
   "metadata": {},
   "outputs": [
    {
     "name": "stdout",
     "output_type": "stream",
     "text": [
      "128 bytes\n"
     ]
    }
   ],
   "source": [
    "import numpy\n",
    "num65 = numpy.zeros((4,4))\n",
    "print('%d bytes' %(num65.size*num65.itemsize))"
   ]
  },
  {
   "cell_type": "markdown",
   "metadata": {},
   "source": [
    "Q66. Write the NumPy program to create an array of ones and an array   of zeros?   \n",
    " \n",
    "Expected Output- Create an array of zeros Default type is float \n",
    "[[ 0. 0.]] Type changes to int [[0 0]] Create an array of ones Default type is float [[ 1. 1.]] Type changes to int [[1 1]] \n",
    " "
   ]
  },
  {
   "cell_type": "code",
   "execution_count": 22,
   "metadata": {},
   "outputs": [
    {
     "name": "stdout",
     "output_type": "stream",
     "text": [
      "zeros array [[0. 0.]\n",
      " [0. 0.]]\n",
      "zeros array with int [[0 0]\n",
      " [0 0]]\n",
      "ones array [[1. 1.]\n",
      " [1. 1.]]\n",
      "ones array with int [[1 1]\n",
      " [1 1]]\n"
     ]
    }
   ],
   "source": [
    "import numpy\n",
    "print('zeros array',numpy.zeros((2,2)))\n",
    "print('zeros array with int',numpy.zeros((2,2),dtype=numpy.int))\n",
    "print('ones array',numpy.ones((2,2)))\n",
    "print('ones array with int',numpy.ones((2,2),dtype=numpy.int))"
   ]
  },
  {
   "cell_type": "markdown",
   "metadata": {},
   "source": [
    "Q67. Write the NumPy program to change the dimension of an array?  Expected Output- 6 rows and 0 columns (6,) (3, 3) -> 3 rows and 3 columns [[1 2 3] [4 5 6] [7 8 9]] Change array shape to (3, 3) -> 3 rows and 3 columns [[1 2 3] [4 5 6] [7 8 9]] "
   ]
  },
  {
   "cell_type": "code",
   "execution_count": 27,
   "metadata": {},
   "outputs": [
    {
     "name": "stdout",
     "output_type": "stream",
     "text": [
      "(6,)\n",
      "[[1 2 3]\n",
      " [4 5 6]\n",
      " [7 8 9]]\n",
      "[[1 2 3]\n",
      " [4 5 6]\n",
      " [7 8 9]]\n"
     ]
    }
   ],
   "source": [
    "import numpy\n",
    "num67 = ([1,2,3,4,5,6])\n",
    "num671 = numpy.array((num67))\n",
    "print(num671.shape)\n",
    "num672 = numpy.array([[1,2,3],[4,5,6],[7,8,9]])\n",
    "print(num672)\n",
    "num672.shape=(3,3)\n",
    "print(num672)"
   ]
  },
  {
   "cell_type": "markdown",
   "metadata": {},
   "source": [
    "Q68. Write the NumPy program to create a new shape to an array   without changing its data ?   Reshape 3x2- [[1 2] [3 4] [5 6]] Reshape 2x3- [[1 2 3] [4 5 6]] \n",
    " \n",
    " "
   ]
  },
  {
   "cell_type": "code",
   "execution_count": 28,
   "metadata": {},
   "outputs": [
    {
     "name": "stdout",
     "output_type": "stream",
     "text": [
      "original array :-\n",
      " [[1, 2], [3, 4], [5, 6]]\n",
      "reshaping to 3*2:-\n",
      " [[1 2]\n",
      " [3 4]\n",
      " [5 6]]\n",
      "reshaping to 2*3:-\n",
      " [[1 2 3]\n",
      " [4 5 6]]\n"
     ]
    }
   ],
   "source": [
    "import numpy\n",
    "num68 = [[1,2],[3,4],[5,6]]\n",
    "print('original array :-\\n',num68)\n",
    "num681 = numpy.array((num68))\n",
    "print('reshaping to 3*2:-\\n',num681)\n",
    "print('reshaping to 2*3:-\\n',num681.reshape(2,3))"
   ]
  },
  {
   "cell_type": "markdown",
   "metadata": {},
   "source": [
    "Q69. Write the NumPy program to create a new array of 3*5, filled with 2?    Expected Output- [[2 2 2 2 2] [2 2 2 2 2] [2 2 2 2 2]] [[2 2 2 2 2] [2 2 2 2 2] [2 2 2 2 2]] "
   ]
  },
  {
   "cell_type": "code",
   "execution_count": 29,
   "metadata": {},
   "outputs": [
    {
     "name": "stdout",
     "output_type": "stream",
     "text": [
      "[[2 2 2 2 2]\n",
      " [2 2 2 2 2]\n",
      " [2 2 2 2 2]]\n"
     ]
    }
   ],
   "source": [
    "num69 = numpy.ones([3,5],dtype=numpy.uint)*2\n",
    "print(num69)"
   ]
  },
  {
   "cell_type": "markdown",
   "metadata": {},
   "source": [
    "Q70. Write the NumPy program to create a 3-D array with ones on a   diagonal and zeros elsewhere? Expected Output- [[ 1. 0. 0.] [ 0. 1. 0.] [ 0. 0. 1.]]"
   ]
  },
  {
   "cell_type": "code",
   "execution_count": 30,
   "metadata": {},
   "outputs": [
    {
     "name": "stdout",
     "output_type": "stream",
     "text": [
      "output of 3D array is :-\n",
      " [[1 0 0]\n",
      " [0 1 0]\n",
      " [0 0 1]]\n"
     ]
    }
   ],
   "source": [
    "num701 = ([1,0,0])\n",
    "num702 = ([0,1,0])\n",
    "num703 = ([0,0,1])\n",
    "num70 = numpy.vstack((num701,num702,num703))\n",
    "print('output of 3D array is :-\\n',num70)"
   ]
  },
  {
   "cell_type": "markdown",
   "metadata": {},
   "source": [
    "Q71. Write the NumPy program to split an array of 14 elements into the   3 arrays and each of which has 2, 4, and 8 elements in original   order?             \n",
    " Expected Output- Original array- [ 1 2 3 4 5 6 7 8 9 10 11 12 13 14] After splitting- [array([1, 2]), array([3, 4, 5, 6]), array([ 7, 8, 9, 10, 11, 12, 13, 14])] "
   ]
  },
  {
   "cell_type": "code",
   "execution_count": 31,
   "metadata": {},
   "outputs": [
    {
     "name": "stdout",
     "output_type": "stream",
     "text": [
      "num712 [1 2]\n",
      "num713 [3 4 5 6]\n",
      "num714 [ 7  8  9 10 11 12 13 14]\n"
     ]
    }
   ],
   "source": [
    "num71 = [1,2,3,4,5,6,7,8,9,10,11,12,13,14] \n",
    "num711 = numpy.array(num71)\n",
    "[num712,num713,num714] = numpy.split(num711,[2,6])\n",
    "print('num712',num712)\n",
    "print('num713',num713)\n",
    "print('num714',num714)"
   ]
  },
  {
   "cell_type": "markdown",
   "metadata": {},
   "source": [
    "Q72. Write the NumPy program to split of an array of shape 4x4 it into   two arrays along the second axis ?    Sample array - [[ 0 1 2 3] [ 4 5 6 7] [ 8 9 10 11] [12 13 14 15]] Expected Output- \n",
    "[array([[ 0, 1], [ 4, 5], [ 8, 9], [12, 13]]), array([[ 2, 3], [ 6, 7], [10, 11], [14, 15]]), array([], shape=(4, 0), dtype=int64)] "
   ]
  },
  {
   "cell_type": "code",
   "execution_count": 33,
   "metadata": {},
   "outputs": [
    {
     "name": "stdout",
     "output_type": "stream",
     "text": [
      "************************************************************\n",
      "output is :-\n",
      " [[ 0  1]\n",
      " [ 4  5]\n",
      " [ 8  9]\n",
      " [12 13]]\n",
      "output is :-\n",
      " [[ 2  3]\n",
      " [ 6  7]\n",
      " [10 11]\n",
      " [14 15]]\n",
      "output is :-\n",
      " []\n"
     ]
    }
   ],
   "source": [
    "num72 = [[0,1,2,3], [4,5, 6,7],[8,9,10,11],[12,13,14,15]] \n",
    "num721 = numpy.array(num72)\n",
    "num721\n",
    "[num721,num722,num723] = numpy.hsplit(num721,[2,6])\n",
    "print('*'*60)\n",
    "print('output is :-\\n',num721)\n",
    "print('output is :-\\n',num722)\n",
    "print('output is :-\\n',num723)"
   ]
  },
  {
   "cell_type": "markdown",
   "metadata": {},
   "source": [
    "Q73. Write the NumPy program to create a 5x5 matrix with row values   ranging from 0 to 4? \n",
    " \n",
    "Original array- [[ 0. 0. 0. 0. 0.] [ 0. 0. 0. 0. 0.] [ 0. 0. 0. 0. 0.] [ 0. 0. 0. 0. 0.] [ 0. 0. 0. 0. 0.]] Row values ranging from 0 to 4. [[ 0. 1. 2. 3. 4.] [ 0. 1. 2. 3. 4.] [ 0. 1. 2. 3. 4.] [ 0. 1. 2. 3. 4.] [ 0. 1. 2. 3. 4.]] \n",
    " "
   ]
  },
  {
   "cell_type": "code",
   "execution_count": 35,
   "metadata": {},
   "outputs": [
    {
     "name": "stdout",
     "output_type": "stream",
     "text": [
      "original array:-\n",
      "\n",
      "[[0. 0. 0. 0. 0.]\n",
      " [0. 0. 0. 0. 0.]\n",
      " [0. 0. 0. 0. 0.]\n",
      " [0. 0. 0. 0. 0.]\n",
      " [0. 0. 0. 0. 0.]]\n",
      "Row values in range 0 to 4 :-\n",
      "\n",
      "[[0. 1. 2. 3. 4.]\n",
      " [0. 1. 2. 3. 4.]\n",
      " [0. 1. 2. 3. 4.]\n",
      " [0. 1. 2. 3. 4.]\n",
      " [0. 1. 2. 3. 4.]]\n"
     ]
    }
   ],
   "source": [
    "num73 = numpy.zeros((5,5))\n",
    "print('original array:-\\n')\n",
    "print(num73)\n",
    "num74 = numpy.array([0,1,2,3,4])\n",
    "num75 = numpy.hstack((num74,num74,num74,num74,num74))\n",
    "num75.shape = (5,5)\n",
    "num73 = num73+num75\n",
    "num73\n",
    "print('Row values in range 0 to 4 :-\\n')\n",
    "print(num73)"
   ]
  },
  {
   "cell_type": "markdown",
   "metadata": {},
   "source": [
    "Q74. Write the NumPy program to create an array of zeros and three   column types (integer, float, character)?          Expected Output- [(1, 2., b'Albert Einstein') (2, 2., b'Edmond Halley') (3, 3., b'Gertrude B. Elion')] \n",
    " \n",
    " "
   ]
  },
  {
   "cell_type": "code",
   "execution_count": 38,
   "metadata": {},
   "outputs": [
    {
     "name": "stdout",
     "output_type": "stream",
     "text": [
      "zeroes with three columns [(0, 0., b'') (0, 0., b'') (0, 0., b'')]\n",
      "zeros with three columns changed data type with data populated\n",
      "[['1' '2.0' 'Albert Einsten']\n",
      " ['2' '2.0' 'Edmond Halley']\n",
      " ['3' '3.0' 'Gertrude B Elion']]\n"
     ]
    }
   ],
   "source": [
    "num74 = numpy.zeros((3,),dtype=('i4,f4,a40'))\n",
    "print('zeroes with three columns',num74)\n",
    "num741 = [(1,2.,\"Albert Einsten\"),(2,2.,\"Edmond Halley\"),(3,3.,\"Gertrude B Elion\")]\n",
    "num74 = numpy.array(num741)\n",
    "print('zeros with three columns changed data type with data populated')\n",
    "print(num74)"
   ]
  },
  {
   "cell_type": "markdown",
   "metadata": {},
   "source": [
    "Q75. Write the NumPy program to remove the negative values in the   numpy array with 0? \n",
    " \n",
    " \n",
    "Expected Output- Original array: [-1 -4 0 2 3 4 5 -6] Replace the negative values of the said array with 0- [0 0 0 2 3 4 5 0] \n",
    " "
   ]
  },
  {
   "cell_type": "code",
   "execution_count": 40,
   "metadata": {},
   "outputs": [
    {
     "name": "stdout",
     "output_type": "stream",
     "text": [
      "original array\n",
      "[-1 -4  0  2  3  4  5 -6]\n",
      "Replace the negative values of the said array with zero\n",
      "[0 0 0 2 3 4 5 0]\n"
     ]
    }
   ],
   "source": [
    "num75 = ([-1,-4,0,2,3,4,5,-6])\n",
    "num751 = numpy.array(num75)\n",
    "print('original array')\n",
    "print(num751)\n",
    "num751[num751 < 0 ] = 0\n",
    "print('Replace the negative values of the said array with zero')\n",
    "print(num751)"
   ]
  },
  {
   "cell_type": "markdown",
   "metadata": {},
   "source": [
    "Q76.  Write the NumPy program to compute the histogram of a set of   data? \n"
   ]
  },
  {
   "cell_type": "code",
   "execution_count": 43,
   "metadata": {},
   "outputs": [
    {
     "data": {
      "image/png": "[encoded data removed]",
      "text/plain": [
       "<Figure size 432x288 with 1 Axes>"
      ]
     },
     "metadata": {
      "needs_background": "light"
     },
     "output_type": "display_data"
    }
   ],
   "source": [
    "import numpy\n",
    "import matplotlib.pyplot\n",
    "num76a = numpy.array([1,2,1])\n",
    "num76b = numpy.array([0,1,2,3,4,5])\n",
    "numpy.histogram(num76a,num76b)\n",
    "matplotlib.pyplot.hist(num76a,num76b)\n",
    "matplotlib.pyplot.show()"
   ]
  },
  {
   "cell_type": "markdown",
   "metadata": {},
   "source": [
    "Q77. Write the NumPy program to compute the line graph of a set of data? "
   ]
  },
  {
   "cell_type": "code",
   "execution_count": 45,
   "metadata": {},
   "outputs": [
    {
     "data": {
      "image/png": "[encoded data removed]",
      "text/plain": [
       "<Figure size 432x288 with 1 Axes>"
      ]
     },
     "metadata": {
      "needs_background": "light"
     },
     "output_type": "display_data"
    }
   ],
   "source": [
    "import numpy\n",
    "import matplotlib.pyplot\n",
    "arr = numpy.random.randint(1,50,10)\n",
    "y, x = numpy.histogram(arr,bins=numpy.arange(51))\n",
    "fig,ax = matplotlib.pyplot.subplots()\n",
    "ax.plot(x[:-1],y)\n",
    "matplotlib.pyplot.show()"
   ]
  },
  {
   "cell_type": "markdown",
   "metadata": {},
   "source": [
    "Q78. Write the NumPy program to extracts all the elements from second   row from given (4x4) array? \n",
    "Sample Output- Original array- [[ 0 1 2 3] [ 4 5 6 7] [ 8 9 10 11] [12 13 14 15]] Extracted data- Second row [4 5 6 7] "
   ]
  },
  {
   "cell_type": "code",
   "execution_count": 47,
   "metadata": {},
   "outputs": [
    {
     "name": "stdout",
     "output_type": "stream",
     "text": [
      "original array\n",
      "[[0, 1, 2, 3], [4, 5, 6, 7], [8, 9, 10, 11], [12, 13, 14, 15]]\n",
      "second row extracts\n",
      "[4 5 6 7]\n"
     ]
    }
   ],
   "source": [
    "num78 = ([[0,1,2,3],[4,5,6,7],[8,9,10,11],[12,13,14,15]])\n",
    "print('original array')\n",
    "print(num78)\n",
    "num781 = numpy.array(num78)\n",
    "print('second row extracts')\n",
    "print(num781[1])"
   ]
  },
  {
   "cell_type": "markdown",
   "metadata": {},
   "source": [
    "Q79. Write the NumPy program to extract first element of the second  row  and fourth element of fourth row from a given (4x4) array?          Sample Output- Original array- [[ 0 1 2 3] [ 4 5 6 7] [ 8 9 10 11] [12 13 14 15]] Extracted data- First element of the second row and fourth element of fourth row [ 4 15] "
   ]
  },
  {
   "cell_type": "code",
   "execution_count": 48,
   "metadata": {},
   "outputs": [
    {
     "name": "stdout",
     "output_type": "stream",
     "text": [
      "original array\n",
      "[[0, 1, 2, 3], [4, 5, 6, 7], [8, 9, 10, 11], [12, 13, 14, 15]]\n",
      "numpy array\n",
      "[[ 0  1  2  3]\n",
      " [ 4  5  6  7]\n",
      " [ 8  9 10 11]\n",
      " [12 13 14 15]]\n"
     ]
    },
    {
     "data": {
      "text/plain": [
       "array([ 4, 15])"
      ]
     },
     "execution_count": 48,
     "metadata": {},
     "output_type": "execute_result"
    }
   ],
   "source": [
    "num79 = [[0,1,2,3],[4,5,6,7],[8,9,10,11],[12,13,14,15]]\n",
    "print('original array')\n",
    "print(num79)\n",
    "num791 = numpy.array(num79)\n",
    "print('numpy array')\n",
    "print(num791)\n",
    "num791[[1,3],[0,3]]"
   ]
  },
  {
   "cell_type": "markdown",
   "metadata": {},
   "source": [
    "Q80. Write the NumPy program to add two arrays A and B of sizes (3,3)   and (,3)? \n",
    " \n",
    "Sample Output- Original array- Array-1 [[1 1 1] [1 1 1] [1 1 1]] Array-2 [0 1 2] A + B: [[1 2 3] \n",
    "[1 2 3] [1 2 3]] "
   ]
  },
  {
   "cell_type": "code",
   "execution_count": 53,
   "metadata": {},
   "outputs": [
    {
     "name": "stdout",
     "output_type": "stream",
     "text": [
      "array1:-\n",
      " [[1 1 1]\n",
      " [1 1 1]\n",
      " [1 1 1]]\n",
      "array2:-\n",
      " [[1 2 3]\n",
      " [1 2 3]\n",
      " [1 2 3]]\n",
      "A+B:-\n",
      " [[2 3 4]\n",
      " [2 3 4]\n",
      " [2 3 4]]\n"
     ]
    }
   ],
   "source": [
    "num801 = [[1,1,1],[1,1,1],[1,1,1]]\n",
    "num802 = [[1,2,3],[1,2,3],[1,2,3]]\n",
    "num80a = numpy.array(num801)\n",
    "num80b = numpy.array(num802)\n",
    "print('array1:-\\n',num80a)\n",
    "print('array2:-\\n',num80b)\n",
    "num80c = num80a+num80b\n",
    "print('A+B:-\\n',num80c)"
   ]
  },
  {
   "cell_type": "markdown",
   "metadata": {},
   "source": [
    "Q81.  Write the NumPy program to copy data from a given array to   another array? \n",
    " \n",
    "Sample Output- Original array- [24 27 30 29 18 14] Copy of the said array- [24 27 30 29 18 14] "
   ]
  },
  {
   "cell_type": "code",
   "execution_count": 54,
   "metadata": {},
   "outputs": [
    {
     "name": "stdout",
     "output_type": "stream",
     "text": [
      "[[24 27 30 29 18 14]]\n"
     ]
    }
   ],
   "source": [
    "num81 = [[24,27,30,29,18,14]]\n",
    "num811 = numpy.array(num81)\n",
    "num812 = num811\n",
    "print(num812)"
   ]
  },
  {
   "cell_type": "markdown",
   "metadata": {},
   "source": [
    "Q82.  Write the NumPy program to calculate the sum of all columns of   the 2D numpy array?    Sample Output- Original array- [[ 0 1 2 3 4 5 6 7 8] [ 9 10 11 12 13 14 15 16 17] [18 19 20 21 22 23 24 25 26] [27 28 29 30 31 32 33 34 35]] Sum of all columns- [54 58 62 66 70 74 78 82 86] "
   ]
  },
  {
   "cell_type": "code",
   "execution_count": 57,
   "metadata": {},
   "outputs": [
    {
     "name": "stdout",
     "output_type": "stream",
     "text": [
      "original array:-\n",
      " [[0, 1, 2, 3, 4, 5, 6, 7, 8], [9, 10, 11, 12, 13, 14, 15, 16, 17], [18, 19, 20, 21, 22, 23, 24, 25, 26], [27, 28, 29, 30, 31, 32, 33, 34, 35]]\n",
      "numpy array:-\n",
      " [[ 0  1  2  3  4  5  6  7  8]\n",
      " [ 9 10 11 12 13 14 15 16 17]\n",
      " [18 19 20 21 22 23 24 25 26]\n",
      " [27 28 29 30 31 32 33 34 35]]\n",
      "sum of columns:-\n",
      " [54 58 62 66 70 74 78 82 86]\n"
     ]
    }
   ],
   "source": [
    "num82 = [[0,1,2,3,4,5,6,7,8],[9,10,11,12,13,14,15,16,17],[18, 19, 20 ,21 ,22, 23, 24, 25, 26], [27,28,29,30,31,32,33,34,35]]\n",
    "print('original array:-\\n',num82)\n",
    "num82a = numpy.array(num82)\n",
    "print('numpy array:-\\n',num82a)\n",
    "num82b = num82a.sum(axis=0)\n",
    "print('sum of columns:-\\n',num82b)"
   ]
  },
  {
   "cell_type": "markdown",
   "metadata": {},
   "source": [
    "Q83.  Write the NumPy program to calculate averages without NaNs   along the given array?   \n",
    " \n",
    "Sample Output- Original array- [[10. 20. 30.] [40. 50. nan] [nan 6. nan] [nan nan nan]] \n",
    "Averages without NaNs along the said array- [20. 45. 6. nan] "
   ]
  },
  {
   "cell_type": "code",
   "execution_count": 62,
   "metadata": {},
   "outputs": [
    {
     "name": "stdout",
     "output_type": "stream",
     "text": [
      "input numpy array:-\n",
      " [[10. 20. 30.]\n",
      " [40. 50. nan]\n",
      " [nan  6. nan]\n",
      " [nan nan nan]]\n",
      "output nump array:-\n",
      " [20. 45.  6. nan]\n"
     ]
    },
    {
     "name": "stderr",
     "output_type": "stream",
     "text": [
      "C:\\Users\\LENOVO IP110\\Anaconda3\\lib\\site-packages\\ipykernel_launcher.py:4: RuntimeWarning: Mean of empty slice\n",
      "  after removing the cwd from sys.path.\n"
     ]
    }
   ],
   "source": [
    "num83a =  [[10,20,30],[40,50,numpy.nan], [numpy.nan, 6,numpy.nan],[numpy.nan,numpy.nan,numpy.nan]] \n",
    "num83b = numpy.array(num83a)\n",
    "print('input numpy array:-\\n',num83b)\n",
    "print('output nump array:-\\n',numpy.nanmean(num83b,axis=1))\n"
   ]
  },
  {
   "cell_type": "markdown",
   "metadata": {},
   "source": [
    "Q84.  Create two arrays of six elements. Write the NumPy program to   count the number of instances of a value occurring in one array on   the condition of another array. \n",
    " \n",
    "Sample Output- Original arrays- [ 10 -10 10 -10 -10 10] [0.85 0.45 0.9 0.8 0.12 0.6 ] Number of instances of a value occurring in one array on the condition of another array: 3 "
   ]
  },
  {
   "cell_type": "code",
   "execution_count": 3,
   "metadata": {},
   "outputs": [
    {
     "name": "stdout",
     "output_type": "stream",
     "text": [
      "numbers of instance of value occuring in one array\n",
      "3\n"
     ]
    }
   ],
   "source": [
    "import numpy\n",
    "num84a = [ 10,-10,10,-10,-10,10]\n",
    "num84b = [0.85, 0.45, 0.9, 0.8, 0.12, 0.6]\n",
    "num84aa = numpy.array(num84a)\n",
    "num84bb = numpy.array(num84b)\n",
    "num84cc = numpy.sum((num84aa == 10) & (num84bb > 0.5))\n",
    "print('numbers of instance of value occuring in one array')\n",
    "print(num84cc)"
   ]
  },
  {
   "cell_type": "markdown",
   "metadata": {},
   "source": [
    "Q85. Write the NumPy program to convert a Python dictionary to a   Numpy ndarray ? \n",
    " \n",
    " \n",
    "Original dictionary- {'column0': {'a': 1, 'b': 0.0, 'c': 0.0, 'd': 2.0}, 'column1': {'a': 3.0, 'b': 1, 'c': 0.0, 'd': -1.0}, 'column2': {'a': 4, 'b': 1, 'c': 5.0, 'd': -1.0}, 'column3': {'a': 3.0, 'b': -1.0, 'c': -1.0, 'd': -1.0}} Type: <class 'dict'> ndarray- [[ 1. 0. 0. 2.] [ 3. 1. 0. -1.] [ 4. 1. 5. -1.] [ 3. -1. -1. -1.]] Type: <class 'numpy.ndarray'> "
   ]
  },
  {
   "cell_type": "code",
   "execution_count": 7,
   "metadata": {},
   "outputs": [
    {
     "name": "stdout",
     "output_type": "stream",
     "text": [
      "numpy array:-\n",
      " [[ 1.  0.  0.  2.]\n",
      " [ 3.  1.  0. -1.]\n",
      " [ 4.  1.  5. -1.]\n",
      " [ 3. -1. -1. -1.]]\n"
     ]
    }
   ],
   "source": [
    "import numpy\n",
    "num85 = {'column0': {'a': 1, 'b': 0.0, 'c': 0.0, 'd': 2.0}, \n",
    "         'column1': {'a': 3.0, 'b': 1, 'c': 0.0, 'd': -1.0},\n",
    "         'column2': {'a': 4, 'b': 1, 'c': 5.0, 'd': -1.0},\n",
    "         'column3': {'a': 3.0, 'b': -1.0, 'c': -1.0, 'd': -1.0}}\n",
    "num85a = []\n",
    "for k,v in num85.items():\n",
    "    for x, y in v.items():\n",
    "        num85a.append(y)\n",
    "num85b = numpy.array(num85a).reshape(4,4)\n",
    "print('numpy array:-\\n',num85b)"
   ]
  },
  {
   "cell_type": "markdown",
   "metadata": {},
   "source": [
    "Q86. Write the Numpy program to find and store the non-zero unique   rows in an array after comparing each row with other row in the   given matrix?           \n",
    "\n",
    " \n",
    "P a g e 24 | 44 \n",
    " \n",
    "Original array- [[ 1 1 0] [ 0 0 0] [ 0 2 3] [ 0 0 0] [ 0 -1 1] [ 0 0 0]] Non-zero unique rows- [[ 1 1 0] [ 0 2 3] [ 0 -1 1]] "
   ]
  },
  {
   "cell_type": "code",
   "execution_count": 9,
   "metadata": {},
   "outputs": [
    {
     "name": "stdout",
     "output_type": "stream",
     "text": [
      "[(1, 1, 0), (0, 2, 3), (0, -1, 1)]\n"
     ]
    }
   ],
   "source": [
    "import numpy\n",
    "num86 = ([[1,1,0],[0,0,0],[0,2,3],[0,0,0],[0,-1,1],[0,0,0]])\n",
    "num861 = numpy.array(num86)\n",
    "num862 = []\n",
    "for idx, row in enumerate(map(tuple,num861)):\n",
    "    if row == (0,0,0):\n",
    "       continue\n",
    "    else:\n",
    "        num862.append(row)\n",
    "print(num862)"
   ]
  },
  {
   "cell_type": "markdown",
   "metadata": {},
   "source": [
    "Q87.  Write the NumPy program to multiply the matrix by another matrix   of complex numbers and create a new matrix of complex   numbers?    Sample output- First array- [ 1.+2.j 3.+4.j] Second array- [ 5.+6.j 7.+8.j] Product of above two arrays- (70-8j) \n",
    " "
   ]
  },
  {
   "cell_type": "code",
   "execution_count": 12,
   "metadata": {},
   "outputs": [
    {
     "name": "stdout",
     "output_type": "stream",
     "text": [
      "product of two array\n",
      "[[ -7.+16.j -11.+52.j]]\n"
     ]
    }
   ],
   "source": [
    "num87a = numpy.array([1+2.J,3+4.j])\n",
    "num87b = numpy.array([[5+6.j,7.+8.j]])\n",
    "num87 = num87a*num87b\n",
    "print('product of two array')\n",
    "print(num87)"
   ]
  },
  {
   "cell_type": "markdown",
   "metadata": {},
   "source": [
    "Q88. Write a NumPy program to generate the matrix product of two   Arrays? \n",
    " \n",
    "Sample Output- Matrices and vectors. x- [[1, 0], [1, 1]] y- [[3, 1], [2, 2]] \n",
    "Matrix product of above two arrays-  \n",
    "[[3 1] [5 3]] \n",
    " \n",
    " "
   ]
  },
  {
   "cell_type": "code",
   "execution_count": 14,
   "metadata": {},
   "outputs": [
    {
     "name": "stdout",
     "output_type": "stream",
     "text": [
      "[[3 1]\n",
      " [5 3]]\n"
     ]
    }
   ],
   "source": [
    "num88a = [[1,0],[1,1]]\n",
    "num88b = [[3,1],[2,2]]\n",
    "num88 = numpy.matmul(num88a,num88b)\n",
    "print(num88)"
   ]
  },
  {
   "cell_type": "markdown",
   "metadata": {},
   "source": [
    "Q89. Write the NumPy program to find roots of the following   Polynomials? \n",
    " \n",
    "a) (x2 - 4x + 7) b) x4 - 11x3 + 9x2 + 11x ? 10 Sample output- Roots of the first polynomial- [ 1. 1.] Roots of the second polynomial- [ 11.04461946+0.j -0.87114210+0.j 0.91326132+0.4531004j 0.91326132-0.4531004j ] "
   ]
  },
  {
   "cell_type": "code",
   "execution_count": 15,
   "metadata": {},
   "outputs": [
    {
     "name": "stdout",
     "output_type": "stream",
     "text": [
      "[1. 1.]\n",
      "[11.04461946+0.j        -0.8711421 +0.j         0.91326132+0.4531004j\n",
      "  0.91326132-0.4531004j]\n"
     ]
    }
   ],
   "source": [
    "import numpy\n",
    "print(numpy.roots([1,-2,1]))\n",
    "print(numpy.roots([1,-12,10,7,-10]))"
   ]
  },
  {
   "cell_type": "markdown",
   "metadata": {},
   "source": [
    "Q90. Write the NumPy program to calculate inverse of sine, cosine,  and inverse tangent for all elements in a given array?          \n",
    " \n",
    "Sample output- Inverse sine- [-1.57079633 0. 1.57079633] Inverse cosine- [3.14159265 1.57079633 0. ] Inverse tangent- [-0.78539816 0. 0.78539816] "
   ]
  },
  {
   "cell_type": "code",
   "execution_count": 16,
   "metadata": {},
   "outputs": [
    {
     "name": "stdout",
     "output_type": "stream",
     "text": [
      "inverse sine [-1.57079633  0.          1.57079633]\n",
      "inverse cosine [3.14159265 1.57079633 0.        ]\n",
      "inverse tangent [-0.78539816  0.          0.78539816]\n"
     ]
    }
   ],
   "source": [
    "num90 = numpy.array([-1.,0,1.])\n",
    "print('inverse sine',numpy.arcsin(num90))\n",
    "print('inverse cosine',numpy.arccos(num90))\n",
    "print('inverse tangent',numpy.arctan(num90))"
   ]
  },
  {
   "cell_type": "markdown",
   "metadata": {},
   "source": [
    "Q91. Write the NumPy program to calculate the difference between in   neighbouring elements, element-wise of a given array?           Sample output- Original array- [1 3 5 7 0] Difference between neighbouring elements, element-wise of the said array- [ 2 2 2 -7] \n",
    " \n",
    " "
   ]
  },
  {
   "cell_type": "code",
   "execution_count": 20,
   "metadata": {},
   "outputs": [
    {
     "name": "stdout",
     "output_type": "stream",
     "text": [
      "input  array is :-\n",
      " [1 3 5 7 0]\n",
      "output array is:-\n",
      "  [2, 2, 2, -7]\n"
     ]
    }
   ],
   "source": [
    "num91 = ([1,3,5,7,0])\n",
    "num91a = numpy.array(num91)\n",
    "print('input  array is :-\\n',num91a)\n",
    "num91b = []\n",
    "for j in range(0,len(num91a)-1):\n",
    "    num91b.append((num91a[j+1]-num91a[j]))\n",
    "print(\"output array is:-\\n \",num91b)"
   ]
  },
  {
   "cell_type": "markdown",
   "metadata": {},
   "source": [
    "Q92. Write the Python program to find the maximum and the minimum   value of a given flattened array? \n",
    " \n",
    "Expected Output- Original flattened array- [[0 1] [2 3]] Maximum value of the above flattened array- 3 Minimum value of the above flattened array- 0"
   ]
  },
  {
   "cell_type": "code",
   "execution_count": 23,
   "metadata": {},
   "outputs": [
    {
     "name": "stdout",
     "output_type": "stream",
     "text": [
      "Maximum value 3\n",
      "Minium value 0\n"
     ]
    }
   ],
   "source": [
    "num92 = ([0,1],[2,3])\n",
    "num921 = numpy.array(num92)\n",
    "print('Maximum value',num921.max())\n",
    "print('Minium value',num921.min())"
   ]
  },
  {
   "cell_type": "markdown",
   "metadata": {},
   "source": [
    "Q93. Write the NumPy program to calculate the difference between in   the maximum and the minimum values of a given array along the   second axis ?             Expected Output- Original array- [[ 0 1 2 3 4 5] [ 6 7 8 9 10 11]] Difference between the maximum and the minimum values of the said array- [5 5]"
   ]
  },
  {
   "cell_type": "code",
   "execution_count": 26,
   "metadata": {},
   "outputs": [
    {
     "name": "stdout",
     "output_type": "stream",
     "text": [
      "maximum value of array [5, 5]\n"
     ]
    }
   ],
   "source": [
    "num93 = [(0,1,2,3,4,5),[6,7,8,9,10,11]]\n",
    "num931 = numpy.array(num93)\n",
    "(num932,num933) = numpy.split(num931,2)\n",
    "num932max = num932.max()\n",
    "num932min = num932.min()\n",
    "num933max = num933.max()\n",
    "num933min = num933.min()\n",
    "num932all = []\n",
    "num932all = [num932max-num932min,num933max-num933min]\n",
    "print('maximum value of array',(num932all))"
   ]
  },
  {
   "cell_type": "markdown",
   "metadata": {},
   "source": [
    "Q94. Write the NumPy program to compute the weighted of the given   array ? \n",
    " \n",
    "Sample Output- Original array- [0 1 2 3 4] Weighted average of the said array- 2.6666666666666665 "
   ]
  },
  {
   "cell_type": "code",
   "execution_count": 28,
   "metadata": {},
   "outputs": [
    {
     "name": "stdout",
     "output_type": "stream",
     "text": [
      "original numpy array\n",
      "[0 1 2 3 4]\n",
      "weight avg of array 2.6666666666666665\n"
     ]
    }
   ],
   "source": [
    "num94 = [0,1,2,3,4]\n",
    "num941 = numpy.array(num94)\n",
    "weight = [1,2,3,4,5]\n",
    "weight = numpy.array(weight)\n",
    "print('original numpy array')\n",
    "print(num941)\n",
    "print('weight avg of array',numpy.average(num941,weights=weight,axis=0))"
   ]
  },
  {
   "cell_type": "markdown",
   "metadata": {},
   "source": [
    "Q95. Write the NumPy program to compute the mean, standard   deviation, and the variance of a given array along the second  axis?             \n",
    " \n",
    "Sample output- Original array- [0 1 2 3 4 5] Mean- 2.5 std- 1 variance- 2.9166666666666665 "
   ]
  },
  {
   "cell_type": "code",
   "execution_count": 30,
   "metadata": {},
   "outputs": [
    {
     "name": "stdout",
     "output_type": "stream",
     "text": [
      "original array [0 1 2 3 4 5]\n",
      "mean is 2.5\n",
      "standard is 1.707825127659933\n",
      "variance is 2.9166666666666665\n"
     ]
    }
   ],
   "source": [
    "num95 = [0,1,2,3,4,5]\n",
    "num951 = numpy.array(num95)\n",
    "print('original array',num951)\n",
    "print('mean is',numpy.mean(num951))\n",
    "print('standard is',numpy.std(num951))\n",
    "print('variance is',numpy.var(num951))"
   ]
  },
  {
   "cell_type": "markdown",
   "metadata": {},
   "source": [
    "Q96. Write the Numpy program to compute the covariance matrix of the   two given arrays?   \n",
    " \n",
    "Sample Output- Original array1- [0 1 2] Original array1- [2 1 0] Covariance matrix of the said arrays- [[ 1. -1.] [-1. 1.]]"
   ]
  },
  {
   "cell_type": "code",
   "execution_count": 31,
   "metadata": {},
   "outputs": [
    {
     "name": "stdout",
     "output_type": "stream",
     "text": [
      "numpy array1 [0 1 2]\n",
      "numpy array2 [2 1 0]\n",
      "covariance matrix of arrays\n",
      "[[ 1. -1.]\n",
      " [-1.  1.]]\n"
     ]
    }
   ],
   "source": [
    "num96a = numpy.array([0,1,2])\n",
    "num96b = numpy.array([2,1,0])\n",
    "num96c = numpy.cov(num96a,num96b)\n",
    "print('numpy array1',num96a)\n",
    "print('numpy array2',num96b)\n",
    "print('covariance matrix of arrays')\n",
    "print(num96c)"
   ]
  },
  {
   "cell_type": "markdown",
   "metadata": {},
   "source": [
    "Q97. Write a NumPy program to compute the cross-correlation of two   given arrays ? \n",
    " \n",
    "Sample Output- Original array1- [0 1 3] Original array1- [2 4 5] Cross-correlation of the said arrays- [ [ 2.33333333 2.16666667 ]   [ 2.16666667 2.33333333 ] ] "
   ]
  },
  {
   "cell_type": "code",
   "execution_count": 32,
   "metadata": {},
   "outputs": [
    {
     "name": "stdout",
     "output_type": "stream",
     "text": [
      "numpy array1 [0 1 3]\n",
      "numpy array2 [2 4 5]\n",
      "covariance matrix of arrays\n",
      "[[1.         0.92857143]\n",
      " [0.92857143 1.        ]]\n",
      "[19]\n"
     ]
    }
   ],
   "source": [
    "num97a = numpy.array([0,1,3])\n",
    "num97b = numpy.array([2,4,5])\n",
    "num97c = numpy.correlate(num97a,num97b)\n",
    "print('numpy array1',num97a)\n",
    "print('numpy array2',num97b)\n",
    "print('covariance matrix of arrays')\n",
    "print(numpy.corrcoef(num97a,num97b))\n",
    "print(numpy.correlate(num97a,num97b))"
   ]
  },
  {
   "cell_type": "markdown",
   "metadata": {},
   "source": [
    "Q98. Write the NumPy program to compute Pearson product-moment   correlation coefficients of two given arrays? \n",
    " \n",
    "Sample Output- Original array1- [0 1 3] Original array1- [2 4 5] Pearson product-moment correlation coefficients of the said arrays- [[1. 0.92857143] [0.92857143 1. ]] \n",
    " "
   ]
  },
  {
   "cell_type": "code",
   "execution_count": 33,
   "metadata": {},
   "outputs": [
    {
     "name": "stdout",
     "output_type": "stream",
     "text": [
      "numpy array1 [0, 1, 3]\n",
      "numpy array2 [2, 4, 5]\n",
      "Pearson product moment correlation coefficients\n",
      "[[1.         0.92857143]\n",
      " [0.92857143 1.        ]]\n"
     ]
    }
   ],
   "source": [
    "num98a = [0,1,3]\n",
    "num98b = [2,4,5]\n",
    "num98c = numpy.corrcoef(num98a,num98b)\n",
    "print('numpy array1',num98a)\n",
    "print('numpy array2',num98b)\n",
    "print('Pearson product moment correlation coefficients')\n",
    "print(num98c)"
   ]
  },
  {
   "cell_type": "markdown",
   "metadata": {},
   "source": [
    "Q99. Write the python program to count the number of occurrences of   each value in a given array of non-negative integers?          Note: bincount() Function- It  count the occurrence of each value in an array of the \n",
    " non- negative integers in the range of the array between the minimum and maximum values         including the values that did not occur. \n",
    "Sample Output- Original array- [0, 1, 6, 1, 4, 1, 2, 2, 7] Number of occurrences of each value in array- [1 3 2 0 1 0 1 1] "
   ]
  },
  {
   "cell_type": "code",
   "execution_count": 35,
   "metadata": {},
   "outputs": [
    {
     "name": "stdout",
     "output_type": "stream",
     "text": [
      "numpy array1 [0, 1, 6, 1, 4, 1, 2, 2, 7]\n",
      "count the number of occurences of each value in a given array of non-negative integer\n",
      "[1 3 2 0 1 0 1 1]\n"
     ]
    }
   ],
   "source": [
    "num99 = [0,1,6,1,4,1,2,2,7]\n",
    "num99a = numpy.bincount(num99)\n",
    "print('numpy array1',num99)\n",
    "print('count the number of occurences of each value in a given array of non-negative integer')\n",
    "print(num99a)"
   ]
  },
  {
   "cell_type": "markdown",
   "metadata": {},
   "source": [
    "Q100. Write a Numpy program to compute the histogram of nums   against the bins?   Sample Output- nums- [0.5 0.7 1. 1.2 1.3 2.1] \n",
    "bins- [0 1 2 3] Result- (array([2, 3, 1], dtype=int64), array([0, 1, 2, 3])) "
   ]
  },
  {
   "cell_type": "code",
   "execution_count": 37,
   "metadata": {},
   "outputs": [
    {
     "name": "stdout",
     "output_type": "stream",
     "text": [
      "Result (array([2, 3, 1], dtype=int64), array([0, 1, 2, 3]))\n"
     ]
    },
    {
     "data": {
      "image/png": "[encoded data removed]",
      "text/plain": [
       "<Figure size 432x288 with 1 Axes>"
      ]
     },
     "metadata": {
      "needs_background": "light"
     },
     "output_type": "display_data"
    }
   ],
   "source": [
    "import numpy\n",
    "import matplotlib.pyplot\n",
    "nums = [0.5,0.7,1.0,1.2,1.3,2.1]\n",
    "num100 = numpy.array(nums)\n",
    "bins=[0,1,2,3]\n",
    "num100 = numpy.array(bins)\n",
    "print('Result',numpy.histogram(nums,bins))\n",
    "matplotlib.pyplot.hist(nums,bins)\n",
    "matplotlib.pyplot.show()"
   ]
  },
  {
   "cell_type": "markdown",
   "metadata": {},
   "source": [
    "Q101. Write the Python program to add, subtract, multiply and divide   two pandas series ? \n",
    "Sample Series- [2, 4, 6, 8, 10], [1, 3, 5, 7, 9] "
   ]
  },
  {
   "cell_type": "code",
   "execution_count": 46,
   "metadata": {},
   "outputs": [
    {
     "name": "stdout",
     "output_type": "stream",
     "text": [
      "first input is [2, 4, 6, 8, 10]\n",
      "second input is [1, 3, 5, 7, 9]\n",
      "add is:-\n",
      " 0     3\n",
      "1     7\n",
      "2    11\n",
      "3    15\n",
      "4    19\n",
      "dtype: int64\n",
      "sub is:-\n",
      " 0    1\n",
      "1    1\n",
      "2    1\n",
      "3    1\n",
      "4    1\n",
      "dtype: int64\n",
      "mul is:-\n",
      " 0     2\n",
      "1    12\n",
      "2    30\n",
      "3    56\n",
      "4    90\n",
      "dtype: int64\n",
      "div is:-\n",
      " 0    2.000000\n",
      "1    1.333333\n",
      "2    1.200000\n",
      "3    1.142857\n",
      "4    1.111111\n",
      "dtype: float64\n"
     ]
    }
   ],
   "source": [
    "import pandas\n",
    "def mulfunc(seq1,seq2,operation):\n",
    "    if operation == 'add':\n",
    "      return seq1+seq2\n",
    "    elif operation == 'sub':\n",
    "      return seq1 - seq2 \n",
    "    elif operation == 'mul':\n",
    "      return seq1*seq2\n",
    "    elif operation == 'div':\n",
    "      return seq1/seq2\n",
    "seq101 = [2,4,6,8,10]\n",
    "seq1011 = [1,3,5,7,9]\n",
    "series1 = pandas.Series(seq101)\n",
    "series2 = pandas.Series(seq1011)\n",
    "print('first input is',seq101)\n",
    "print('second input is',seq1011)\n",
    "listadd = mulfunc(series1,series2,'add')\n",
    "print('add is:-\\n',listadd)\n",
    "listsub = mulfunc(series1,series2,'sub')\n",
    "print('sub is:-\\n', listsub)\n",
    "listmul = mulfunc(series1,series2,'mul')\n",
    "print('mul is:-\\n',listmul)\n",
    "listdiv = mulfunc(series1,series2,'div')\n",
    "print('div is:-\\n',listdiv)"
   ]
  },
  {
   "cell_type": "markdown",
   "metadata": {},
   "source": [
    "Q102. Write a Python program to convert a dictionary to the Pandas   Series? \n",
    " \n",
    "Sample Series- Original dictionary- {'a': 100, 'b': 200, 'c': 300, 'd': 400, 'e': 800} Converted series - a  100 b  200 c  300 d  400 e  800 dtype- int64 \n",
    " "
   ]
  },
  {
   "cell_type": "code",
   "execution_count": 48,
   "metadata": {},
   "outputs": [
    {
     "name": "stdout",
     "output_type": "stream",
     "text": [
      "Dictionary convereted to pandas series:-\n",
      " a    100\n",
      "b    200\n",
      "c    300\n",
      "d    400\n",
      "e    800\n",
      "dtype: int64\n"
     ]
    }
   ],
   "source": [
    "dict102 = {'a': 100, 'b': 200, 'c': 300, 'd': 400, 'e': 800} \n",
    "series102 = pandas.Series(dict102)\n",
    "print('Dictionary convereted to pandas series:-\\n',series102)"
   ]
  },
  {
   "cell_type": "code",
   "execution_count": null,
   "metadata": {},
   "outputs": [],
   "source": [
    "Q103. Write a python program to change the data type of given a   column or a Series? \n",
    "Sample Series- Original Data Series- 0 100 \n",
    "\n",
    " \n",
    "\n",
    " \n",
    "1  200 2  python 3  300.12 4  400 dtype- object Change the said data type to numeric- 0 100.00 1 200.00 2 NaN 3 300.12 4  400.00 dtype- float64 \n",
    " \n",
    " "
   ]
  },
  {
   "cell_type": "code",
   "execution_count": 49,
   "metadata": {},
   "outputs": [
    {
     "name": "stdout",
     "output_type": "stream",
     "text": [
      "Before change of dataframe values      Name  Age\n",
      "0    Alex   10\n",
      "1     Bob   12\n",
      "2  Clarke   13\n",
      "<class 'pandas.core.frame.DataFrame'>\n",
      "RangeIndex: 3 entries, 0 to 2\n",
      "Data columns (total 2 columns):\n",
      "Name    3 non-null object\n",
      "Age     3 non-null int64\n",
      "dtypes: int64(1), object(1)\n",
      "memory usage: 176.0+ bytes\n",
      "Before change of datafame info None\n",
      "Before change of dataframe values      Name   Age\n",
      "0    Alex  10.0\n",
      "1     Bob  12.0\n",
      "2  Clarke  13.0\n",
      "<class 'pandas.core.frame.DataFrame'>\n",
      "RangeIndex: 3 entries, 0 to 2\n",
      "Data columns (total 2 columns):\n",
      "Name    3 non-null object\n",
      "Age     3 non-null float64\n",
      "dtypes: float64(1), object(1)\n",
      "memory usage: 176.0+ bytes\n",
      "Before change of dataframe info None\n"
     ]
    }
   ],
   "source": [
    "import pandas\n",
    "data103 = [['Alex',10],['Bob',12],['Clarke',13]]\n",
    "dataframe103 = pandas.DataFrame(data103,columns=['Name','Age'])\n",
    "print('Before change of dataframe values',dataframe103)\n",
    "print('Before change of datafame info',dataframe103.info())\n",
    "dataframe103['Age'] = dataframe103['Age'].astype(float)\n",
    "print('Before change of dataframe values',dataframe103)\n",
    "print('Before change of dataframe info',dataframe103.info())"
   ]
  },
  {
   "cell_type": "markdown",
   "metadata": {},
   "source": [
    "Q104. Write the python pandas program to convert the first column of a   DataFrame as a Series? \n",
    "Sample Output- Original DataFrame- col1 col2 col3 0 1 4 7 1 2 5 5 2 3 6  8 3 4 9 12 4 7 5 1 5 11 0 11 1st column as a Series- 0 1 1 2 2 3 3 4 4 7 5 11 Name- col1, dtype- int64 <class 'pandas.core.series.Series'> "
   ]
  },
  {
   "cell_type": "code",
   "execution_count": 51,
   "metadata": {},
   "outputs": [
    {
     "name": "stdout",
     "output_type": "stream",
     "text": [
      "input given is:-\n",
      "    column1  column2  column3\n",
      "0        0        1        4\n",
      "1        7        1        2\n",
      "2        5        5        2\n",
      "3        3        6        8\n",
      "4        3        4        9\n",
      "5       12        4        7\n",
      "6        5        1        5\n",
      "7       11        0       11\n",
      "first column value:-\n",
      " 0     0\n",
      "1     7\n",
      "2     5\n",
      "3     3\n",
      "4     3\n",
      "5    12\n",
      "6     5\n",
      "7    11\n",
      "Name: column1, dtype: int64\n",
      "first column type is series:-\n",
      " <class 'pandas.core.series.Series'>\n"
     ]
    }
   ],
   "source": [
    "import pandas\n",
    "data104 = [[0,1,4],[7,1,2],[5,5,2],[3,6,8],[3,4,9],[12,4,7],[5,1,5],[11,0,11]]\n",
    "dataframe104 = pandas.DataFrame(data104,columns=['column1','column2','column3'])\n",
    "print('input given is:-\\n',dataframe104)\n",
    "print('first column value:-\\n',dataframe104['column1'])\n",
    "print('first column type is series:-\\n',type(dataframe104['column1']))"
   ]
  },
  {
   "cell_type": "markdown",
   "metadata": {},
   "source": [
    "Q105. Write a pandas program to create the mean and standard   deviation of the data of a given Series? \n",
    "Sample Output- Original Data Series- 0  1 1  2 2  3 3  4 4  5 5  6 6  7 7  8 8  9 9  5 10 3 dtype- int64 Mean of the said Data Series- 4.81818181818 Standard deviation of the said Data Series- 2.52262489555"
   ]
  },
  {
   "cell_type": "code",
   "execution_count": 53,
   "metadata": {},
   "outputs": [
    {
     "name": "stdout",
     "output_type": "stream",
     "text": [
      "input is :-\n",
      " 0     1\n",
      "1     2\n",
      "2     3\n",
      "3     4\n",
      "4     5\n",
      "5     6\n",
      "6     7\n",
      "7     8\n",
      "8     9\n",
      "9     5\n",
      "10    3\n",
      "dtype: int64\n",
      "Mean of the given series 4.818181818181818\n",
      "standard deviation of given series 2.522624895547565\n"
     ]
    }
   ],
   "source": [
    "import pandas\n",
    "list105 = [1,2,3,4,5,6,7,8,9,5,3]\n",
    "dataframe105 = pandas.Series(list105)\n",
    "print('input is :-\\n',dataframe105)\n",
    "print('Mean of the given series',dataframe105.mean())\n",
    "print('standard deviation of given series',dataframe105.std())"
   ]
  },
  {
   "cell_type": "markdown",
   "metadata": {},
   "source": [
    "Q106. Write a pandas program to get powers of an array values   element-wise?            Note First array elements raised the powers from the second array. \n",
    "   Sample data: {'X ':[78,85,96,80,86], ' Y ':[84,94,89,83,86],'Z':[86,97,96,72,83]} Expected Output: X Y Z 0 78 84 86 1 85 94 97 2 96 89  96 3 80 83 72 4 86 86 83 "
   ]
  },
  {
   "cell_type": "code",
   "execution_count": 58,
   "metadata": {},
   "outputs": [
    {
     "name": "stdout",
     "output_type": "stream",
     "text": [
      "input is  {'x': [78, 85, 96, 80, 86], 'y': [84, 94, 89, 83, 86], 'z': [86, 97, 96, 72, 83]}\n",
      "output is     x   y   z\n",
      "0  78  84  86\n",
      "1  85  94  97\n",
      "2  96  89  96\n",
      "3  80  83  72\n",
      "4  86  86  83\n"
     ]
    }
   ],
   "source": [
    "import pandas\n",
    "dict106 = {'x':[78,85,96,80,86],'y':[84,94,89,83,86],'z':[86,97,96,72,83]}\n",
    "dataframe106 = pandas.DataFrame(dict106)\n",
    "print('input is ',dict106)\n",
    "print('output is',dataframe106)"
   ]
  },
  {
   "cell_type": "markdown",
   "metadata": {},
   "source": [
    "Q107. Write the pandas program to get the first 3 rows of a given   DataFrame? \n",
    " \n",
    "Sample Python dictionary data and list labels- exam_data = {'name': ['Anastasia', 'Dima', 'Katherine', 'James', 'Emily', 'Michael', 'Matthew', 'Laura', 'Kevin', 'Jonas'], 'score': [12.5, 9, 16.5, np.nan, 9, 20, 14.5, np.nan, 8, 19], 'attempts'- [1, 3, 2, 3, 2, 3, 1, 1, 2, 1], 'qualify'- [ 'yes', 'no', 'yes' , 'no', ' no ', ' yes ', 'yes', 'no',  'no',  'yes' ] } labels = ['a', 'b', 'c', 'd', 'e', 'f', 'g', 'h', 'i', 'j' ] Expected Output- First three rows of the data frame- attempts name qualify score a  1  Anastasia yes 12.5 b  3  Dima no  9.0 c  2  Katherine  yes  16.5 \n",
    " "
   ]
  },
  {
   "cell_type": "code",
   "execution_count": 8,
   "metadata": {},
   "outputs": [
    {
     "name": "stdout",
     "output_type": "stream",
     "text": [
      "input is {'name': ['Anastasia', 'Dima', 'Katherine', 'James', 'Emily', 'Michael', 'Matthew', 'Laura', 'Kevin', 'Jonas'], 'score': [12.5, 9, 16.5, nan, 9, 20, 14.5, nan, 8, 19], 'attempts': [1, 3, 2, 3, 2, 3, 1, 1, 2, 1], 'qualify': ['yes', 'no', 'yes', 'no', ' no ', 'yes ', 'yes', 'no', 'no', 'yes']}\n",
      "output is         name  score  attempts qualify\n",
      "a  Anastasia   12.5         1     yes\n",
      "b       Dima    9.0         3      no\n",
      "c  Katherine   16.5         2     yes\n"
     ]
    }
   ],
   "source": [
    "import pandas\n",
    "import numpy\n",
    "dict107 = {'name': ['Anastasia', 'Dima', 'Katherine', 'James', 'Emily', 'Michael', 'Matthew', 'Laura', 'Kevin', 'Jonas'], 'score': [12.5, 9, 16.5, numpy.nan, 9, 20, 14.5, numpy.nan, 8, 19], 'attempts':[1, 3, 2, 3, 2, 3, 1, 1, 2, 1], 'qualify':['yes','no', 'yes','no', ' no ', 'yes ', 'yes', 'no', 'no', 'yes'] } \n",
    "labels = ['a', 'b', 'c', 'd', 'e', 'f', 'g', 'h', 'i', 'j' ] \n",
    "dataframe107 = pandas.DataFrame(dict107,index=labels)\n",
    "print('input is',dict107)\n",
    "print('output is',dataframe107.head(3))"
   ]
  },
  {
   "cell_type": "markdown",
   "metadata": {},
   "source": [
    "Q108:  Write the pandas program to select the specified columns and      the rows from a given data frame?    \n",
    " \n",
    "Sample Python dictionary data and list labels- Select 'name' and 'score' columns in rows 1, 3, 5, 6 from the following data frame. exam_data = {'name ': [ 'Anastasia', 'Dima', 'Katherine', 'James', 'Emily', 'Michael', 'Matthew', 'Laura', 'Kevin', 'Jonas'], 'score'- [12.5, 9, 16.5, np.nan, 9, 20, 14.5,  np.nan, 8, 19], 'attempts'- [1, 3, 2, 3, 2, 3, 1, 1, 2, 1], 'qualify'- ['yes', 'no', 'yes', 'no', 'no', 'yes', 'yes', 'no', 'no', 'yes'] } labels = ['a ', ' b ', ' c ', ' d ', ' e ', ' f ', ' g ', 'h', 'i', 'j'] Expected Output- Select specific columns and rows- name score b Dima 9.0 d James NaN f Michael 20.0 g Matthew 14.5 "
   ]
  },
  {
   "cell_type": "code",
   "execution_count": 11,
   "metadata": {},
   "outputs": [
    {
     "name": "stdout",
     "output_type": "stream",
     "text": [
      "input is {'name': ['Anastasia', 'Dima', 'Katherine', 'James', 'Emily', 'Michael', 'Matthew', 'Laura', 'Kevin', 'Jonas'], 'score': [12.5, 9, 16.5, nan, 9, 20, 14.5, nan, 8, 19], 'attempts': [1, 3, 2, 3, 2, 3, 1, 1, 2, 1], 'qualify': ['yes', 'no', 'yes', 'no', ' no ', 'yes ', 'yes', 'no', 'no', 'yes']}\n",
      "output is:-\n",
      "         name qualify\n",
      "a  Anastasia     yes\n",
      "b       Dima      no\n",
      "c  Katherine     yes\n"
     ]
    }
   ],
   "source": [
    "import pandas\n",
    "import numpy\n",
    "dict108 = {'name': ['Anastasia', 'Dima', 'Katherine', 'James', 'Emily', 'Michael', 'Matthew', 'Laura', 'Kevin', 'Jonas'], 'score': [12.5, 9, 16.5, numpy.nan, 9, 20, 14.5, numpy.nan, 8, 19], 'attempts':[1, 3, 2, 3, 2, 3, 1, 1, 2, 1], 'qualify':['yes','no', 'yes','no', ' no ', 'yes ', 'yes', 'no', 'no', 'yes'] } \n",
    "labels = ['a', 'b', 'c', 'd', 'e', 'f', 'g', 'h', 'i', 'j' ] \n",
    "dataframe108 = pandas.DataFrame(dict108,index=labels)\n",
    "print('input is',dict108)\n",
    "print('output is:-\\n',dataframe108[['name','qualify']].head(3))"
   ]
  },
  {
   "cell_type": "markdown",
   "metadata": {},
   "source": [
    "Q109. Write the pandas program to calculate mean score for each   different student in DataFrame? \n",
    " \n",
    "Sample Python dictionary data and list labels- exam_data = {'name': ['Anastasia', 'Dima', 'Katherine', 'James', 'Emily', 'Michael', 'Matthew', 'Laura', 'Kevin', 'Jonas'], 'score': [12.5, 9, 16.5, np.nan, 9, 20, 14.5, np.nan, 8, 19], 'attempts'- [1, 3, 2, 3, 2, 3, 1, 1, 2, 1], 'qualify'- ['yes', 'no', ' yes ', ' no ', ' no ', ' yes ', ' yes ', ' no ', ' no ', ' yes '] } labels = ['a', 'b', 'c', 'd', 'e', 'f', 'g', 'h', 'i', 'j'] Expected Output- Mean score for each different student in data frame: 13.5625 \n",
    " \n",
    " "
   ]
  },
  {
   "cell_type": "code",
   "execution_count": 12,
   "metadata": {},
   "outputs": [
    {
     "name": "stdout",
     "output_type": "stream",
     "text": [
      "input is {'name': ['Anastasia', 'Dima', 'Katherine', 'James', 'Emily', 'Michael', 'Matthew', 'Laura', 'Kevin', 'Jonas'], 'score': [12.5, 9, 16.5, nan, 9, 20, 14.5, nan, 8, 19], 'attempts': [1, 3, 2, 3, 2, 3, 1, 1, 2, 1], 'qualify': ['yes', 'no', 'yes', 'no', ' no ', 'yes ', 'yes', 'no', 'no', 'yes']}\n",
      "output is score    13.5625\n",
      "dtype: float64\n"
     ]
    }
   ],
   "source": [
    "import pandas\n",
    "import numpy\n",
    "dict109 = {'name': ['Anastasia', 'Dima', 'Katherine', 'James', 'Emily', 'Michael', 'Matthew', 'Laura', 'Kevin', 'Jonas'], 'score': [12.5, 9, 16.5, numpy.nan, 9, 20, 14.5, numpy.nan, 8, 19], 'attempts':[1, 3, 2, 3, 2, 3, 1, 1, 2, 1], 'qualify':['yes','no', 'yes','no', ' no ', 'yes ', 'yes', 'no', 'no', 'yes'] } \n",
    "labels = ['a', 'b', 'c', 'd', 'e', 'f', 'g', 'h', 'i', 'j' ] \n",
    "dataframe109 = pandas.DataFrame(dict107,index=labels)\n",
    "print('input is',dict109)\n",
    "dataframe1091 = dataframe109[['name','score']]\n",
    "print('output is',dataframe1091.mean())"
   ]
  },
  {
   "cell_type": "markdown",
   "metadata": {},
   "source": [
    "Q110. Write the Pandas program to rename columns of a given   DataFrame ? \n",
    " \n",
    "Sample data- Original data frame col1 col2 col3 0 1 4 7 1 2 5 8 2 3 6 9 New data frame after renaming columns: Column1 Column2 Column3 0 1 4 7 1 2 5 8 2 3 6 9"
   ]
  },
  {
   "cell_type": "code",
   "execution_count": 35,
   "metadata": {},
   "outputs": [
    {
     "name": "stdout",
     "output_type": "stream",
     "text": [
      "Before renaming columns Dataframe:-\n",
      "    col1  col2  col3\n",
      "0     0     1     4\n",
      "1     4     7     2\n",
      "2     5     8     2\n",
      "3     3     6     9\n",
      "After renaming columns DataFrame:-\n",
      "    column1  column2  column3\n",
      "0        0        1        4\n",
      "1        4        7        2\n",
      "2        5        8        2\n",
      "3        3        6        9\n",
      "          city  Number of people\n",
      "0   California                 4\n",
      "1      Georgia                 2\n",
      "2  Los Angeles                 4\n"
     ]
    }
   ],
   "source": [
    "\n",
    "import pandas\n",
    "data110 = [[0,1,4],[4,7,2],[5,8,2],[3,6,9]]\n",
    "dataframe110 = pandas.DataFrame(data110,columns=['col1','col2','col3'])\n",
    "print('Before renaming columns Dataframe:-\\n',dataframe110)\n",
    "dataframe110.rename(columns={'col1':'column1','col2':'column2','col3':'column3'},inplace=True)\n",
    "print('After renaming columns DataFrame:-\\n',dataframe110)\n",
    "\n"
   ]
  },
  {
   "cell_type": "markdown",
   "metadata": {},
   "source": [
    "Q111. Write a pandas program to count city-wise number of people from   a given of data set (city, name of the person)?              Sample data- \n",
    "\n",
    " \n",
    "P a g e 34 | 44 \n",
    " \n",
    "city  Number of people 0   California 4 1   Georgia 2 2   Los Angeles 4 "
   ]
  },
  {
   "cell_type": "code",
   "execution_count": 39,
   "metadata": {},
   "outputs": [
    {
     "name": "stdout",
     "output_type": "stream",
     "text": [
      "          city  Number of people\n",
      "0   California                 4\n",
      "1      Georgia                 2\n",
      "2  Los Angeles                 4\n"
     ]
    }
   ],
   "source": [
    "\"\"\"\n",
    "import pandas\n",
    "data111 = {'city':['Bangalore','Mangalore','Mysore','Gulbarga','Bangalore','Mangalore'],'noofpeople':[2,3,4,5,6,7]}\n",
    "dataframe111 = pandas.DataFrame(data111)\n",
    "print('dataframes is :-\\n',dataframe111)\n",
    "#unique_cities = dataframe111.groupby('noofpeople')['city'].unique()\n",
    "unique_cities = dataframe111.groupby(['city']).size().reset_index(name='noofpeople')\n",
    "#unique_citites1 = unique_cities.sum('noofpeople')\n",
    "print('dataframes is',unique_cities)\n",
    "\"\"\"\n",
    "\n",
    "import pandas as pd\n",
    "dataframe110 = pandas.DataFrame({'name': ['Anastasia', 'Dima', 'Katherine', 'James', 'Emily', 'Michael', 'Matthew', 'Laura', 'Kevin', 'Jonas'],\n",
    "'city': ['California', 'Los Angeles', 'California', 'California', 'California', 'Los Angeles', 'Los Angeles', 'Georgia', 'Georgia', 'Los Angeles']})\n",
    "dataframe1101 = dataframe110.groupby([\"city\"]).size().reset_index(name='Number of people')\n",
    "print(dataframe1101)"
   ]
  },
  {
   "cell_type": "markdown",
   "metadata": {},
   "source": [
    "Q112. Write a pandas program to widen output display to see more   columns? \n",
    " \n",
    "Sample data- Original data frame col1 col2 col3 0 1 4 7 1 4 5 8 2 3 6  9 3 4 7  0 4 5 8  1 "
   ]
  },
  {
   "cell_type": "code",
   "execution_count": 42,
   "metadata": {},
   "outputs": [
    {
     "name": "stdout",
     "output_type": "stream",
     "text": [
      "Before adding new colmn:-\n",
      "    col1  col2  col3\n",
      "0     1     4     7\n",
      "1     4     5     8\n",
      "2     3     6     9\n",
      "3     4     7     0\n",
      "4     5     8     1\n",
      "after adding new column:-\n",
      "    col1  col2  col3  col4\n",
      "0     1     4     7     5\n",
      "1     4     5     8     9\n",
      "2     3     6     9     9\n",
      "3     4     7     0    11\n",
      "4     5     8     1    13\n"
     ]
    }
   ],
   "source": [
    "import pandas\n",
    "data112 = [[1,4,7],[4,5,8],[3,6,9],[4,7,0],[5,8,1]]\n",
    "dataframe112 = pandas.DataFrame(data112,columns=['col1','col2','col3'])\n",
    "print('Before adding new colmn:-\\n',dataframe112)\n",
    "dataframe112['col4'] = dataframe112['col1']+dataframe112['col2']\n",
    "print('after adding new column:-\\n',dataframe112)"
   ]
  },
  {
   "cell_type": "markdown",
   "metadata": {},
   "source": [
    "Q113. Write a pandas program to convert the data frame column type   from string to DateTime?   \n",
    " \n",
    "Sample data- String Date- 0 3/11/2000 1 3/12/2000 2 3/13/2000 dtype- object Original DataFrame (string to datetime)- 0 0 2000-03-11 1 2000-03-12 2 2000-03-13"
   ]
  },
  {
   "cell_type": "code",
   "execution_count": 327,
   "metadata": {},
   "outputs": [
    {
     "name": "stdout",
     "output_type": "stream",
     "text": [
      "Before changing to datetime:-\n",
      "          col1\n",
      "0  2000-03-26\n",
      "1  2000-03-12\n",
      "2  2000-03-13\n",
      "after changing to datetime:-\n",
      " datetime64[ns]\n",
      "after changing to datetime data type of col1:-\n",
      "         col1\n",
      "0 2000-03-26\n",
      "1 2000-03-12\n",
      "2 2000-03-13\n"
     ]
    }
   ],
   "source": [
    "import pandas\n",
    "import datetime\n",
    "data113 = {'col1':['2000-03-26','2000-03-12','2000-03-13']}\n",
    "dataframe113 = pandas.DataFrame(data113)\n",
    "print('Before changing to datetime:-\\n',dataframe113)\n",
    "#print('Before changing to dateime data type of col2:-\\n',dataframe113['col2'].dtype())\n",
    "#dataframe113['col2'] = pandas.to_datetime(pandas.Series(dataframe113['col2']))\n",
    "dataframe113['col1'] = dataframe113['col1'].astype('datetime64')\n",
    "print('after changing to datetime:-\\n',dataframe113['col1'].dtype)\n",
    "print('after changing to datetime data type of col1:-\\n',dataframe113)"
   ]
  },
  {
   "cell_type": "markdown",
   "metadata": {},
   "source": [
    "Q114. Write a pandas program to append the data to an empty   DataFrame? \n",
    "Sample data- Original DataFrame- After appending some data: col1 col2 0 0 0 1 1 1 2 2 2 "
   ]
  },
  {
   "cell_type": "code",
   "execution_count": 63,
   "metadata": {},
   "outputs": [
    {
     "name": "stdout",
     "output_type": "stream",
     "text": [
      "Empty Dataframe:-\n",
      " Empty DataFrame\n",
      "Columns: []\n",
      "Index: []\n",
      "appended datafame:-\n",
      "    col1  col2\n",
      "0     0     0\n",
      "1     0     1\n",
      "2     1     1\n",
      "3     2     2\n",
      "4     2     2\n"
     ]
    }
   ],
   "source": [
    "import pandas\n",
    "data114 = []\n",
    "dataframe114 = pandas.DataFrame(data114)\n",
    "print('Empty Dataframe:-\\n',dataframe114)\n",
    "data1141 = {'col1':[0,0,1,2,2],'col2':[0,1,1,2,2]}\n",
    "dataframe1141 = pandas.DataFrame(data1141)\n",
    "dataframe11412 = dataframe114.append(dataframe1141)\n",
    "print('appended datafame:-\\n',dataframe11412)"
   ]
  },
  {
   "cell_type": "markdown",
   "metadata": {},
   "source": [
    "Q115. Write a pandas program to count the  number of columns of a   DataFrame? \n",
    " \n",
    "Sample Output- Original DataFrame col1 col2 col3 0  1  4 7 1  2  5  8 2  3  6  12 3  4  9  1 4  7  5  11 Number of columns- 3 "
   ]
  },
  {
   "cell_type": "code",
   "execution_count": 66,
   "metadata": {},
   "outputs": [
    {
     "name": "stdout",
     "output_type": "stream",
     "text": [
      "datafame:-\n",
      "    col1  col2  col3\n",
      "0     1     4     7\n",
      "1     1     2     5\n",
      "2     8     2     3\n",
      "3     6    12     3\n",
      "4     4     9     1\n",
      "5     4     7     5\n",
      "number of columns in this dataframe is :-\n",
      " 3\n"
     ]
    }
   ],
   "source": [
    "data115 = [[1,4,7],[1,2,5],[8,2,3],[6,12,3],[4,9,1],[4,7,5]]\n",
    "dataframe115 = pandas.DataFrame(data115,columns=['col1','col2','col3'])\n",
    "print('datafame:-\\n',dataframe115)\n",
    "print('number of columns in this dataframe is :-\\n',len(dataframe115.columns))"
   ]
  },
  {
   "cell_type": "markdown",
   "metadata": {},
   "source": [
    "Q116. Write a Pandas program to remove the last n rows of a given   DataFrame ? \n",
    " \n",
    "Sample Output: Original DataFrame col1 col2 col3 0 1 4 7 1 2 5 5 2 3 6  8 3 4 9 12 4 7 5  1 5 11 0 11 After removing last 3 rows of the said DataFrame- col1 col2 col3 0 1 4 7 1 2 5 5 2 3 6 8 \n",
    " \n",
    " "
   ]
  },
  {
   "cell_type": "code",
   "execution_count": 68,
   "metadata": {},
   "outputs": [
    {
     "name": "stdout",
     "output_type": "stream",
     "text": [
      "Before dropping dataframe:-\n",
      "    col1  col2  col3\n",
      "0     0     1     4\n",
      "1     7     1     2\n",
      "2     5     5     2\n",
      "3     3     6     8\n",
      "4     3     4     9\n",
      "5    12     4     7\n",
      "6     5     1     5\n",
      "7    11     0    11\n",
      "After drooping n rows:-\n",
      "    col1  col2  col3\n",
      "0     0     1     4\n",
      "1     7     1     2\n",
      "2     5     5     2\n"
     ]
    }
   ],
   "source": [
    "import pandas\n",
    "data116 = [[0,1,4],[7,1,2],[5,5,2],[3,6,8],[3,4,9],[12,4,7],[5,1,5],[11,0,11]]\n",
    "dataframe116 = pandas.DataFrame(data116,columns=['col1','col2','col3'])\n",
    "print('Before dropping dataframe:-\\n',dataframe116)\n",
    "print('After drooping n rows:-\\n',dataframe116.drop([3,4,5,6,7]))"
   ]
  },
  {
   "cell_type": "markdown",
   "metadata": {},
   "source": [
    "Q117. Write a Pandas program to import excel data (coalpublic2013.xlsx   ) into a Pandas data frame. "
   ]
  },
  {
   "cell_type": "code",
   "execution_count": 70,
   "metadata": {},
   "outputs": [
    {
     "name": "stdout",
     "output_type": "stream",
     "text": [
      "dataframe117    Year  MSHA ID                       Mine_Name  Production  Labor_Hours\n",
      "0  2013   103381            Tacoa Highwall Miner       56004        22392\n",
      "1  2013   103404                Reid School Mine       28807        28447\n",
      "2  2013   100759  North River #1 Underground Min     1440115       474784\n",
      "3  2013   103246                      Bear Creek       87587        29193\n",
      "4  2013   103451                     Knight Mine      147499        46393\n"
     ]
    }
   ],
   "source": [
    "import pandas\n",
    "dataframe117 = pandas.read_excel(\"coalpublic2013.xlsx\")\n",
    "print('dataframe117',dataframe117.head(5))"
   ]
  },
  {
   "cell_type": "markdown",
   "metadata": {},
   "source": [
    "Q118. Write a Pandas program to import excel data (coalpublic2013.xlsx   ) into a data frame and find details where \"Mine Name\" starts with   \"P. "
   ]
  },
  {
   "cell_type": "code",
   "execution_count": 75,
   "metadata": {},
   "outputs": [
    {
     "name": "stdout",
     "output_type": "stream",
     "text": [
      "namestartingwithhp:-\n",
      "     Year  MSHA ID                      Mine_Name  Production  Labor_Hours\n",
      "13  2013   103332                  Powhatan Mine      140521        61394\n",
      "18  2013   102976  Piney Woods Preparation Plant           0        14828\n",
      "19  2013   102976  Piney Woods Preparation Plant           0        23193\n",
      "46  2013   103321                 Poplar Springs      189370        76366\n"
     ]
    }
   ],
   "source": [
    "import pandas\n",
    "dataframe118 = pandas.read_excel('coalpublic2013.xlsx')\n",
    "#print('dataframe118:-\\n',dataframe118)\n",
    "print('namestartingwithhp:-\\n',dataframe118[dataframe118['Mine_Name'].str.lower().str.startswith('p')])"
   ]
  },
  {
   "cell_type": "markdown",
   "metadata": {},
   "source": [
    "Q119. Write a Pandas program to import excel data (employee.xlsx )  into a Pandas dataframe and find the list of employees where   hire_date> 01-01-07. "
   ]
  },
  {
   "cell_type": "code",
   "execution_count": 87,
   "metadata": {},
   "outputs": [
    {
     "name": "stdout",
     "output_type": "stream",
     "text": [
      "dataframe119:-\n",
      "     emp_id first_name   last_name  hire_date\n",
      "4      104      Bruce       Ernst 2007-05-21\n",
      "7      107      Diana     Lorentz 2007-02-07\n",
      "13     113       Luis        Popp 2007-12-07\n",
      "19     119      Karen  Colmenares 2007-08-10\n"
     ]
    }
   ],
   "source": [
    "import pandas\n",
    "dataframe119 = pandas.read_excel('employee.xlsx')\n",
    "print('dataframe119:-\\n',dataframe119.query(\"hire_date > '2007-01-01'\"))"
   ]
  },
  {
   "cell_type": "markdown",
   "metadata": {},
   "source": [
    "Q120.  Write a Pandas program to import excel data (employee.xlsx ) into a Pandas dataframe and  find a list of the employees of a specified year "
   ]
  },
  {
   "cell_type": "code",
   "execution_count": 99,
   "metadata": {},
   "outputs": [
    {
     "name": "stdout",
     "output_type": "stream",
     "text": [
      "datafame119:-\n",
      "     emp_id first_name   last_name  hire_date  year119\n",
      "4      104      Bruce       Ernst 2007-05-21     2007\n",
      "7      107      Diana     Lorentz 2007-02-07     2007\n",
      "13     113       Luis        Popp 2007-12-07     2007\n",
      "19     119      Karen  Colmenares 2007-08-10     2007\n"
     ]
    }
   ],
   "source": [
    "import pandas\n",
    "dataframe120 = pandas.read_excel('employee.xlsx')\n",
    "dataframe120['year119'] = dataframe119['hire_date'].dt.year\n",
    "print('datafame119:-\\n',dataframe119.query(\"hire_date.dt.year == '2007'\"))"
   ]
  },
  {
   "cell_type": "markdown",
   "metadata": {},
   "source": [
    "Q121. Write a pandas program to import three datasheets from a given   excel data  (coalpublic2013.xlsx ) in to a single dataframe.                          Note: Structure of three datasheets are same. "
   ]
  },
  {
   "cell_type": "code",
   "execution_count": 117,
   "metadata": {},
   "outputs": [
    {
     "name": "stdout",
     "output_type": "stream",
     "text": [
      "dataframe for sheet1:-\n",
      "    Year  MSHA ID             Mine_Name  Production  Labor_Hours\n",
      "0  2013   103381  Tacoa Highwall Miner       56004        22392\n",
      "1  2013   103404      Reid School Mine       28807        28447\n",
      "datafrmae for sheet2:-\n",
      "    Year  MSHA ID                       Mine_Name  Production  Labor_Hours\n",
      "0  2013   103381            Tacoa Highwall Miner       56004        22392\n",
      "1  2013   103404                Reid School Mine       28807        28447\n",
      "2  2013   100759  North River #1 Underground Min     1440115       474784\n",
      "3  2013   103246                      Bear Creek       87587        29193\n",
      "dataframe for sheet3:-\n",
      "    Year  MSHA ID                       Mine_Name  Production  Labor_Hours\n",
      "0  2013   103381            Tacoa Highwall Miner       56004        22392\n",
      "1  2013   103404                Reid School Mine       28807        28447\n",
      "2  2013   100759  North River #1 Underground Min     1440115       474784\n",
      "3  2013   103246                      Bear Creek       87587        29193\n",
      "4  2013   103451                     Knight Mine      147499        46393\n",
      "5  2013   103433              Crane Central Mine       69339        47195\n",
      "dataframe after merging sheet1,sheet2,sheet3:-\n",
      "    Year  MSHA ID                       Mine_Name  Production  Labor_Hours\n",
      "0  2013   103381            Tacoa Highwall Miner       56004        22392\n",
      "1  2013   103404                Reid School Mine       28807        28447\n",
      "2  2013   100759  North River #1 Underground Min     1440115       474784\n",
      "3  2013   103246                      Bear Creek       87587        29193\n",
      "4  2013   103451                     Knight Mine      147499        46393\n",
      "5  2013   103433              Crane Central Mine       69339        47195\n"
     ]
    }
   ],
   "source": [
    "import pandas\n",
    "xls = pandas.ExcelFile('coalpublic2013.xlsx')\n",
    "dataframe1211 = pandas.read_excel(xls,'Sheet1')\n",
    "dataframe1212 = pandas.read_excel(xls,'Sheet2')\n",
    "dataframe1213 = pandas.read_excel(xls,'Sheet3')\n",
    "print('dataframe for sheet1:-\\n',dataframe1211.head(2))\n",
    "print('datafrmae for sheet2:-\\n',dataframe1212.head(4))\n",
    "print('dataframe for sheet3:-\\n',dataframe1213.head(6))\n",
    "dataframe121all = dataframe1211.append(dataframe1212)\n",
    "dataframe121all = dataframe121all.append(dataframe1213)\n",
    "print('dataframe after merging sheet1,sheet2,sheet3:-\\n',dataframe121all.head(6))"
   ]
  },
  {
   "cell_type": "markdown",
   "metadata": {},
   "source": [
    "Q 122. Write a pandas program to import three datasheets from a given   excel data (employee.xlsx ) into a single data frame and export the   result into new Excel file.                          Note: Structure of three datasheets are same. "
   ]
  },
  {
   "cell_type": "code",
   "execution_count": 120,
   "metadata": {},
   "outputs": [
    {
     "name": "stdout",
     "output_type": "stream",
     "text": [
      "After reading from newly created file:-\n",
      "    Unnamed: 0  Year  MSHA ID                       Mine_Name  Production  \\\n",
      "0           0  2013   103381            Tacoa Highwall Miner       56004   \n",
      "1           1  2013   103404                Reid School Mine       28807   \n",
      "2           2  2013   100759  North River #1 Underground Min     1440115   \n",
      "3           3  2013   103246                      Bear Creek       87587   \n",
      "4           4  2013   103451                     Knight Mine      147499   \n",
      "5           5  2013   103433              Crane Central Mine       69339   \n",
      "\n",
      "   Labor_Hours  \n",
      "0        22392  \n",
      "1        28447  \n",
      "2       474784  \n",
      "3        29193  \n",
      "4        46393  \n",
      "5        47195  \n"
     ]
    }
   ],
   "source": [
    "import pandas\n",
    "xls = pandas.ExcelFile('coalpublic2013.xlsx')\n",
    "dataframe1211 = pandas.read_excel(xls,'Sheet1')\n",
    "dataframe1212 = pandas.read_excel(xls,'Sheet2')\n",
    "dataframe1213 = pandas.read_excel(xls,'Sheet3')\n",
    "dataframe121all = dataframe1211.append(dataframe1212)\n",
    "dataframe121all = dataframe121all.append(dataframe1213)\n",
    "dataframe121all.to_excel('output122.xlsx')\n",
    "dataframereadoutput = pandas.read_excel('output122.xlsx')\n",
    "print('After reading from newly created file:-\\n',dataframereadoutput.head(6))"
   ]
  },
  {
   "cell_type": "markdown",
   "metadata": {},
   "source": [
    "Q123. Write a pandas program to create the Pivot table with multiple   indexes from the data set of the  titanic.csv. "
   ]
  },
  {
   "cell_type": "code",
   "execution_count": 128,
   "metadata": {},
   "outputs": [
    {
     "name": "stdout",
     "output_type": "stream",
     "text": [
      "create a pivout table with multiple indexes:-\n",
      ",table123                  adult_male        age     alone       fare     parch  \\\n",
      "survived pclass                                                         \n",
      "0        1         0.962500  43.695312  0.637500  64.684008  0.300000   \n",
      "         2         0.938144  33.544444  0.701031  19.412328  0.144330   \n",
      "         3         0.755376  26.555556  0.685484  13.669364  0.384409   \n",
      "1        1         0.308824  35.368197  0.426471  95.608029  0.389706   \n",
      "         2         0.091954  25.901566  0.413793  22.055700  0.643678   \n",
      "         3         0.319328  20.646118  0.579832  13.694887  0.420168   \n",
      "\n",
      "                    sibsp  \n",
      "survived pclass            \n",
      "0        1       0.287500  \n",
      "         2       0.319588  \n",
      "         3       0.672043  \n",
      "1        1       0.492647  \n",
      "         2       0.494253  \n",
      "         3       0.436975  \n"
     ]
    }
   ],
   "source": [
    "import pandas\n",
    "dataframe123 = pandas.read_csv('titanic.csv')\n",
    "table123 = pandas.pivot_table(dataframe123,index=['survived','pclass'])\n",
    "print('create a pivout table with multiple indexes:-\\n,table123',table123)"
   ]
  },
  {
   "cell_type": "markdown",
   "metadata": {},
   "source": [
    "Q124. Write a Pandas program to create the Pivot table and find survival   rate by gender"
   ]
  },
  {
   "cell_type": "code",
   "execution_count": 135,
   "metadata": {},
   "outputs": [
    {
     "name": "stdout",
     "output_type": "stream",
     "text": [
      "pivot table, survival rate:-\n",
      "                  survived\n",
      "sex    age               \n",
      "female (0, 20]   0.688312\n",
      "       (20, 35]  0.783784\n",
      "       (35, 55]  0.765625\n",
      "male   (0, 20]   0.284314\n",
      "       (20, 35]  0.183575\n",
      "       (35, 55]  0.194690\n"
     ]
    }
   ],
   "source": [
    "import pandas\n",
    "import numpy\n",
    "dataframe124 = pandas.read_csv('titanic.csv')\n",
    "age124 = pandas.cut(dataframe124['age'],[0,20,35,55])\n",
    "result = dataframe124.pivot_table('survived',index=['sex',age124])\n",
    "print('pivot table, survival rate:-\\n',result)"
   ]
  },
  {
   "cell_type": "markdown",
   "metadata": {},
   "source": [
    "Q125. Write a pandas program to make partition each of the passengers   into 4 categories based on their age.                          Note: Age categories- (0, 10), (10, 30), (30, 60), (60, 80) "
   ]
  },
  {
   "cell_type": "code",
   "execution_count": 140,
   "metadata": {},
   "outputs": [
    {
     "name": "stdout",
     "output_type": "stream",
     "text": [
      "Age categories:-\n",
      " 0      (20.0, 40.0]\n",
      "1      (20.0, 40.0]\n",
      "2      (20.0, 40.0]\n",
      "3      (20.0, 40.0]\n",
      "4      (20.0, 40.0]\n",
      "           ...     \n",
      "886    (20.0, 40.0]\n",
      "887     (0.0, 20.0]\n",
      "888             NaN\n",
      "889    (20.0, 40.0]\n",
      "890    (20.0, 40.0]\n",
      "Name: age, Length: 891, dtype: category\n",
      "Categories (4, interval[int64]): [(0, 20] < (20, 40] < (40, 60] < (60, 80]]\n"
     ]
    }
   ],
   "source": [
    "import pandas\n",
    "import numpy\n",
    "dataframe124 = pandas.read_csv('titanic.csv')\n",
    "age125 = pandas.cut(dataframe124['age'],[0,20,40,60,80])\n",
    "print('Age categories:-\\n',age125)"
   ]
  },
  {
   "cell_type": "markdown",
   "metadata": {},
   "source": [
    "Q126. Write a pandas program to create the Pivot table and find survival   rate by the gender, age of the different categories of various   classes"
   ]
  },
  {
   "cell_type": "code",
   "execution_count": 142,
   "metadata": {},
   "outputs": [
    {
     "name": "stdout",
     "output_type": "stream",
     "text": [
      "pivot table, survival rate:-\n",
      " class               First    Second     Third\n",
      "sex    age                                   \n",
      "female (0, 20]   0.928571  1.000000  0.510638\n",
      "       (20, 35]  0.969697  0.921053  0.500000\n",
      "       (35, 55]  0.967742  0.894737  0.142857\n",
      "male   (0, 20]   0.571429  0.526316  0.197368\n",
      "       (20, 35]  0.535714  0.060000  0.155039\n",
      "       (35, 55]  0.382979  0.041667  0.071429\n"
     ]
    }
   ],
   "source": [
    "import pandas\n",
    "import numpy\n",
    "dataframe124 = pandas.read_csv('titanic.csv')\n",
    "age125 = pandas.cut(dataframe124['age'],[0,20,35,55])\n",
    "result = dataframe124.pivot_table('survived',index=['sex',age125],columns='class')\n",
    "print('pivot table, survival rate:-\\n',result)"
   ]
  },
  {
   "cell_type": "markdown",
   "metadata": {},
   "source": [
    "Q127. Write a pandas program to create the Pivot table and calculate   number of women and men were in a particular cabin class"
   ]
  },
  {
   "cell_type": "code",
   "execution_count": 143,
   "metadata": {},
   "outputs": [
    {
     "name": "stdout",
     "output_type": "stream",
     "text": [
      "pivot table, survival rate:-\n",
      "        Unnamed: 15       adult_male            age          alive  ... parch  \\\n",
      "pclass           1  2  3          1    2    3    1   2    3     1  ...     3   \n",
      "sex                                                                ...         \n",
      "female           0  0  0         94   76  144   85  74  102    94  ...   144   \n",
      "male             0  0  0        122  108  347  101  99  253   122  ...   347   \n",
      "\n",
      "       sibsp           survived            who            \n",
      "pclass     1    2    3        1    2    3    1    2    3  \n",
      "sex                                                       \n",
      "female    94   76  144       94   76  144   94   76  144  \n",
      "male     122  108  347      122  108  347  122  108  347  \n",
      "\n",
      "[2 rows x 42 columns]\n"
     ]
    }
   ],
   "source": [
    "import pandas\n",
    "import numpy\n",
    "dataframe127 = pandas.read_csv('titanic.csv')\n",
    "age127 = pandas.cut(dataframe124['age'],[0,20,35,55])\n",
    "result127 = dataframe127.pivot_table(index=['sex'],columns=['pclass'],aggfunc='count')\n",
    "print('pivot table, survival rate:-\\n',result127)"
   ]
  },
  {
   "cell_type": "markdown",
   "metadata": {},
   "source": [
    "Q128. Write a pandas program to create the Pivot table and separate   the gender according to whether they travelled alone or not to get   the probability of survival \n",
    " "
   ]
  },
  {
   "cell_type": "code",
   "execution_count": 148,
   "metadata": {},
   "outputs": [
    {
     "name": "stdout",
     "output_type": "stream",
     "text": [
      "pivot table, survival rate:-\n",
      "               survived\n",
      "sex    alone          \n",
      "female False  0.712766\n",
      "       True   0.785714\n",
      "male   False  0.271084\n",
      "       True   0.155718\n"
     ]
    }
   ],
   "source": [
    "import pandas\n",
    "import numpy\n",
    "dataframe128 = pandas.read_csv('titanic.csv')\n",
    "result128 = dataframe128.pivot_table('survived',index=['sex','alone'])\n",
    "print('pivot table, survival rate:-\\n',result128)"
   ]
  },
  {
   "cell_type": "markdown",
   "metadata": {},
   "source": [
    "Q129. Write a pandas program to create the Pivot table and find the   probability of survival by class, gender, solo boarding, and the port   of embarkation. "
   ]
  },
  {
   "cell_type": "code",
   "execution_count": 166,
   "metadata": {},
   "outputs": [
    {
     "name": "stdout",
     "output_type": "stream",
     "text": [
      "pivot table, survival rate:-\n",
      " class            First                           Second             \\\n",
      "embark_town  Cherbourg Queenstown Southampton Cherbourg Queenstown   \n",
      "sex    alone                                                         \n",
      "female False  1.000000        1.0    0.941176  1.000000        NaN   \n",
      "       True   0.944444        NaN    1.000000  1.000000        1.0   \n",
      "male   False  0.473684        0.0    0.407407  0.166667        NaN   \n",
      "       True   0.347826        NaN    0.326923  0.250000        0.0   \n",
      "\n",
      "class                        Third                         \n",
      "embark_town  Southampton Cherbourg Queenstown Southampton  \n",
      "sex    alone                                               \n",
      "female False    0.923077  0.611111   0.625000    0.327586  \n",
      "       True     0.892857  0.800000   0.760000    0.466667  \n",
      "male   False    0.300000  0.500000   0.100000    0.142857  \n",
      "       True     0.089552  0.151515   0.068966    0.123762  \n"
     ]
    }
   ],
   "source": [
    "import pandas\n",
    "import numpy\n",
    "dataframe129 = pandas.read_csv('titanic.csv')\n",
    "age129 = pandas.cut(dataframe124['age'],[0,20,35,55])\n",
    "result129 = dataframe129.pivot_table('survived',['sex','alone'],['class','embark_town'])\n",
    "print('pivot table, survival rate:-\\n',result129)"
   ]
  },
  {
   "cell_type": "markdown",
   "metadata": {},
   "source": [
    "Q130. Write a pandas program to get current date, oldest date and   number of days between Current date and the  oldest date of Ufo   dataset. \n",
    " "
   ]
  },
  {
   "cell_type": "code",
   "execution_count": 196,
   "metadata": {},
   "outputs": [
    {
     "name": "stdout",
     "output_type": "stream",
     "text": [
      "value of program with current date, oldest date and number of days between current date and oldest date\n",
      "34523\n"
     ]
    }
   ],
   "source": [
    "#dataframe130 = pandas.read_csv('ufo_sighting_data.csv',)\n",
    "dataframe130 = pandas.read_csv('ufo_data.txt',sep=',')\n",
    "dataframe130['Date_time'] = pandas.to_datetime(dataframe130['Date_time'])\n",
    "#dataframe130['Date_time'] = dataframe130['Date_time'].astype('datetime64[ns]')\n",
    "print('value of program with current date, oldest date and number of days between current date and oldest date')\n",
    "print((dataframe130['Date_time'].max()-dataframe130['Date_time'].min()).days)"
   ]
  },
  {
   "cell_type": "markdown",
   "metadata": {},
   "source": [
    "Q131. Write a pandas program to get all sighting days of the   unidentified flying object (ufo) between 1950-10-10 and 1960-10-  10"
   ]
  },
  {
   "cell_type": "code",
   "execution_count": 209,
   "metadata": {},
   "outputs": [
    {
     "name": "stdout",
     "output_type": "stream",
     "text": [
      "unidentified flying object between 1950 to 1960              Date_time              city state/province country UFO_shape  \\\n",
      "33 1951-06-01 07:00:00  brandon (canada)             mb      ca      disk   \n",
      "34 1951-07-01 03:00:00     otis orchards             wa      us      disk   \n",
      "35 1951-02-03 22:00:00     thompsonville             ct      us      disk   \n",
      "\n",
      "    length_of_encounter_seconds described_duration_of_encounter  \\\n",
      "33                         1800                      30 minutes   \n",
      "34                          120                      ~2 minutes   \n",
      "35                           30                      30 seconds   \n",
      "\n",
      "                                          description date_documented  \\\n",
      "33  Circular Craft and Man in Black Sighted in Sum...      02/18/2001   \n",
      "34  Cigar shaped Disc darting back and forth (East...      12/23/2013   \n",
      "35  A golden-orange glowing bowl&#44 flat on top&#...      07/25/2004   \n",
      "\n",
      "     latitude   longitude startingpoint endingpoint  \n",
      "33  49.833333  -99.950000    1950-10-10  1960-10-10  \n",
      "34  47.700556 -117.105278    1950-10-10  1960-10-10  \n",
      "35  41.996944  -72.599444    1950-10-10  1960-10-10  \n"
     ]
    }
   ],
   "source": [
    "dataframe131 = pandas.read_csv('ufo_data.txt',sep=',')\n",
    "dataframe131['Date_time'] = pandas.to_datetime(dataframe131['Date_time'])\n",
    "dataframe131['startingpoint'] = '1950-10-10 00:00:00'\n",
    "#dataframe131['startingpoint']  = pandas.to_datetime(dataframe130['startingpoint'])\n",
    "dataframe131['startingpoint'] = dataframe131['startingpoint'].astype('datetime64')\n",
    "dataframe131['endingpoint'] = '1960-10-10 00:00:00'\n",
    "#dataframe131['startingpoint'] = pandas.to_datetime(dataframe130['endingpoint'])\n",
    "dataframe131['endingpoint'] = dataframe131['endingpoint'].astype('datetime64')\n",
    "dataframe1312 = dataframe131[(dataframe131['Date_time'] >= dataframe131['startingpoint'] ) & (dataframe131['Date_time'] <= dataframe131['endingpoint'])]\n",
    "print('unidentified flying object between 1950 to 1960',dataframe1312.head(3))"
   ]
  },
  {
   "cell_type": "markdown",
   "metadata": {},
   "source": [
    "Q132. Write a Pandas program to extract the year, month, day, hour,  minute, second, and weekday from unidentified flying object (UFO)  reporting date"
   ]
  },
  {
   "cell_type": "code",
   "execution_count": 216,
   "metadata": {},
   "outputs": [
    {
     "name": "stdout",
     "output_type": "stream",
     "text": [
      "extract of the year:-\n",
      " 0    1910\n",
      "1    1920\n",
      "2    1929\n",
      "Name: Date_time, dtype: int64\n",
      "extract of the month:-\n",
      " 0    6\n",
      "1    6\n",
      "2    7\n",
      "Name: Date_time, dtype: int64\n",
      "extract of the day:-\n",
      " 0     1\n",
      "1    11\n",
      "2     5\n",
      "Name: Date_time, dtype: int64\n",
      "extract of the hour:-\n",
      " 0    15\n",
      "1    21\n",
      "2    14\n",
      "Name: Date_time, dtype: int64\n",
      "extract of the minutes:-\n",
      " 0    0\n",
      "1    0\n",
      "2    0\n",
      "Name: Date_time, dtype: int64\n",
      "extract of the seconds:-\n",
      " 0    0\n",
      "1    0\n",
      "2    0\n",
      "Name: Date_time, dtype: int64\n",
      "extract of the weekday:-\n",
      " 0    2\n",
      "1    4\n",
      "2    4\n",
      "Name: Date_time, dtype: int64\n"
     ]
    }
   ],
   "source": [
    "dataframe132 = pandas.read_csv('ufo_data.txt',sep=',')\n",
    "dataframe132['Date_time'] = pandas.to_datetime(dataframe132['Date_time'])\n",
    "print('extract of the year:-\\n',dataframe132['Date_time'].dt.year.head(3))\n",
    "print('extract of the month:-\\n',dataframe132['Date_time'].dt.month.head(3))\n",
    "print('extract of the day:-\\n',dataframe132['Date_time'].dt.day.head(3))\n",
    "print('extract of the hour:-\\n',dataframe132['Date_time'].dt.hour.head(3))\n",
    "print('extract of the minutes:-\\n',dataframe132['Date_time'].dt.minute.head(3))\n",
    "print('extract of the seconds:-\\n',dataframe132['Date_time'].dt.second.head(3))\n",
    "print('extract of the weekday:-\\n',dataframe132['Date_time'].dt.weekday.head(3))"
   ]
  },
  {
   "cell_type": "markdown",
   "metadata": {},
   "source": [
    "Q133. Write a pandas program to count year-country wise frequency of  reporting dates of the unidentified flying object(UFO). "
   ]
  },
  {
   "cell_type": "code",
   "execution_count": 218,
   "metadata": {},
   "outputs": [
    {
     "data": {
      "text/plain": [
       "year  country\n",
       "1910  us          1\n",
       "1920  us          1\n",
       "1929  us          1\n",
       "1931  us          1\n",
       "1939  us          2\n",
       "                 ..\n",
       "2002  ca          1\n",
       "      us         13\n",
       "2003  us          9\n",
       "2004  ca          1\n",
       "      us          6\n",
       "Length: 79, dtype: int64"
      ]
     },
     "execution_count": 218,
     "metadata": {},
     "output_type": "execute_result"
    }
   ],
   "source": [
    "dataframe133 = pandas.read_csv('ufo_data.txt',sep=',')\n",
    "dataframe133['Date_time'] = pandas.to_datetime(dataframe133['Date_time'])\n",
    "dataframe133['year'] = dataframe133['Date_time'].dt.year\n",
    "datecountry = dataframe133.groupby(['year','country'])\n",
    "datecountry.size()"
   ]
  },
  {
   "cell_type": "markdown",
   "metadata": {},
   "source": [
    "Q134.  Write a pandas program to get the difference (in days) between  \n",
    " documented date and reporting date of unidentified flying object   (UFO"
   ]
  },
  {
   "cell_type": "code",
   "execution_count": 221,
   "metadata": {},
   "outputs": [
    {
     "name": "stdout",
     "output_type": "stream",
     "text": [
      "difference in days b/w date and reporting date:-\n",
      " 0      15\n",
      "1       1\n",
      "2      11\n",
      "3      13\n",
      "4      20\n",
      "       ..\n",
      "342     4\n",
      "343    21\n",
      "344     2\n",
      "345    -1\n",
      "346     2\n",
      "Name: diffdays, Length: 347, dtype: int64\n"
     ]
    }
   ],
   "source": [
    "dataframe134 = pandas.read_csv('ufo_data.txt',sep=',')\n",
    "dataframe134['Date_time'] = pandas.to_datetime(dataframe133['Date_time'])\n",
    "day134dt = dataframe134['Date_time'].dt.day\n",
    "dataframe134['date_documented'] = pandas.to_datetime(dataframe134['date_documented'])\n",
    "day134dd = dataframe134['date_documented'].dt.day\n",
    "dataframe134['diffdays'] = day134dd - day134dt\n",
    "print('difference in days b/w date and reporting date:-\\n',dataframe134['diffdays'])"
   ]
  },
  {
   "cell_type": "markdown",
   "metadata": {},
   "source": [
    "Q135. Write a pandas program to generate sequences of fixed-  frequency dates and time spans. "
   ]
  },
  {
   "cell_type": "code",
   "execution_count": 223,
   "metadata": {},
   "outputs": [
    {
     "name": "stdout",
     "output_type": "stream",
     "text": [
      "sequence of fixed frequency dates and time spans\n",
      "DatetimeIndex(['2020-01-01 00:00:00', '2020-01-01 12:00:00',\n",
      "               '2020-01-02 00:00:00', '2020-01-02 12:00:00',\n",
      "               '2020-01-03 00:00:00', '2020-01-03 12:00:00',\n",
      "               '2020-01-04 00:00:00', '2020-01-04 12:00:00',\n",
      "               '2020-01-05 00:00:00', '2020-01-05 12:00:00',\n",
      "               '2020-01-06 00:00:00', '2020-01-06 12:00:00',\n",
      "               '2020-01-07 00:00:00', '2020-01-07 12:00:00',\n",
      "               '2020-01-08 00:00:00', '2020-01-08 12:00:00',\n",
      "               '2020-01-09 00:00:00', '2020-01-09 12:00:00',\n",
      "               '2020-01-10 00:00:00'],\n",
      "              dtype='datetime64[ns]', freq='12H')\n"
     ]
    }
   ],
   "source": [
    "dataframe135 = pandas.date_range(start='1-1-2020',end='1-10-2020',freq='12H')\n",
    "print('sequence of fixed frequency dates and time spans')\n",
    "print(dataframe135)"
   ]
  },
  {
   "cell_type": "markdown",
   "metadata": {},
   "source": [
    "Q136. Write a pandas program to manipulate and convert date times   with timezone information. "
   ]
  },
  {
   "cell_type": "code",
   "execution_count": 228,
   "metadata": {},
   "outputs": [
    {
     "name": "stdout",
     "output_type": "stream",
     "text": [
      "manipulate and converate date time with timezone\n",
      "DatetimeIndex(['2018-01-01 05:30:00+05:30', '2018-01-01 06:30:00+05:30',\n",
      "               '2018-01-01 07:30:00+05:30'],\n",
      "              dtype='datetime64[ns, Asia/Calcutta]', freq='H')\n"
     ]
    }
   ],
   "source": [
    "import pandas\n",
    "datetimerange = pandas.date_range('2018-01-01',periods=3,freq='H')\n",
    "print('manipulate and converate date time with timezone')\n",
    "print(datetimerange.tz_localize('UTC').tz_convert('Asia/Calcutta'))"
   ]
  },
  {
   "cell_type": "markdown",
   "metadata": {},
   "source": [
    "Q137. Write a pandas program to create the graphical analysis of UFO   (unidentified flying object)   Sightings year"
   ]
  },
  {
   "cell_type": "code",
   "execution_count": 230,
   "metadata": {},
   "outputs": [
    {
     "name": "stderr",
     "output_type": "stream",
     "text": [
      "C:\\Users\\LENOVO IP110\\Anaconda3\\lib\\site-packages\\ipykernel_launcher.py:9: FutureWarning: The 'get_values' method is deprecated and will be removed in a future version. Use '.to_numpy()' or '.array' instead.\n",
      "  if __name__ == '__main__':\n"
     ]
    },
    {
     "data": {
      "image/png": "[encoded data removed]",
      "text/plain": [
       "<Figure size 1080x576 with 1 Axes>"
      ]
     },
     "metadata": {
      "needs_background": "light"
     },
     "output_type": "display_data"
    }
   ],
   "source": [
    "import pandas\n",
    "import matplotlib.pyplot as plt\n",
    "import seaborn as sns\n",
    "dataframe137 = pandas.read_csv('ufo_data.txt',sep=',')\n",
    "dataframe137['Date_time'] = pandas.to_datetime(dataframe133['Date_time'])\n",
    "years = dataframe137.Date_time.dt.year\n",
    "years_count = years.value_counts()\n",
    "years_index = years_count.index\n",
    "years_count_value = years_count.get_values()\n",
    "plt.figure(figsize=(15,8))\n",
    "plt.xticks(rotation = 60)\n",
    "plt.title('UFO sightting by year')\n",
    "plt.xlabel('year')\n",
    "plt.ylabel('number of reports')\n",
    "years_plot = sns.barplot(x=years_index[:60],y=years_count_value[:60],palette='Reds')"
   ]
  },
  {
   "cell_type": "markdown",
   "metadata": {},
   "source": [
    "Q138. Write a pandas program to create a comparison of the top 10   years in which the (UFO) was sighted VS each Month. "
   ]
  },
  {
   "cell_type": "code",
   "execution_count": 241,
   "metadata": {},
   "outputs": [
    {
     "name": "stdout",
     "output_type": "stream",
     "text": [
      "month1   1    2    3    4    5    6    7    8    9    10   11   12\n",
      "year1                                                             \n",
      "1993.0  NaN  NaN  1.0  1.0  NaN  1.0  3.0  2.0  3.0  NaN  1.0  NaN\n",
      "1994.0  2.0  NaN  3.0  2.0  2.0  NaN  NaN  1.0  NaN  NaN  NaN  1.0\n",
      "1995.0  2.0  1.0  NaN  1.0  1.0  1.0  3.0  NaN  1.0  NaN  2.0  NaN\n",
      "1996.0  NaN  1.0  NaN  1.0  1.0  1.0  3.0  3.0  1.0  NaN  1.0  NaN\n",
      "1997.0  NaN  2.0  1.0  NaN  2.0  1.0  3.0  1.0  1.0  1.0  1.0  1.0\n",
      "1998.0  1.0  2.0  1.0  3.0  NaN  2.0  1.0  NaN  NaN  1.0  NaN  2.0\n",
      "1999.0  NaN  NaN  2.0  NaN  1.0  2.0  4.0  NaN  NaN  1.0  NaN  1.0\n",
      "2000.0  NaN  3.0  2.0  NaN  2.0  1.0  1.0  NaN  NaN  NaN  1.0  2.0\n",
      "2001.0  2.0  1.0  2.0  2.0  1.0  2.0  NaN  1.0  2.0  NaN  1.0  1.0\n",
      "2002.0  3.0  1.0  1.0  NaN  3.0  NaN  2.0  1.0  2.0  1.0  NaN  NaN\n"
     ]
    }
   ],
   "source": [
    "import pandas as pd\n",
    "import matplotlib.pyplot as plt\n",
    "import seaborn as sns\n",
    "dataframe138 = pandas.read_csv('ufo_data.txt',sep=',')\n",
    "dataframe138['Date_time'] = pandas.to_datetime(dataframe138['Date_time']).dt.strftime('%m-%d-%y %H:%M:%S')\n",
    "toptenyears = pandas.to_datetime(dataframe138['Date_time']).dt.year.value_counts().head(10)\n",
    "dataframe138['month1'] = pandas.to_datetime(dataframe138['Date_time']).dt.month\n",
    "dataframe138['year1'] = pandas.to_datetime(dataframe138['Date_time']).dt.year\n",
    "def istopyears(year):\n",
    "    if year in toptenyears.index:\n",
    "        return year\n",
    "monthsvsyear = dataframe138.pivot_table(columns=['month1'],index=dataframe138['year1'].apply(istopyears),aggfunc='count',values='city')  \n",
    "print(monthsvsyear)"
   ]
  },
  {
   "cell_type": "markdown",
   "metadata": {},
   "source": [
    "Q139. Write a pandas program to create a heatmap (rectangular data as  a colour-encoded matrix) for comparison of top 10 years in   which  (UFO ) was sighted VS each Month. \n",
    " "
   ]
  },
  {
   "cell_type": "code",
   "execution_count": 246,
   "metadata": {},
   "outputs": [
    {
     "name": "stdout",
     "output_type": "stream",
     "text": [
      "\n",
      " Heatmap for comparsion of the top 10 years in which UFO was sighted vs each month\n"
     ]
    },
    {
     "data": {
      "image/png": "[encoded data removed]",
      "text/plain": [
       "<Figure size 720x576 with 2 Axes>"
      ]
     },
     "metadata": {
      "needs_background": "light"
     },
     "output_type": "display_data"
    }
   ],
   "source": [
    "import pandas as pd\n",
    "import matplotlib.pyplot as plt\n",
    "import seaborn as sns\n",
    "dataframe139 = pandas.read_csv('ufo_data.txt',sep=',')\n",
    "dataframe139['Date_time'] = pandas.to_datetime(dataframe138['Date_time']).dt.strftime('%m-%d-%y %H:%M:%S')\n",
    "toptenyears = pandas.to_datetime(dataframe138['Date_time']).dt.year.value_counts().head(10)\n",
    "dataframe139['month1'] = pandas.to_datetime(dataframe139['Date_time']).dt.month\n",
    "dataframe139['year1'] = pandas.to_datetime(dataframe139['Date_time']).dt.year\n",
    "def istopyears(year):\n",
    "    if year in toptenyears.index:\n",
    "        return year\n",
    "monthsvsyear = dataframe139.pivot_table(columns=['month1'],index=dataframe139['year1'].apply(istopyears),aggfunc='count',values='city')  \n",
    "print(\"\\n Heatmap for comparsion of the top 10 years in which UFO was sighted vs each month\")\n",
    "plt.figure(figsize=(10,8))\n",
    "ax = sns.heatmap(monthsvsyear,vmin=0,vmax=4)\n",
    "ax.set_xlabel('Month').set_size(20)\n",
    "ax.set_ylabel('Year').set_size(20)\n",
    "plt.show()"
   ]
  },
  {
   "cell_type": "markdown",
   "metadata": {},
   "source": [
    "Q140. Write a pandas program to create a Timewheel of Hour VS Year comparison of the top 10 years in which the (UFO) was sighted"
   ]
  },
  {
   "cell_type": "code",
   "execution_count": 250,
   "metadata": {},
   "outputs": [
    {
     "name": "stderr",
     "output_type": "stream",
     "text": [
      "C:\\Users\\LENOVO IP110\\Anaconda3\\lib\\site-packages\\matplotlib\\colors.py:527: RuntimeWarning: invalid value encountered in less\n",
      "  xa[xa < 0] = -1\n"
     ]
    },
    {
     "data": {
      "image/png": "[encoded data removed]",
      "text/plain": [
       "<Figure size 576x576 with 1 Axes>"
      ]
     },
     "metadata": {},
     "output_type": "display_data"
    }
   ],
   "source": [
    "import pandas as pd\n",
    "import matplotlib as mpl\n",
    "import matplotlib.pyplot as plt\n",
    "import matplotlib.cm as cm\n",
    "import seaborn as sns\n",
    "dataframe138 = pandas.read_csv('ufo_data.txt',sep=',')\n",
    "dataframe138['Date_time'] = pandas.to_datetime(dataframe138['Date_time']).dt.strftime('%m-%d-%y %H:%M:%S')\n",
    "toptenyears = pandas.to_datetime(dataframe138['Date_time']).dt.year.value_counts().head(10)\n",
    "dataframe138['month1'] = pandas.to_datetime(dataframe138['Date_time']).dt.month\n",
    "dataframe138['year1'] = pandas.to_datetime(dataframe138['Date_time']).dt.year\n",
    "def istopyears(year):\n",
    "    if year in toptenyears.index:\n",
    "        return year\n",
    "monthsvsyear = dataframe138.pivot_table(columns=['month1'],index=dataframe138['year1'].apply(istopyears),aggfunc='count',values='city')\n",
    "def pie_heatmap(table, cmap='coolwarm_r', vmin=None, vmax=None,inner_r=0.25, pie_args={}):\n",
    "   n, m = table.shape\n",
    "   vmin= table.min().min() if vmin is None else vmin\n",
    "   vmax= table.max().max() if vmax is None else vmax\n",
    "\n",
    "   centre_circle = plt.Circle((0,0),inner_r,edgecolor='black',facecolor='white',fill=True,linewidth=0.25)\n",
    "   plt.gcf().gca().add_artist(centre_circle)\n",
    "   norm = mpl.colors.Normalize(vmin=vmin, vmax=vmax)\n",
    "   cmapper = cm.ScalarMappable(norm=norm, cmap=cmap)\n",
    "\n",
    "   for i, (row_name, row) in enumerate(table.iterrows()):\n",
    "       labels = None if i > 0 else table.columns\n",
    "       wedges = plt.pie([1] * m,radius=inner_r+float(n-i)/n, colors=[cmapper.to_rgba(x) for x in row.values],\n",
    "           labels=labels, startangle=90, counterclock=False, wedgeprops={'linewidth':-1}, **pie_args)\n",
    "       plt.setp(wedges[0], edgecolor='grey',linewidth=1.5)\n",
    "       wedges = plt.pie([1], radius=inner_r+float(n-i-1)/n, colors=['w'], labels=[row_name], startangle=-90, wedgeprops={'linewidth':0})\n",
    "       plt.setp(wedges[0], edgecolor='grey',linewidth=1.5)\n",
    "plt.figure(figsize=(8,8))\n",
    "plt.title(\"Timewheel of Hour Vs Year\",y=1.08,fontsize=30)\n",
    "pie_heatmap(monthsvsyear, vmin=-20,vmax=80,inner_r=0.2)\n",
    "plt.show()"
   ]
  },
  {
   "cell_type": "markdown",
   "metadata": {},
   "source": [
    "Q141. Write a python program to draw the line using given axis values   with the suitable label in the x-axis, y-axis, and a title"
   ]
  },
  {
   "cell_type": "code",
   "execution_count": 254,
   "metadata": {},
   "outputs": [
    {
     "name": "stdout",
     "output_type": "stream",
     "text": [
      "<class 'pandas.core.frame.DataFrame'>\n",
      "Int64Index: 3 entries, 1 to 3\n",
      "Data columns (total 1 columns):\n",
      "key1    3 non-null float64\n",
      "dtypes: float64(1)\n",
      "memory usage: 48.0 bytes\n"
     ]
    },
    {
     "data": {
      "text/plain": [
       "<matplotlib.axes._subplots.AxesSubplot at 0x29f031eb188>"
      ]
     },
     "execution_count": 254,
     "metadata": {},
     "output_type": "execute_result"
    },
    {
     "data": {
      "image/png": "[encoded data removed]",
      "text/plain": [
       "<Figure size 432x288 with 1 Axes>"
      ]
     },
     "metadata": {
      "needs_background": "light"
     },
     "output_type": "display_data"
    }
   ],
   "source": [
    "import pandas\n",
    "import matplotlib.pyplot as plt\n",
    "dict = {'key1':['2.0','4.0','1.0']}\n",
    "dataframe141 = pandas.DataFrame(dict,index=[1,2,3])\n",
    "dataframe141['key1'] = dataframe141['key1'].astype(float)\n",
    "dataframe141.info()\n",
    "dataframe141.plot(title='answer141')"
   ]
  },
  {
   "cell_type": "markdown",
   "metadata": {},
   "source": [
    "Q142. Write a python program to draw the line charts of the financial   data of the Alphabet Inc., between October\n",
    "3, 2016 to October 7 2016.  Sample Financial data (fdata.csv)- Date,Open,High,Low,Close 10-03-16,774.25,776.065002,769.5,772.559998 10-04-16 , 776.030029, 778.710022,772.890015,776.429993 \n",
    "10-05-16 , 779.309998, 782.070007,775.650024,776.469971 10-06-16 , 779 , 780.47998,775.539978,776.859985 10-07-16,779.659973, 779.659973 , 770.75 , 775.080017 The code snippet gives the output shown in the screenshot"
   ]
  },
  {
   "cell_type": "code",
   "execution_count": 263,
   "metadata": {},
   "outputs": [
    {
     "data": {
      "text/plain": [
       "<matplotlib.axes._subplots.AxesSubplot at 0x29f00060e48>"
      ]
     },
     "execution_count": 263,
     "metadata": {},
     "output_type": "execute_result"
    },
    {
     "data": {
      "image/png": "[encoded data removed]",
      "text/plain": [
       "<Figure size 432x288 with 1 Axes>"
      ]
     },
     "metadata": {
      "needs_background": "light"
     },
     "output_type": "display_data"
    }
   ],
   "source": [
    "columns142 = ['Date','Open','High','Low','Close']\n",
    "data142 = [['10-03-16',774.25,776.065002,769.5,772.559998],['10-04-16' ,776.030029, 778.710022,772.890015,776.429993],\n",
    "           ['10-05-16', 779.309998, 782.070007,775.650024,776.469971],\n",
    "           ['10-06-16', 779 , 780.47998,775.539978,776.859985],\n",
    "           ['10-07-16',779.659973,779.659973,770.75,775.080017]]\n",
    "dataframe142 = pandas.DataFrame(data142,columns=columns142)\n",
    "dataframe142.plot(title='Alphabet inc between March to Oct 2016')"
   ]
  },
  {
   "cell_type": "markdown",
   "metadata": {},
   "source": [
    "Q143. Write a Python program to plot two or more lines on same plot   with the suitable legends of each line. "
   ]
  },
  {
   "cell_type": "code",
   "execution_count": 275,
   "metadata": {},
   "outputs": [
    {
     "name": "stdout",
     "output_type": "stream",
     "text": [
      "       Date        Open        High         Low       Close\n",
      "0  10-03-16  774.250000  776.065002  769.500000  772.559998\n",
      "1  10-04-16  776.030029  778.710022  772.890015  776.429993\n",
      "2  10-05-16  779.309998  782.070007  775.650024  776.469971\n",
      "3  10-06-16  779.000000  780.479980  775.539978  776.859985\n",
      "4  10-07-16  779.659973  779.659973  770.750000  775.080017\n"
     ]
    },
    {
     "data": {
      "text/plain": [
       "<matplotlib.axes._subplots.AxesSubplot at 0x29f78483cc8>"
      ]
     },
     "execution_count": 275,
     "metadata": {},
     "output_type": "execute_result"
    },
    {
     "data": {
      "image/png": "[encoded data removed]",
      "text/plain": [
       "<Figure size 432x288 with 1 Axes>"
      ]
     },
     "metadata": {
      "needs_background": "light"
     },
     "output_type": "display_data"
    }
   ],
   "source": [
    "columns143 = ['Date','Open','High','Low','Close']\n",
    "data143 = [['10-03-16',774.25,776.065002,769.5,772.559998],['10-04-16' ,776.030029, 778.710022,772.890015,776.429993],\n",
    "           ['10-05-16', 779.309998, 782.070007,775.650024,776.469971],\n",
    "           ['10-06-16', 779 , 780.47998,775.539978,776.859985],\n",
    "           ['10-07-16',779.659973,779.659973,770.75,775.080017]]\n",
    "dataframe143 = pandas.DataFrame(data142,columns=columns142)\n",
    "print(dataframe143)\n",
    "dataframe143.plot()"
   ]
  },
  {
   "cell_type": "markdown",
   "metadata": {},
   "source": [
    "Q144. Write a python programming to display a bar chart of the   popularity of programming languages. \n",
    "Sample data: programming languages- Java, Python, PHP, JavaScript, C#, C++ Popularity- 22.2, 17.6, 8.8, 8, 7.7 , 6.7 The code snippet gives the output shown in the screenshot: "
   ]
  },
  {
   "cell_type": "code",
   "execution_count": 277,
   "metadata": {},
   "outputs": [
    {
     "data": {
      "text/plain": [
       "<matplotlib.axes._subplots.AxesSubplot at 0x29f00cde3c8>"
      ]
     },
     "execution_count": 277,
     "metadata": {},
     "output_type": "execute_result"
    },
    {
     "data": {
      "image/png": "[encoded data removed]",
      "text/plain": [
       "<Figure size 432x288 with 1 Axes>"
      ]
     },
     "metadata": {
      "needs_background": "light"
     },
     "output_type": "display_data"
    }
   ],
   "source": [
    "columns144 = ['Java','Python','PHP','JavaScript','C#','C++']\n",
    "data144 = [[22.2,17.6,8.8,8,7.7,6.7]]\n",
    "dataframe144 = pandas.DataFrame(data143,columns=columns143)\n",
    "dataframe144.plot(kind='bar',title='prolang vs popularity')"
   ]
  },
  {
   "cell_type": "markdown",
   "metadata": {},
   "source": [
    "Q145. Write a python programming to display a horizontal bar chart of   the popularity of programming languages.   \n",
    "Sample data: programming languages- Java, Python, PHP, JavaScript, C#, C++ Popularity- 22.2, 17.6, 8.8, 8, 7.7 , 6.7 The code snippet gives the output shown in the screenshot: Q145. Write a python programming to display a horizontal bar chart of   the popularity of programming languages.   "
   ]
  },
  {
   "cell_type": "code",
   "execution_count": 279,
   "metadata": {},
   "outputs": [
    {
     "data": {
      "text/plain": [
       "<matplotlib.axes._subplots.AxesSubplot at 0x29f06bb4248>"
      ]
     },
     "execution_count": 279,
     "metadata": {},
     "output_type": "execute_result"
    },
    {
     "data": {
      "image/png": "[encoded data removed]",
      "text/plain": [
       "<Figure size 432x288 with 1 Axes>"
      ]
     },
     "metadata": {
      "needs_background": "light"
     },
     "output_type": "display_data"
    }
   ],
   "source": [
    "columns145 = ['Java','Python','PHP','JavaScript','C#','C++']\n",
    "data145  = [[22.2,17.6,8.8,8,7.7,6.7]]\n",
    "dataframe145  = pandas.DataFrame(data145,columns=columns145)\n",
    "dataframe145.plot(kind='barh',title='prolang vs popularity')"
   ]
  },
  {
   "cell_type": "markdown",
   "metadata": {},
   "source": [
    "Q146.  Write a python programming to display a bar chart of the   Popularity of programming languages. Increase bottom margin. \n",
    "programming languages: Java, Python, PHP, JavaScript, C#, C++ Popularity: 22.2, 17.6, 8.8, 8, 7.7 , 6.7 The code snippet gives the output shown in the screenshot: "
   ]
  },
  {
   "cell_type": "code",
   "execution_count": 280,
   "metadata": {},
   "outputs": [
    {
     "data": {
      "text/plain": [
       "<matplotlib.axes._subplots.AxesSubplot at 0x29f06656988>"
      ]
     },
     "execution_count": 280,
     "metadata": {},
     "output_type": "execute_result"
    },
    {
     "data": {
      "image/png": "[encoded data removed]",
      "text/plain": [
       "<Figure size 1440x360 with 1 Axes>"
      ]
     },
     "metadata": {
      "needs_background": "light"
     },
     "output_type": "display_data"
    }
   ],
   "source": [
    "columns146 = ['Java','Python','PHP','JavaScript','C#','C++']\n",
    "data146  = [[22.2,17.6,8.8,8,7.7,6.7]]\n",
    "dataframe146  = pandas.DataFrame(data146,columns=columns146)\n",
    "dataframe146.plot(kind='bar',figsize=(20,5),title='prolang vs popularity')"
   ]
  },
  {
   "cell_type": "markdown",
   "metadata": {},
   "source": [
    "Q147. Write a python program to create the bar plot from a DataFrame.  \n",
    " \n",
    "a b c  d  e 2 4,8,5,7,6 4 2,3,4,2,6 6 4,7,4,7, 8 8 2,6,4,8, 6 10 2,4,3,3, 2 The code snippet gives the output shown in the following screenshot"
   ]
  },
  {
   "cell_type": "code",
   "execution_count": 290,
   "metadata": {},
   "outputs": [
    {
     "data": {
      "text/plain": [
       "<matplotlib.axes._subplots.AxesSubplot at 0x29f00434e48>"
      ]
     },
     "execution_count": 290,
     "metadata": {},
     "output_type": "execute_result"
    },
    {
     "data": {
      "image/png": "[encoded data removed]",
      "text/plain": [
       "<Figure size 432x288 with 1 Axes>"
      ]
     },
     "metadata": {
      "needs_background": "light"
     },
     "output_type": "display_data"
    }
   ],
   "source": [
    "import pandas\n",
    "columns147=['a','b','c','d','e']\n",
    "data147 =[[2,4,8,5,7],[6,4,2,3,4],[2,6,6, 4,7],[4,7, 8, 8,2],[6,4,8, 6, 10], [2,4,3,3, 2]]\n",
    "dataframe147 = pandas.DataFrame(data147,columns=columns147)\n",
    "dataframe147.plot(kind='bar',title='bar chart')"
   ]
  },
  {
   "cell_type": "markdown",
   "metadata": {},
   "source": [
    "Q148. Write a python program to draw the scatter plot comparing two subject marks of Mathematics and Science. Use marks of 10 students.               \n",
    "Sample data: \n",
    "Test Data- math_marks = [88, 92 , 80, 89, 100, 80, 60, 100, 80, 34] science_marks = [35, 79, 79 , 48, 100, 88, 32, 45, 20, 30] marks_range = [10, 20, 30, 40, 50, 60, 70, 80, 90, 100] "
   ]
  },
  {
   "cell_type": "code",
   "execution_count": 300,
   "metadata": {},
   "outputs": [
    {
     "data": {
      "image/png": "[encoded data removed]",
      "text/plain": [
       "<Figure size 432x288 with 1 Axes>"
      ]
     },
     "metadata": {
      "needs_background": "light"
     },
     "output_type": "display_data"
    }
   ],
   "source": [
    "columns148 = ['math_mark','science_marks','marks_range']\n",
    "data148 =  [[88, 92 , 80, 89, 100, 80, 60, 100, 80, 34],[35, 79, 79 , 48, 100, 88, 32, 45, 20, 30],[10, 20, 30, 40, 50, 60, 70, 80, 90, 100]]\n",
    "data148 = {'math_mark':[88, 92 , 80, 89, 100, 80, 60, 100, 80, 34],'science_marks':[35, 79, 79 , 48, 100, 88, 32, 45, 20, 30],\n",
    "          'marks_range':[35, 79, 79 , 48, 100, 88, 32, 45, 20, 30]}\n",
    "dataframe148 = pandas.DataFrame(data148)\n",
    "dataframe148.head(2)\n",
    "ax1481 = dataframe148.plot(kind='scatter',x='marks_range',y='math_mark',color='g')\n",
    "ax1482 = dataframe148.plot(kind='scatter',x='marks_range',y='science_marks',color='r',ax=ax1481)"
   ]
  },
  {
   "cell_type": "markdown",
   "metadata": {},
   "source": [
    "Q149. Write a python program to draw the scatter plot for three different  \n",
    " groups comparing weights and heights. "
   ]
  },
  {
   "cell_type": "code",
   "execution_count": 309,
   "metadata": {},
   "outputs": [
    {
     "data": {
      "image/png": "[encoded data removed]",
      "text/plain": [
       "<Figure size 432x288 with 1 Axes>"
      ]
     },
     "metadata": {
      "needs_background": "light"
     },
     "output_type": "display_data"
    }
   ],
   "source": [
    "columns149 = ['Weight','height','height1','height2']\n",
    "data149 =  {'Weight':[55,60,65,70,75],'height':[100,155,195,215,240],'height1':[120,145,200,195,176],'height2':[103, 136,166,186,199]}\n",
    "dataframe149 = pandas.DataFrame(data149)\n",
    "dataframe149.head(2)\n",
    "ax1 = dataframe149.plot(kind='scatter',x='Weight',y='height',color='r')\n",
    "ax2 = dataframe149.plot(kind='scatter',x='Weight',y='height1',color='g',ax = ax1)\n",
    "ax3 = dataframe149.plot(kind='scatter',x='Weight',y='height2',color='b',ax=ax2)"
   ]
  },
  {
   "cell_type": "markdown",
   "metadata": {},
   "source": [
    "Q150. Write a python program to draw a scatter plot to find sea-level  \n",
    " rise in past 100 years"
   ]
  },
  {
   "cell_type": "code",
   "execution_count": 315,
   "metadata": {},
   "outputs": [
    {
     "data": {
      "text/plain": [
       "<matplotlib.axes._subplots.AxesSubplot at 0x29f006a1048>"
      ]
     },
     "execution_count": 315,
     "metadata": {},
     "output_type": "execute_result"
    },
    {
     "data": {
      "image/png": "[encoded data removed]",
      "text/plain": [
       "<Figure size 1296x360 with 1 Axes>"
      ]
     },
     "metadata": {
      "needs_background": "light"
     },
     "output_type": "display_data"
    }
   ],
   "source": [
    "dataframe150 = pandas.read_csv('data150.txt',sep=',')\n",
    "dataframe150.head(100)\n",
    "dataframe150.plot(kind='scatter',x='year',y='sea_level',title='Rise in Sealevel',color='b',s=2,figsize=(18,5))"
   ]
  }
 ],
 "metadata": {
  "kernelspec": {
   "display_name": "Python 3",
   "language": "python",
   "name": "python3"
  },
  "language_info": {
   "codemirror_mode": {
    "name": "ipython",
    "version": 3
   },
   "file_extension": ".py",
   "mimetype": "text/x-python",
   "name": "python",
   "nbconvert_exporter": "python",
   "pygments_lexer": "ipython3",
   "version": "3.7.4"
  }
 },
 "nbformat": 4,
 "nbformat_minor": 2
}
